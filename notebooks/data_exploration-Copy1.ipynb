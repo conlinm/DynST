{
 "cells": [
  {
   "cell_type": "code",
   "execution_count": 1,
   "id": "824a910d",
   "metadata": {},
   "outputs": [],
   "source": [
    "import pandas as pd\n",
    "import numpy as np"
   ]
  },
  {
   "cell_type": "code",
   "execution_count": 2,
   "id": "3fcc88fe",
   "metadata": {},
   "outputs": [],
   "source": [
    "h5 = pd.HDFStore(\"/home/pchatha/mimic/data/all_hourly_data.h5\")"
   ]
  },
  {
   "cell_type": "code",
   "execution_count": 3,
   "id": "d083bff7",
   "metadata": {},
   "outputs": [
    {
     "data": {
      "text/plain": [
       "['/codes',\n",
       " '/interventions',\n",
       " '/patients',\n",
       " '/vitals_labs',\n",
       " '/vitals_labs_mean',\n",
       " '/patients/meta/values_block_6/meta',\n",
       " '/patients/meta/values_block_5/meta',\n",
       " '/patients/meta/values_block_4/meta',\n",
       " '/patients/meta/values_block_0/meta']"
      ]
     },
     "execution_count": 3,
     "metadata": {},
     "output_type": "execute_result"
    }
   ],
   "source": [
    "h5.keys()"
   ]
  },
  {
   "cell_type": "code",
   "execution_count": 4,
   "id": "5bf7a12c",
   "metadata": {},
   "outputs": [
    {
     "data": {
      "text/html": [
       "<div>\n",
       "<style scoped>\n",
       "    .dataframe tbody tr th:only-of-type {\n",
       "        vertical-align: middle;\n",
       "    }\n",
       "\n",
       "    .dataframe tbody tr th {\n",
       "        vertical-align: top;\n",
       "    }\n",
       "\n",
       "    .dataframe thead th {\n",
       "        text-align: right;\n",
       "    }\n",
       "</style>\n",
       "<table border=\"1\" class=\"dataframe\">\n",
       "  <thead>\n",
       "    <tr style=\"text-align: right;\">\n",
       "      <th></th>\n",
       "      <th></th>\n",
       "      <th></th>\n",
       "      <th></th>\n",
       "      <th>vent</th>\n",
       "      <th>vaso</th>\n",
       "      <th>adenosine</th>\n",
       "      <th>dobutamine</th>\n",
       "      <th>dopamine</th>\n",
       "      <th>epinephrine</th>\n",
       "      <th>isuprel</th>\n",
       "      <th>milrinone</th>\n",
       "      <th>norepinephrine</th>\n",
       "      <th>phenylephrine</th>\n",
       "      <th>vasopressin</th>\n",
       "      <th>colloid_bolus</th>\n",
       "      <th>crystalloid_bolus</th>\n",
       "      <th>nivdurations</th>\n",
       "    </tr>\n",
       "    <tr>\n",
       "      <th>subject_id</th>\n",
       "      <th>hadm_id</th>\n",
       "      <th>icustay_id</th>\n",
       "      <th>hours_in</th>\n",
       "      <th></th>\n",
       "      <th></th>\n",
       "      <th></th>\n",
       "      <th></th>\n",
       "      <th></th>\n",
       "      <th></th>\n",
       "      <th></th>\n",
       "      <th></th>\n",
       "      <th></th>\n",
       "      <th></th>\n",
       "      <th></th>\n",
       "      <th></th>\n",
       "      <th></th>\n",
       "      <th></th>\n",
       "    </tr>\n",
       "  </thead>\n",
       "  <tbody>\n",
       "    <tr>\n",
       "      <th rowspan=\"5\" valign=\"top\">3</th>\n",
       "      <th rowspan=\"5\" valign=\"top\">145834</th>\n",
       "      <th rowspan=\"5\" valign=\"top\">211552</th>\n",
       "      <th>0</th>\n",
       "      <td>1</td>\n",
       "      <td>0</td>\n",
       "      <td>0</td>\n",
       "      <td>0</td>\n",
       "      <td>0</td>\n",
       "      <td>0</td>\n",
       "      <td>0</td>\n",
       "      <td>0</td>\n",
       "      <td>0</td>\n",
       "      <td>0</td>\n",
       "      <td>0</td>\n",
       "      <td>0</td>\n",
       "      <td>0</td>\n",
       "      <td>0</td>\n",
       "    </tr>\n",
       "    <tr>\n",
       "      <th>1</th>\n",
       "      <td>1</td>\n",
       "      <td>1</td>\n",
       "      <td>0</td>\n",
       "      <td>0</td>\n",
       "      <td>1</td>\n",
       "      <td>0</td>\n",
       "      <td>0</td>\n",
       "      <td>0</td>\n",
       "      <td>0</td>\n",
       "      <td>1</td>\n",
       "      <td>0</td>\n",
       "      <td>0</td>\n",
       "      <td>0</td>\n",
       "      <td>0</td>\n",
       "    </tr>\n",
       "    <tr>\n",
       "      <th>2</th>\n",
       "      <td>1</td>\n",
       "      <td>1</td>\n",
       "      <td>0</td>\n",
       "      <td>0</td>\n",
       "      <td>1</td>\n",
       "      <td>0</td>\n",
       "      <td>0</td>\n",
       "      <td>0</td>\n",
       "      <td>0</td>\n",
       "      <td>1</td>\n",
       "      <td>0</td>\n",
       "      <td>0</td>\n",
       "      <td>0</td>\n",
       "      <td>0</td>\n",
       "    </tr>\n",
       "    <tr>\n",
       "      <th>3</th>\n",
       "      <td>1</td>\n",
       "      <td>1</td>\n",
       "      <td>0</td>\n",
       "      <td>0</td>\n",
       "      <td>0</td>\n",
       "      <td>0</td>\n",
       "      <td>0</td>\n",
       "      <td>0</td>\n",
       "      <td>0</td>\n",
       "      <td>1</td>\n",
       "      <td>0</td>\n",
       "      <td>0</td>\n",
       "      <td>0</td>\n",
       "      <td>0</td>\n",
       "    </tr>\n",
       "    <tr>\n",
       "      <th>4</th>\n",
       "      <td>1</td>\n",
       "      <td>1</td>\n",
       "      <td>0</td>\n",
       "      <td>0</td>\n",
       "      <td>0</td>\n",
       "      <td>0</td>\n",
       "      <td>0</td>\n",
       "      <td>0</td>\n",
       "      <td>1</td>\n",
       "      <td>1</td>\n",
       "      <td>0</td>\n",
       "      <td>0</td>\n",
       "      <td>0</td>\n",
       "      <td>0</td>\n",
       "    </tr>\n",
       "  </tbody>\n",
       "</table>\n",
       "</div>"
      ],
      "text/plain": [
       "                                        vent  vaso  adenosine  dobutamine  \\\n",
       "subject_id hadm_id icustay_id hours_in                                      \n",
       "3          145834  211552     0            1     0          0           0   \n",
       "                              1            1     1          0           0   \n",
       "                              2            1     1          0           0   \n",
       "                              3            1     1          0           0   \n",
       "                              4            1     1          0           0   \n",
       "\n",
       "                                        dopamine  epinephrine  isuprel  \\\n",
       "subject_id hadm_id icustay_id hours_in                                   \n",
       "3          145834  211552     0                0            0        0   \n",
       "                              1                1            0        0   \n",
       "                              2                1            0        0   \n",
       "                              3                0            0        0   \n",
       "                              4                0            0        0   \n",
       "\n",
       "                                        milrinone  norepinephrine  \\\n",
       "subject_id hadm_id icustay_id hours_in                              \n",
       "3          145834  211552     0                 0               0   \n",
       "                              1                 0               0   \n",
       "                              2                 0               0   \n",
       "                              3                 0               0   \n",
       "                              4                 0               1   \n",
       "\n",
       "                                        phenylephrine  vasopressin  \\\n",
       "subject_id hadm_id icustay_id hours_in                               \n",
       "3          145834  211552     0                     0            0   \n",
       "                              1                     1            0   \n",
       "                              2                     1            0   \n",
       "                              3                     1            0   \n",
       "                              4                     1            0   \n",
       "\n",
       "                                        colloid_bolus  crystalloid_bolus  \\\n",
       "subject_id hadm_id icustay_id hours_in                                     \n",
       "3          145834  211552     0                     0                  0   \n",
       "                              1                     0                  0   \n",
       "                              2                     0                  0   \n",
       "                              3                     0                  0   \n",
       "                              4                     0                  0   \n",
       "\n",
       "                                        nivdurations  \n",
       "subject_id hadm_id icustay_id hours_in                \n",
       "3          145834  211552     0                    0  \n",
       "                              1                    0  \n",
       "                              2                    0  \n",
       "                              3                    0  \n",
       "                              4                    0  "
      ]
     },
     "execution_count": 4,
     "metadata": {},
     "output_type": "execute_result"
    }
   ],
   "source": [
    "h5[\"interventions\"].head()"
   ]
  },
  {
   "cell_type": "code",
   "execution_count": 17,
   "id": "db39f18c",
   "metadata": {},
   "outputs": [],
   "source": [
    "dff = h5[\"interventions\"].groupby(level=0)[\"vent\"].diff()\n",
    "dff = dff.fillna(0).reset_index()\n",
    "dff[\"vent\"] = np.abs(dff[\"vent\"])"
   ]
  },
  {
   "cell_type": "code",
   "execution_count": 28,
   "id": "51baf613",
   "metadata": {},
   "outputs": [
    {
     "data": {
      "text/plain": [
       "count    34472.0\n",
       "mean         0.0\n",
       "std          0.0\n",
       "min          0.0\n",
       "25%          0.0\n",
       "50%          0.0\n",
       "75%          0.0\n",
       "max          0.0\n",
       "Name: hours_in, dtype: float64"
      ]
     },
     "execution_count": 28,
     "metadata": {},
     "output_type": "execute_result"
    }
   ],
   "source": [
    "(h5[\"interventions\"][\"vaso\"] == 1).reset_index().groupby(\"subject_id\")[\"hours_in\"].first().describe()"
   ]
  },
  {
   "cell_type": "code",
   "execution_count": 21,
   "id": "d74a82a8",
   "metadata": {},
   "outputs": [
    {
     "data": {
      "text/plain": [
       "count    34472.000000\n",
       "mean         0.759863\n",
       "std          1.125268\n",
       "min          0.000000\n",
       "25%          0.000000\n",
       "50%          0.000000\n",
       "75%          2.000000\n",
       "max         22.000000\n",
       "Name: vent, dtype: float64"
      ]
     },
     "execution_count": 21,
     "metadata": {},
     "output_type": "execute_result"
    }
   ],
   "source": [
    "dff.groupby(\"subject_id\")[\"vent\"].sum().describe()"
   ]
  },
  {
   "cell_type": "code",
   "execution_count": 14,
   "id": "329da298",
   "metadata": {},
   "outputs": [
    {
     "data": {
      "text/html": [
       "<div>\n",
       "<style scoped>\n",
       "    .dataframe tbody tr th:only-of-type {\n",
       "        vertical-align: middle;\n",
       "    }\n",
       "\n",
       "    .dataframe tbody tr th {\n",
       "        vertical-align: top;\n",
       "    }\n",
       "\n",
       "    .dataframe thead th {\n",
       "        text-align: right;\n",
       "    }\n",
       "</style>\n",
       "<table border=\"1\" class=\"dataframe\">\n",
       "  <thead>\n",
       "    <tr style=\"text-align: right;\">\n",
       "      <th></th>\n",
       "      <th></th>\n",
       "      <th></th>\n",
       "      <th>vent</th>\n",
       "      <th>vaso</th>\n",
       "      <th>adenosine</th>\n",
       "      <th>dobutamine</th>\n",
       "      <th>dopamine</th>\n",
       "      <th>epinephrine</th>\n",
       "      <th>isuprel</th>\n",
       "      <th>milrinone</th>\n",
       "      <th>norepinephrine</th>\n",
       "      <th>phenylephrine</th>\n",
       "      <th>vasopressin</th>\n",
       "      <th>colloid_bolus</th>\n",
       "      <th>crystalloid_bolus</th>\n",
       "      <th>nivdurations</th>\n",
       "    </tr>\n",
       "    <tr>\n",
       "      <th>hadm_id</th>\n",
       "      <th>icustay_id</th>\n",
       "      <th>hours_in</th>\n",
       "      <th></th>\n",
       "      <th></th>\n",
       "      <th></th>\n",
       "      <th></th>\n",
       "      <th></th>\n",
       "      <th></th>\n",
       "      <th></th>\n",
       "      <th></th>\n",
       "      <th></th>\n",
       "      <th></th>\n",
       "      <th></th>\n",
       "      <th></th>\n",
       "      <th></th>\n",
       "      <th></th>\n",
       "    </tr>\n",
       "  </thead>\n",
       "  <tbody>\n",
       "    <tr>\n",
       "      <th rowspan=\"11\" valign=\"top\">145834</th>\n",
       "      <th rowspan=\"11\" valign=\"top\">211552</th>\n",
       "      <th>0</th>\n",
       "      <td>1</td>\n",
       "      <td>0</td>\n",
       "      <td>0</td>\n",
       "      <td>0</td>\n",
       "      <td>0</td>\n",
       "      <td>0</td>\n",
       "      <td>0</td>\n",
       "      <td>0</td>\n",
       "      <td>0</td>\n",
       "      <td>0</td>\n",
       "      <td>0</td>\n",
       "      <td>0</td>\n",
       "      <td>0</td>\n",
       "      <td>0</td>\n",
       "    </tr>\n",
       "    <tr>\n",
       "      <th>1</th>\n",
       "      <td>1</td>\n",
       "      <td>1</td>\n",
       "      <td>0</td>\n",
       "      <td>0</td>\n",
       "      <td>1</td>\n",
       "      <td>0</td>\n",
       "      <td>0</td>\n",
       "      <td>0</td>\n",
       "      <td>0</td>\n",
       "      <td>1</td>\n",
       "      <td>0</td>\n",
       "      <td>0</td>\n",
       "      <td>0</td>\n",
       "      <td>0</td>\n",
       "    </tr>\n",
       "    <tr>\n",
       "      <th>2</th>\n",
       "      <td>1</td>\n",
       "      <td>1</td>\n",
       "      <td>0</td>\n",
       "      <td>0</td>\n",
       "      <td>1</td>\n",
       "      <td>0</td>\n",
       "      <td>0</td>\n",
       "      <td>0</td>\n",
       "      <td>0</td>\n",
       "      <td>1</td>\n",
       "      <td>0</td>\n",
       "      <td>0</td>\n",
       "      <td>0</td>\n",
       "      <td>0</td>\n",
       "    </tr>\n",
       "    <tr>\n",
       "      <th>3</th>\n",
       "      <td>1</td>\n",
       "      <td>1</td>\n",
       "      <td>0</td>\n",
       "      <td>0</td>\n",
       "      <td>0</td>\n",
       "      <td>0</td>\n",
       "      <td>0</td>\n",
       "      <td>0</td>\n",
       "      <td>0</td>\n",
       "      <td>1</td>\n",
       "      <td>0</td>\n",
       "      <td>0</td>\n",
       "      <td>0</td>\n",
       "      <td>0</td>\n",
       "    </tr>\n",
       "    <tr>\n",
       "      <th>4</th>\n",
       "      <td>1</td>\n",
       "      <td>1</td>\n",
       "      <td>0</td>\n",
       "      <td>0</td>\n",
       "      <td>0</td>\n",
       "      <td>0</td>\n",
       "      <td>0</td>\n",
       "      <td>0</td>\n",
       "      <td>1</td>\n",
       "      <td>1</td>\n",
       "      <td>0</td>\n",
       "      <td>0</td>\n",
       "      <td>0</td>\n",
       "      <td>0</td>\n",
       "    </tr>\n",
       "    <tr>\n",
       "      <th>...</th>\n",
       "      <td>...</td>\n",
       "      <td>...</td>\n",
       "      <td>...</td>\n",
       "      <td>...</td>\n",
       "      <td>...</td>\n",
       "      <td>...</td>\n",
       "      <td>...</td>\n",
       "      <td>...</td>\n",
       "      <td>...</td>\n",
       "      <td>...</td>\n",
       "      <td>...</td>\n",
       "      <td>...</td>\n",
       "      <td>...</td>\n",
       "      <td>...</td>\n",
       "    </tr>\n",
       "    <tr>\n",
       "      <th>141</th>\n",
       "      <td>0</td>\n",
       "      <td>0</td>\n",
       "      <td>0</td>\n",
       "      <td>0</td>\n",
       "      <td>0</td>\n",
       "      <td>0</td>\n",
       "      <td>0</td>\n",
       "      <td>0</td>\n",
       "      <td>0</td>\n",
       "      <td>0</td>\n",
       "      <td>0</td>\n",
       "      <td>0</td>\n",
       "      <td>0</td>\n",
       "      <td>0</td>\n",
       "    </tr>\n",
       "    <tr>\n",
       "      <th>142</th>\n",
       "      <td>0</td>\n",
       "      <td>0</td>\n",
       "      <td>0</td>\n",
       "      <td>0</td>\n",
       "      <td>0</td>\n",
       "      <td>0</td>\n",
       "      <td>0</td>\n",
       "      <td>0</td>\n",
       "      <td>0</td>\n",
       "      <td>0</td>\n",
       "      <td>0</td>\n",
       "      <td>0</td>\n",
       "      <td>0</td>\n",
       "      <td>0</td>\n",
       "    </tr>\n",
       "    <tr>\n",
       "      <th>143</th>\n",
       "      <td>0</td>\n",
       "      <td>0</td>\n",
       "      <td>0</td>\n",
       "      <td>0</td>\n",
       "      <td>0</td>\n",
       "      <td>0</td>\n",
       "      <td>0</td>\n",
       "      <td>0</td>\n",
       "      <td>0</td>\n",
       "      <td>0</td>\n",
       "      <td>0</td>\n",
       "      <td>0</td>\n",
       "      <td>0</td>\n",
       "      <td>0</td>\n",
       "    </tr>\n",
       "    <tr>\n",
       "      <th>144</th>\n",
       "      <td>0</td>\n",
       "      <td>0</td>\n",
       "      <td>0</td>\n",
       "      <td>0</td>\n",
       "      <td>0</td>\n",
       "      <td>0</td>\n",
       "      <td>0</td>\n",
       "      <td>0</td>\n",
       "      <td>0</td>\n",
       "      <td>0</td>\n",
       "      <td>0</td>\n",
       "      <td>0</td>\n",
       "      <td>0</td>\n",
       "      <td>0</td>\n",
       "    </tr>\n",
       "    <tr>\n",
       "      <th>145</th>\n",
       "      <td>0</td>\n",
       "      <td>0</td>\n",
       "      <td>0</td>\n",
       "      <td>0</td>\n",
       "      <td>0</td>\n",
       "      <td>0</td>\n",
       "      <td>0</td>\n",
       "      <td>0</td>\n",
       "      <td>0</td>\n",
       "      <td>0</td>\n",
       "      <td>0</td>\n",
       "      <td>0</td>\n",
       "      <td>0</td>\n",
       "      <td>0</td>\n",
       "    </tr>\n",
       "  </tbody>\n",
       "</table>\n",
       "<p>146 rows × 14 columns</p>\n",
       "</div>"
      ],
      "text/plain": [
       "                             vent  vaso  adenosine  dobutamine  dopamine  \\\n",
       "hadm_id icustay_id hours_in                                                \n",
       "145834  211552     0            1     0          0           0         0   \n",
       "                   1            1     1          0           0         1   \n",
       "                   2            1     1          0           0         1   \n",
       "                   3            1     1          0           0         0   \n",
       "                   4            1     1          0           0         0   \n",
       "...                           ...   ...        ...         ...       ...   \n",
       "                   141          0     0          0           0         0   \n",
       "                   142          0     0          0           0         0   \n",
       "                   143          0     0          0           0         0   \n",
       "                   144          0     0          0           0         0   \n",
       "                   145          0     0          0           0         0   \n",
       "\n",
       "                             epinephrine  isuprel  milrinone  norepinephrine  \\\n",
       "hadm_id icustay_id hours_in                                                    \n",
       "145834  211552     0                   0        0          0               0   \n",
       "                   1                   0        0          0               0   \n",
       "                   2                   0        0          0               0   \n",
       "                   3                   0        0          0               0   \n",
       "                   4                   0        0          0               1   \n",
       "...                                  ...      ...        ...             ...   \n",
       "                   141                 0        0          0               0   \n",
       "                   142                 0        0          0               0   \n",
       "                   143                 0        0          0               0   \n",
       "                   144                 0        0          0               0   \n",
       "                   145                 0        0          0               0   \n",
       "\n",
       "                             phenylephrine  vasopressin  colloid_bolus  \\\n",
       "hadm_id icustay_id hours_in                                              \n",
       "145834  211552     0                     0            0              0   \n",
       "                   1                     1            0              0   \n",
       "                   2                     1            0              0   \n",
       "                   3                     1            0              0   \n",
       "                   4                     1            0              0   \n",
       "...                                    ...          ...            ...   \n",
       "                   141                   0            0              0   \n",
       "                   142                   0            0              0   \n",
       "                   143                   0            0              0   \n",
       "                   144                   0            0              0   \n",
       "                   145                   0            0              0   \n",
       "\n",
       "                             crystalloid_bolus  nivdurations  \n",
       "hadm_id icustay_id hours_in                                   \n",
       "145834  211552     0                         0             0  \n",
       "                   1                         0             0  \n",
       "                   2                         0             0  \n",
       "                   3                         0             0  \n",
       "                   4                         0             0  \n",
       "...                                        ...           ...  \n",
       "                   141                       0             0  \n",
       "                   142                       0             0  \n",
       "                   143                       0             0  \n",
       "                   144                       0             0  \n",
       "                   145                       0             0  \n",
       "\n",
       "[146 rows x 14 columns]"
      ]
     },
     "execution_count": 14,
     "metadata": {},
     "output_type": "execute_result"
    }
   ],
   "source": [
    "h5[\"interventions\"].loc[3]"
   ]
  },
  {
   "cell_type": "code",
   "execution_count": 16,
   "id": "429286d3",
   "metadata": {},
   "outputs": [
    {
     "ename": "AttributeError",
     "evalue": "'SeriesGroupBy' object has no attribute 'abs'",
     "output_type": "error",
     "traceback": [
      "\u001b[0;31m---------------------------------------------------------------------------\u001b[0m",
      "\u001b[0;31mAttributeError\u001b[0m                            Traceback (most recent call last)",
      "Input \u001b[0;32mIn [16]\u001b[0m, in \u001b[0;36m<cell line: 1>\u001b[0;34m()\u001b[0m\n\u001b[0;32m----> 1\u001b[0m \u001b[43mdff\u001b[49m\u001b[38;5;241;43m.\u001b[39;49m\u001b[43mfillna\u001b[49m\u001b[43m(\u001b[49m\u001b[38;5;241;43m0\u001b[39;49m\u001b[43m)\u001b[49m\u001b[38;5;241;43m.\u001b[39;49m\u001b[43mreset_index\u001b[49m\u001b[43m(\u001b[49m\u001b[43m)\u001b[49m\u001b[38;5;241;43m.\u001b[39;49m\u001b[43mgroupby\u001b[49m\u001b[43m(\u001b[49m\u001b[38;5;124;43m\"\u001b[39;49m\u001b[38;5;124;43msubject_id\u001b[39;49m\u001b[38;5;124;43m\"\u001b[39;49m\u001b[43m)\u001b[49m\u001b[43m[\u001b[49m\u001b[38;5;124;43m\"\u001b[39;49m\u001b[38;5;124;43mvent\u001b[39;49m\u001b[38;5;124;43m\"\u001b[39;49m\u001b[43m]\u001b[49m\u001b[38;5;241;43m.\u001b[39;49m\u001b[43mabs\u001b[49m()\n",
      "File \u001b[0;32m~/miniconda3/envs/mimic3/lib/python3.10/site-packages/pandas/core/groupby/groupby.py:904\u001b[0m, in \u001b[0;36mGroupBy.__getattr__\u001b[0;34m(self, attr)\u001b[0m\n\u001b[1;32m    901\u001b[0m \u001b[38;5;28;01mif\u001b[39;00m attr \u001b[38;5;129;01min\u001b[39;00m \u001b[38;5;28mself\u001b[39m\u001b[38;5;241m.\u001b[39mobj:\n\u001b[1;32m    902\u001b[0m     \u001b[38;5;28;01mreturn\u001b[39;00m \u001b[38;5;28mself\u001b[39m[attr]\n\u001b[0;32m--> 904\u001b[0m \u001b[38;5;28;01mraise\u001b[39;00m \u001b[38;5;167;01mAttributeError\u001b[39;00m(\n\u001b[1;32m    905\u001b[0m     \u001b[38;5;124mf\u001b[39m\u001b[38;5;124m\"\u001b[39m\u001b[38;5;124m'\u001b[39m\u001b[38;5;132;01m{\u001b[39;00m\u001b[38;5;28mtype\u001b[39m(\u001b[38;5;28mself\u001b[39m)\u001b[38;5;241m.\u001b[39m\u001b[38;5;18m__name__\u001b[39m\u001b[38;5;132;01m}\u001b[39;00m\u001b[38;5;124m'\u001b[39m\u001b[38;5;124m object has no attribute \u001b[39m\u001b[38;5;124m'\u001b[39m\u001b[38;5;132;01m{\u001b[39;00mattr\u001b[38;5;132;01m}\u001b[39;00m\u001b[38;5;124m'\u001b[39m\u001b[38;5;124m\"\u001b[39m\n\u001b[1;32m    906\u001b[0m )\n",
      "\u001b[0;31mAttributeError\u001b[0m: 'SeriesGroupBy' object has no attribute 'abs'"
     ]
    }
   ],
   "source": []
  },
  {
   "cell_type": "code",
   "execution_count": 6,
   "id": "70bd8825",
   "metadata": {},
   "outputs": [
    {
     "data": {
      "text/plain": [
       "subject_id  hadm_id  icustay_id  hours_in\n",
       "3           145834   211552      0           1\n",
       "                                 1           1\n",
       "                                 2           1\n",
       "                                 3           1\n",
       "                                 4           1\n",
       "                                            ..\n",
       "99999       113369   246512      22          0\n",
       "                                 23          0\n",
       "                                 24          0\n",
       "                                 25          0\n",
       "                                 26          0\n",
       "Name: vent, Length: 2200954, dtype: int64"
      ]
     },
     "execution_count": 6,
     "metadata": {},
     "output_type": "execute_result"
    }
   ],
   "source": [
    "h5[\"interventions\"][\"vent\"]"
   ]
  },
  {
   "cell_type": "code",
   "execution_count": 5,
   "id": "912a07a4",
   "metadata": {},
   "outputs": [],
   "source": [
    "c = h5[\"interventions\"].reset_index()"
   ]
  },
  {
   "cell_type": "code",
   "execution_count": 111,
   "id": "d627fc76",
   "metadata": {},
   "outputs": [
    {
     "data": {
      "text/plain": [
       "count    13410.000000\n",
       "mean         7.102386\n",
       "std         17.365600\n",
       "min          0.000000\n",
       "25%          1.000000\n",
       "50%          2.000000\n",
       "75%          4.000000\n",
       "max        228.000000\n",
       "Name: hours_in, dtype: float64"
      ]
     },
     "execution_count": 111,
     "metadata": {},
     "output_type": "execute_result"
    }
   ],
   "source": [
    "c[c[\"vent\"] == 1].groupby([\"subject_id\"]).first()[\"hours_in\"].describe()"
   ]
  },
  {
   "cell_type": "code",
   "execution_count": 103,
   "id": "8a97d6b5",
   "metadata": {},
   "outputs": [
    {
     "data": {
      "text/plain": [
       "subject_id\n",
       "3        1\n",
       "4        0\n",
       "6        0\n",
       "9        1\n",
       "11       0\n",
       "        ..\n",
       "99983    0\n",
       "99991    0\n",
       "99992    0\n",
       "99995    0\n",
       "99999    0\n",
       "Name: vent, Length: 34472, dtype: int64"
      ]
     },
     "execution_count": 103,
     "metadata": {},
     "output_type": "execute_result"
    }
   ],
   "source": [
    "h5[\"interventions\"].reset_index().groupby(\"subject_id\")[\"vent\"].first()"
   ]
  },
  {
   "cell_type": "markdown",
   "id": "d5d0f75b",
   "metadata": {},
   "source": [
    "Ventilation seems like a reasonably balanced treatment: 39% of patients are ventillated"
   ]
  },
  {
   "cell_type": "code",
   "execution_count": 5,
   "id": "871a9a80",
   "metadata": {},
   "outputs": [
    {
     "data": {
      "text/html": [
       "<div>\n",
       "<style scoped>\n",
       "    .dataframe tbody tr th:only-of-type {\n",
       "        vertical-align: middle;\n",
       "    }\n",
       "\n",
       "    .dataframe tbody tr th {\n",
       "        vertical-align: top;\n",
       "    }\n",
       "\n",
       "    .dataframe thead th {\n",
       "        text-align: right;\n",
       "    }\n",
       "</style>\n",
       "<table border=\"1\" class=\"dataframe\">\n",
       "  <thead>\n",
       "    <tr style=\"text-align: right;\">\n",
       "      <th></th>\n",
       "      <th>vaso</th>\n",
       "      <th>vent</th>\n",
       "    </tr>\n",
       "  </thead>\n",
       "  <tbody>\n",
       "    <tr>\n",
       "      <th>count</th>\n",
       "      <td>34472.000000</td>\n",
       "      <td>34472.000000</td>\n",
       "    </tr>\n",
       "    <tr>\n",
       "      <th>mean</th>\n",
       "      <td>0.303841</td>\n",
       "      <td>0.389011</td>\n",
       "    </tr>\n",
       "    <tr>\n",
       "      <th>std</th>\n",
       "      <td>0.459921</td>\n",
       "      <td>0.487533</td>\n",
       "    </tr>\n",
       "    <tr>\n",
       "      <th>min</th>\n",
       "      <td>0.000000</td>\n",
       "      <td>0.000000</td>\n",
       "    </tr>\n",
       "    <tr>\n",
       "      <th>25%</th>\n",
       "      <td>0.000000</td>\n",
       "      <td>0.000000</td>\n",
       "    </tr>\n",
       "    <tr>\n",
       "      <th>50%</th>\n",
       "      <td>0.000000</td>\n",
       "      <td>0.000000</td>\n",
       "    </tr>\n",
       "    <tr>\n",
       "      <th>75%</th>\n",
       "      <td>1.000000</td>\n",
       "      <td>1.000000</td>\n",
       "    </tr>\n",
       "    <tr>\n",
       "      <th>max</th>\n",
       "      <td>1.000000</td>\n",
       "      <td>1.000000</td>\n",
       "    </tr>\n",
       "  </tbody>\n",
       "</table>\n",
       "</div>"
      ],
      "text/plain": [
       "               vaso          vent\n",
       "count  34472.000000  34472.000000\n",
       "mean       0.303841      0.389011\n",
       "std        0.459921      0.487533\n",
       "min        0.000000      0.000000\n",
       "25%        0.000000      0.000000\n",
       "50%        0.000000      0.000000\n",
       "75%        1.000000      1.000000\n",
       "max        1.000000      1.000000"
      ]
     },
     "execution_count": 5,
     "metadata": {},
     "output_type": "execute_result"
    }
   ],
   "source": [
    "treatment_status = h5[\"interventions\"].groupby(\"subject_id\")[[\"vaso\", \"vent\"]].any().astype(int)\n",
    "treatment_status.describe()"
   ]
  },
  {
   "cell_type": "markdown",
   "id": "703adb36",
   "metadata": {},
   "source": [
    "subj_id, hadm_id, and icustay_id are 1-1"
   ]
  },
  {
   "cell_type": "code",
   "execution_count": 52,
   "id": "cde6c2ff",
   "metadata": {},
   "outputs": [
    {
     "data": {
      "text/plain": [
       "(34472, 5)"
      ]
     },
     "execution_count": 52,
     "metadata": {},
     "output_type": "execute_result"
    }
   ],
   "source": [
    "h5[\"codes\"].reset_index().drop_duplicates([\"subject_id\", \"hadm_id\", \"icustay_id\"]).shape"
   ]
  },
  {
   "cell_type": "code",
   "execution_count": 53,
   "id": "64f81d54",
   "metadata": {},
   "outputs": [
    {
     "data": {
      "text/plain": [
       "(34472,)"
      ]
     },
     "execution_count": 53,
     "metadata": {},
     "output_type": "execute_result"
    }
   ],
   "source": [
    "h5[\"codes\"].index.unique(level=0).shape"
   ]
  },
  {
   "cell_type": "code",
   "execution_count": 59,
   "id": "2d3fe528",
   "metadata": {},
   "outputs": [],
   "source": [
    "subj_codes = h5[\"codes\"].groupby(level=[0])[\"icd9_codes\"].first().explode()"
   ]
  },
  {
   "cell_type": "code",
   "execution_count": 62,
   "id": "0b6a4111",
   "metadata": {},
   "outputs": [],
   "source": [
    "diags = subj_codes.to_frame().join(treatment_status[\"vent\"], how=\"right\")"
   ]
  },
  {
   "cell_type": "code",
   "execution_count": 63,
   "id": "a4aeb6dc",
   "metadata": {},
   "outputs": [
    {
     "data": {
      "text/html": [
       "<div>\n",
       "<style scoped>\n",
       "    .dataframe tbody tr th:only-of-type {\n",
       "        vertical-align: middle;\n",
       "    }\n",
       "\n",
       "    .dataframe tbody tr th {\n",
       "        vertical-align: top;\n",
       "    }\n",
       "\n",
       "    .dataframe thead th {\n",
       "        text-align: right;\n",
       "    }\n",
       "</style>\n",
       "<table border=\"1\" class=\"dataframe\">\n",
       "  <thead>\n",
       "    <tr style=\"text-align: right;\">\n",
       "      <th></th>\n",
       "      <th>icd9_codes</th>\n",
       "      <th>vent</th>\n",
       "    </tr>\n",
       "    <tr>\n",
       "      <th>subject_id</th>\n",
       "      <th></th>\n",
       "      <th></th>\n",
       "    </tr>\n",
       "  </thead>\n",
       "  <tbody>\n",
       "    <tr>\n",
       "      <th>3</th>\n",
       "      <td>0389</td>\n",
       "      <td>1</td>\n",
       "    </tr>\n",
       "    <tr>\n",
       "      <th>3</th>\n",
       "      <td>78559</td>\n",
       "      <td>1</td>\n",
       "    </tr>\n",
       "    <tr>\n",
       "      <th>3</th>\n",
       "      <td>5849</td>\n",
       "      <td>1</td>\n",
       "    </tr>\n",
       "    <tr>\n",
       "      <th>3</th>\n",
       "      <td>4275</td>\n",
       "      <td>1</td>\n",
       "    </tr>\n",
       "    <tr>\n",
       "      <th>3</th>\n",
       "      <td>41071</td>\n",
       "      <td>1</td>\n",
       "    </tr>\n",
       "  </tbody>\n",
       "</table>\n",
       "</div>"
      ],
      "text/plain": [
       "           icd9_codes  vent\n",
       "subject_id                 \n",
       "3                0389     1\n",
       "3               78559     1\n",
       "3                5849     1\n",
       "3                4275     1\n",
       "3               41071     1"
      ]
     },
     "execution_count": 63,
     "metadata": {},
     "output_type": "execute_result"
    }
   ],
   "source": [
    "diags.head()"
   ]
  },
  {
   "cell_type": "code",
   "execution_count": 14,
   "id": "0bae492c",
   "metadata": {},
   "outputs": [],
   "source": [
    "# unique_diags = diags.reset_index()[[\"subject_id\", \"icd9_codes\", \"vent\"]].drop_duplicates()"
   ]
  },
  {
   "cell_type": "code",
   "execution_count": 64,
   "id": "a4125f78",
   "metadata": {},
   "outputs": [],
   "source": [
    "treated_code_counts = diags[diags[\"vent\"] == 1][\"icd9_codes\"].value_counts()"
   ]
  },
  {
   "cell_type": "code",
   "execution_count": 65,
   "id": "6c00060b",
   "metadata": {},
   "outputs": [],
   "source": [
    "control_code_counts = diags[diags[\"vent\"] == 0][\"icd9_codes\"].value_counts()"
   ]
  },
  {
   "cell_type": "code",
   "execution_count": 67,
   "id": "585e7d31",
   "metadata": {},
   "outputs": [
    {
     "data": {
      "text/plain": [
       "vent\n",
       "0    21062\n",
       "1    13410\n",
       "Name: subject_id, dtype: int64"
      ]
     },
     "execution_count": 67,
     "metadata": {},
     "output_type": "execute_result"
    }
   ],
   "source": [
    "diags.reset_index().groupby(\"vent\")[\"subject_id\"].nunique()"
   ]
  },
  {
   "cell_type": "code",
   "execution_count": 68,
   "id": "f10615dc",
   "metadata": {},
   "outputs": [],
   "source": [
    "treated_code_counts.name = \"freq\"\n",
    "control_code_counts.name = \"freq\""
   ]
  },
  {
   "cell_type": "code",
   "execution_count": 69,
   "id": "85f2076c",
   "metadata": {},
   "outputs": [],
   "source": [
    "code_prevalence = treated_code_counts.to_frame().join(control_code_counts, lsuffix=\"_treated\", rsuffix=\"_control\")"
   ]
  },
  {
   "cell_type": "code",
   "execution_count": 70,
   "id": "60521814",
   "metadata": {},
   "outputs": [],
   "source": [
    "code_prevalence = code_prevalence.fillna(0)\n",
    "code_prevalence[\"total_count\"] = code_prevalence[\"freq_treated\"] + code_prevalence[\"freq_control\"]"
   ]
  },
  {
   "cell_type": "code",
   "execution_count": 71,
   "id": "c0940d1e",
   "metadata": {},
   "outputs": [],
   "source": [
    "code_prevalence[\"freq_treated\"] = code_prevalence[\"freq_treated\"] / 13410\n",
    "code_prevalence[\"freq_control\"] = code_prevalence[\"freq_control\"] / 21062"
   ]
  },
  {
   "cell_type": "code",
   "execution_count": 76,
   "id": "8aa5e8a1",
   "metadata": {},
   "outputs": [],
   "source": [
    "top_code_prevalence = code_prevalence.sort_values(\"total_count\", ascending=False)"
   ]
  },
  {
   "cell_type": "code",
   "execution_count": 77,
   "id": "4f7ae4d9",
   "metadata": {},
   "outputs": [],
   "source": [
    "top_code_prevalence[\"diff\"] = top_code_prevalence[\"freq_treated\"] - top_code_prevalence[\"freq_control\"]"
   ]
  },
  {
   "cell_type": "code",
   "execution_count": 79,
   "id": "ccaad869",
   "metadata": {},
   "outputs": [
    {
     "data": {
      "text/html": [
       "<div>\n",
       "<style scoped>\n",
       "    .dataframe tbody tr th:only-of-type {\n",
       "        vertical-align: middle;\n",
       "    }\n",
       "\n",
       "    .dataframe tbody tr th {\n",
       "        vertical-align: top;\n",
       "    }\n",
       "\n",
       "    .dataframe thead th {\n",
       "        text-align: right;\n",
       "    }\n",
       "</style>\n",
       "<table border=\"1\" class=\"dataframe\">\n",
       "  <thead>\n",
       "    <tr style=\"text-align: right;\">\n",
       "      <th></th>\n",
       "      <th>freq_treated</th>\n",
       "      <th>freq_control</th>\n",
       "      <th>total_count</th>\n",
       "      <th>diff</th>\n",
       "    </tr>\n",
       "  </thead>\n",
       "  <tbody>\n",
       "    <tr>\n",
       "      <th>4019</th>\n",
       "      <td>0.491051</td>\n",
       "      <td>0.397968</td>\n",
       "      <td>14967.0</td>\n",
       "      <td>0.093084</td>\n",
       "    </tr>\n",
       "    <tr>\n",
       "      <th>41401</th>\n",
       "      <td>0.378673</td>\n",
       "      <td>0.201928</td>\n",
       "      <td>9331.0</td>\n",
       "      <td>0.176745</td>\n",
       "    </tr>\n",
       "    <tr>\n",
       "      <th>42731</th>\n",
       "      <td>0.290157</td>\n",
       "      <td>0.207198</td>\n",
       "      <td>8255.0</td>\n",
       "      <td>0.082959</td>\n",
       "    </tr>\n",
       "    <tr>\n",
       "      <th>4280</th>\n",
       "      <td>0.219612</td>\n",
       "      <td>0.215364</td>\n",
       "      <td>7481.0</td>\n",
       "      <td>0.004248</td>\n",
       "    </tr>\n",
       "    <tr>\n",
       "      <th>2724</th>\n",
       "      <td>0.207905</td>\n",
       "      <td>0.154971</td>\n",
       "      <td>6052.0</td>\n",
       "      <td>0.052934</td>\n",
       "    </tr>\n",
       "    <tr>\n",
       "      <th>25000</th>\n",
       "      <td>0.195749</td>\n",
       "      <td>0.160004</td>\n",
       "      <td>5995.0</td>\n",
       "      <td>0.035746</td>\n",
       "    </tr>\n",
       "    <tr>\n",
       "      <th>5849</th>\n",
       "      <td>0.125354</td>\n",
       "      <td>0.176289</td>\n",
       "      <td>5394.0</td>\n",
       "      <td>-0.050935</td>\n",
       "    </tr>\n",
       "    <tr>\n",
       "      <th>2720</th>\n",
       "      <td>0.156152</td>\n",
       "      <td>0.111338</td>\n",
       "      <td>4439.0</td>\n",
       "      <td>0.044814</td>\n",
       "    </tr>\n",
       "    <tr>\n",
       "      <th>53081</th>\n",
       "      <td>0.124832</td>\n",
       "      <td>0.119884</td>\n",
       "      <td>4199.0</td>\n",
       "      <td>0.004948</td>\n",
       "    </tr>\n",
       "    <tr>\n",
       "      <th>5990</th>\n",
       "      <td>0.098732</td>\n",
       "      <td>0.123160</td>\n",
       "      <td>3918.0</td>\n",
       "      <td>-0.024428</td>\n",
       "    </tr>\n",
       "  </tbody>\n",
       "</table>\n",
       "</div>"
      ],
      "text/plain": [
       "       freq_treated  freq_control  total_count      diff\n",
       "4019       0.491051      0.397968      14967.0  0.093084\n",
       "41401      0.378673      0.201928       9331.0  0.176745\n",
       "42731      0.290157      0.207198       8255.0  0.082959\n",
       "4280       0.219612      0.215364       7481.0  0.004248\n",
       "2724       0.207905      0.154971       6052.0  0.052934\n",
       "25000      0.195749      0.160004       5995.0  0.035746\n",
       "5849       0.125354      0.176289       5394.0 -0.050935\n",
       "2720       0.156152      0.111338       4439.0  0.044814\n",
       "53081      0.124832      0.119884       4199.0  0.004948\n",
       "5990       0.098732      0.123160       3918.0 -0.024428"
      ]
     },
     "execution_count": 79,
     "metadata": {},
     "output_type": "execute_result"
    }
   ],
   "source": [
    "top_code_prevalence.head(10)"
   ]
  },
  {
   "cell_type": "code",
   "execution_count": 82,
   "id": "c716dd0b",
   "metadata": {},
   "outputs": [],
   "source": [
    "pat = h5.patients.join(treatment_status[\"vent\"], how=\"right\")"
   ]
  },
  {
   "cell_type": "code",
   "execution_count": 87,
   "id": "073ec7b2",
   "metadata": {},
   "outputs": [
    {
     "data": {
      "text/plain": [
       "M    0.565502\n",
       "F    0.434498\n",
       "Name: gender, dtype: float64"
      ]
     },
     "execution_count": 87,
     "metadata": {},
     "output_type": "execute_result"
    }
   ],
   "source": [
    "pat[\"gender\"].value_counts(normalize=True)"
   ]
  },
  {
   "cell_type": "code",
   "execution_count": 86,
   "id": "370e3b58",
   "metadata": {},
   "outputs": [
    {
     "data": {
      "text/plain": [
       "vent   \n",
       "0     M    0.536511\n",
       "      F    0.463489\n",
       "1     M    0.611037\n",
       "      F    0.388963\n",
       "Name: gender, dtype: float64"
      ]
     },
     "execution_count": 86,
     "metadata": {},
     "output_type": "execute_result"
    }
   ],
   "source": [
    "pat.groupby(\"vent\")[\"gender\"].value_counts(normalize=True)"
   ]
  },
  {
   "cell_type": "code",
   "execution_count": 98,
   "id": "90418b21",
   "metadata": {},
   "outputs": [
    {
     "data": {
      "text/plain": [
       "vent  insurance \n",
       "0     Medicare      0.535847\n",
       "      Private       0.336008\n",
       "      Medicaid      0.083610\n",
       "      Government    0.031004\n",
       "      Self Pay      0.013531\n",
       "1     Medicare      0.524310\n",
       "      Private       0.355630\n",
       "      Medicaid      0.076137\n",
       "      Government    0.029605\n",
       "      Self Pay      0.014318\n",
       "Name: insurance, dtype: float64"
      ]
     },
     "execution_count": 98,
     "metadata": {},
     "output_type": "execute_result"
    }
   ],
   "source": [
    "pat.groupby(\"vent\")[\"insurance\"].value_counts(normalize=True)"
   ]
  },
  {
   "cell_type": "code",
   "execution_count": 99,
   "id": "dadb3733",
   "metadata": {},
   "outputs": [
    {
     "data": {
      "text/plain": [
       "vent\n",
       "0    0.045722\n",
       "1    0.039299\n",
       "Name: readmission_30, dtype: float64"
      ]
     },
     "execution_count": 99,
     "metadata": {},
     "output_type": "execute_result"
    }
   ],
   "source": [
    "pat.groupby(\"vent\")[\"readmission_30\"].mean()"
   ]
  },
  {
   "cell_type": "code",
   "execution_count": 102,
   "id": "a076f0ef",
   "metadata": {},
   "outputs": [
    {
     "data": {
      "text/plain": [
       "vent\n",
       "0    0.034232\n",
       "1    0.114840\n",
       "Name: mort_icu, dtype: float64"
      ]
     },
     "execution_count": 102,
     "metadata": {},
     "output_type": "execute_result"
    }
   ],
   "source": [
    "pat.groupby(\"vent\")[\"mort_icu\"].mean()"
   ]
  },
  {
   "cell_type": "code",
   "execution_count": 100,
   "id": "2042cd3a",
   "metadata": {},
   "outputs": [
    {
     "data": {
      "text/html": [
       "<div>\n",
       "<style scoped>\n",
       "    .dataframe tbody tr th:only-of-type {\n",
       "        vertical-align: middle;\n",
       "    }\n",
       "\n",
       "    .dataframe tbody tr th {\n",
       "        vertical-align: top;\n",
       "    }\n",
       "\n",
       "    .dataframe thead th {\n",
       "        text-align: right;\n",
       "    }\n",
       "</style>\n",
       "<table border=\"1\" class=\"dataframe\">\n",
       "  <thead>\n",
       "    <tr style=\"text-align: right;\">\n",
       "      <th></th>\n",
       "      <th></th>\n",
       "      <th></th>\n",
       "      <th>gender</th>\n",
       "      <th>ethnicity</th>\n",
       "      <th>age</th>\n",
       "      <th>insurance</th>\n",
       "      <th>admittime</th>\n",
       "      <th>diagnosis_at_admission</th>\n",
       "      <th>dischtime</th>\n",
       "      <th>discharge_location</th>\n",
       "      <th>fullcode_first</th>\n",
       "      <th>dnr_first</th>\n",
       "      <th>...</th>\n",
       "      <th>los_icu</th>\n",
       "      <th>admission_type</th>\n",
       "      <th>first_careunit</th>\n",
       "      <th>mort_icu</th>\n",
       "      <th>mort_hosp</th>\n",
       "      <th>hospital_expire_flag</th>\n",
       "      <th>hospstay_seq</th>\n",
       "      <th>readmission_30</th>\n",
       "      <th>max_hours</th>\n",
       "      <th>vent</th>\n",
       "    </tr>\n",
       "    <tr>\n",
       "      <th>subject_id</th>\n",
       "      <th>hadm_id</th>\n",
       "      <th>icustay_id</th>\n",
       "      <th></th>\n",
       "      <th></th>\n",
       "      <th></th>\n",
       "      <th></th>\n",
       "      <th></th>\n",
       "      <th></th>\n",
       "      <th></th>\n",
       "      <th></th>\n",
       "      <th></th>\n",
       "      <th></th>\n",
       "      <th></th>\n",
       "      <th></th>\n",
       "      <th></th>\n",
       "      <th></th>\n",
       "      <th></th>\n",
       "      <th></th>\n",
       "      <th></th>\n",
       "      <th></th>\n",
       "      <th></th>\n",
       "      <th></th>\n",
       "      <th></th>\n",
       "    </tr>\n",
       "  </thead>\n",
       "  <tbody>\n",
       "    <tr>\n",
       "      <th>3</th>\n",
       "      <th>145834</th>\n",
       "      <th>211552</th>\n",
       "      <td>M</td>\n",
       "      <td>WHITE</td>\n",
       "      <td>76.526792</td>\n",
       "      <td>Medicare</td>\n",
       "      <td>2101-10-20 19:08:00</td>\n",
       "      <td>HYPOTENSION</td>\n",
       "      <td>2101-10-31 13:58:00</td>\n",
       "      <td>SNF</td>\n",
       "      <td>1.0</td>\n",
       "      <td>0.0</td>\n",
       "      <td>...</td>\n",
       "      <td>6.064560</td>\n",
       "      <td>EMERGENCY</td>\n",
       "      <td>MICU</td>\n",
       "      <td>0</td>\n",
       "      <td>0</td>\n",
       "      <td>0</td>\n",
       "      <td>1</td>\n",
       "      <td>0</td>\n",
       "      <td>145</td>\n",
       "      <td>1</td>\n",
       "    </tr>\n",
       "    <tr>\n",
       "      <th>4</th>\n",
       "      <th>185777</th>\n",
       "      <th>294638</th>\n",
       "      <td>F</td>\n",
       "      <td>WHITE</td>\n",
       "      <td>47.845047</td>\n",
       "      <td>Private</td>\n",
       "      <td>2191-03-16 00:28:00</td>\n",
       "      <td>FEVER,DEHYDRATION,FAILURE TO THRIVE</td>\n",
       "      <td>2191-03-23 18:41:00</td>\n",
       "      <td>HOME WITH HOME IV PROVIDR</td>\n",
       "      <td>1.0</td>\n",
       "      <td>0.0</td>\n",
       "      <td>...</td>\n",
       "      <td>1.678472</td>\n",
       "      <td>EMERGENCY</td>\n",
       "      <td>MICU</td>\n",
       "      <td>0</td>\n",
       "      <td>0</td>\n",
       "      <td>0</td>\n",
       "      <td>1</td>\n",
       "      <td>0</td>\n",
       "      <td>40</td>\n",
       "      <td>0</td>\n",
       "    </tr>\n",
       "    <tr>\n",
       "      <th>6</th>\n",
       "      <th>107064</th>\n",
       "      <th>228232</th>\n",
       "      <td>F</td>\n",
       "      <td>WHITE</td>\n",
       "      <td>65.942297</td>\n",
       "      <td>Medicare</td>\n",
       "      <td>2175-05-30 07:15:00</td>\n",
       "      <td>CHRONIC RENAL FAILURE/SDA</td>\n",
       "      <td>2175-06-15 16:00:00</td>\n",
       "      <td>HOME HEALTH CARE</td>\n",
       "      <td>1.0</td>\n",
       "      <td>0.0</td>\n",
       "      <td>...</td>\n",
       "      <td>3.672917</td>\n",
       "      <td>ELECTIVE</td>\n",
       "      <td>SICU</td>\n",
       "      <td>0</td>\n",
       "      <td>0</td>\n",
       "      <td>0</td>\n",
       "      <td>1</td>\n",
       "      <td>0</td>\n",
       "      <td>88</td>\n",
       "      <td>0</td>\n",
       "    </tr>\n",
       "    <tr>\n",
       "      <th>9</th>\n",
       "      <th>150750</th>\n",
       "      <th>220597</th>\n",
       "      <td>M</td>\n",
       "      <td>UNKNOWN/NOT SPECIFIED</td>\n",
       "      <td>41.790228</td>\n",
       "      <td>Medicaid</td>\n",
       "      <td>2149-11-09 13:06:00</td>\n",
       "      <td>HEMORRHAGIC CVA</td>\n",
       "      <td>2149-11-14 10:15:00</td>\n",
       "      <td>DEAD/EXPIRED</td>\n",
       "      <td>1.0</td>\n",
       "      <td>0.0</td>\n",
       "      <td>...</td>\n",
       "      <td>5.323056</td>\n",
       "      <td>EMERGENCY</td>\n",
       "      <td>MICU</td>\n",
       "      <td>1</td>\n",
       "      <td>1</td>\n",
       "      <td>1</td>\n",
       "      <td>1</td>\n",
       "      <td>0</td>\n",
       "      <td>127</td>\n",
       "      <td>1</td>\n",
       "    </tr>\n",
       "    <tr>\n",
       "      <th>11</th>\n",
       "      <th>194540</th>\n",
       "      <th>229441</th>\n",
       "      <td>F</td>\n",
       "      <td>WHITE</td>\n",
       "      <td>50.148295</td>\n",
       "      <td>Private</td>\n",
       "      <td>2178-04-16 06:18:00</td>\n",
       "      <td>BRAIN MASS</td>\n",
       "      <td>2178-05-11 19:00:00</td>\n",
       "      <td>HOME HEALTH CARE</td>\n",
       "      <td>1.0</td>\n",
       "      <td>0.0</td>\n",
       "      <td>...</td>\n",
       "      <td>1.584410</td>\n",
       "      <td>EMERGENCY</td>\n",
       "      <td>SICU</td>\n",
       "      <td>0</td>\n",
       "      <td>0</td>\n",
       "      <td>0</td>\n",
       "      <td>1</td>\n",
       "      <td>0</td>\n",
       "      <td>38</td>\n",
       "      <td>0</td>\n",
       "    </tr>\n",
       "  </tbody>\n",
       "</table>\n",
       "<p>5 rows × 29 columns</p>\n",
       "</div>"
      ],
      "text/plain": [
       "                              gender              ethnicity        age  \\\n",
       "subject_id hadm_id icustay_id                                            \n",
       "3          145834  211552          M                  WHITE  76.526792   \n",
       "4          185777  294638          F                  WHITE  47.845047   \n",
       "6          107064  228232          F                  WHITE  65.942297   \n",
       "9          150750  220597          M  UNKNOWN/NOT SPECIFIED  41.790228   \n",
       "11         194540  229441          F                  WHITE  50.148295   \n",
       "\n",
       "                              insurance           admittime  \\\n",
       "subject_id hadm_id icustay_id                                 \n",
       "3          145834  211552      Medicare 2101-10-20 19:08:00   \n",
       "4          185777  294638       Private 2191-03-16 00:28:00   \n",
       "6          107064  228232      Medicare 2175-05-30 07:15:00   \n",
       "9          150750  220597      Medicaid 2149-11-09 13:06:00   \n",
       "11         194540  229441       Private 2178-04-16 06:18:00   \n",
       "\n",
       "                                            diagnosis_at_admission  \\\n",
       "subject_id hadm_id icustay_id                                        \n",
       "3          145834  211552                              HYPOTENSION   \n",
       "4          185777  294638      FEVER,DEHYDRATION,FAILURE TO THRIVE   \n",
       "6          107064  228232                CHRONIC RENAL FAILURE/SDA   \n",
       "9          150750  220597                          HEMORRHAGIC CVA   \n",
       "11         194540  229441                               BRAIN MASS   \n",
       "\n",
       "                                        dischtime         discharge_location  \\\n",
       "subject_id hadm_id icustay_id                                                  \n",
       "3          145834  211552     2101-10-31 13:58:00                        SNF   \n",
       "4          185777  294638     2191-03-23 18:41:00  HOME WITH HOME IV PROVIDR   \n",
       "6          107064  228232     2175-06-15 16:00:00           HOME HEALTH CARE   \n",
       "9          150750  220597     2149-11-14 10:15:00               DEAD/EXPIRED   \n",
       "11         194540  229441     2178-05-11 19:00:00           HOME HEALTH CARE   \n",
       "\n",
       "                               fullcode_first  dnr_first  ...   los_icu  \\\n",
       "subject_id hadm_id icustay_id                             ...             \n",
       "3          145834  211552                 1.0        0.0  ...  6.064560   \n",
       "4          185777  294638                 1.0        0.0  ...  1.678472   \n",
       "6          107064  228232                 1.0        0.0  ...  3.672917   \n",
       "9          150750  220597                 1.0        0.0  ...  5.323056   \n",
       "11         194540  229441                 1.0        0.0  ...  1.584410   \n",
       "\n",
       "                               admission_type first_careunit  mort_icu  \\\n",
       "subject_id hadm_id icustay_id                                            \n",
       "3          145834  211552           EMERGENCY           MICU         0   \n",
       "4          185777  294638           EMERGENCY           MICU         0   \n",
       "6          107064  228232            ELECTIVE           SICU         0   \n",
       "9          150750  220597           EMERGENCY           MICU         1   \n",
       "11         194540  229441           EMERGENCY           SICU         0   \n",
       "\n",
       "                               mort_hosp  hospital_expire_flag hospstay_seq  \\\n",
       "subject_id hadm_id icustay_id                                                 \n",
       "3          145834  211552              0                     0            1   \n",
       "4          185777  294638              0                     0            1   \n",
       "6          107064  228232              0                     0            1   \n",
       "9          150750  220597              1                     1            1   \n",
       "11         194540  229441              0                     0            1   \n",
       "\n",
       "                              readmission_30 max_hours  vent  \n",
       "subject_id hadm_id icustay_id                                 \n",
       "3          145834  211552                  0       145     1  \n",
       "4          185777  294638                  0        40     0  \n",
       "6          107064  228232                  0        88     0  \n",
       "9          150750  220597                  0       127     1  \n",
       "11         194540  229441                  0        38     0  \n",
       "\n",
       "[5 rows x 29 columns]"
      ]
     },
     "execution_count": 100,
     "metadata": {},
     "output_type": "execute_result"
    }
   ],
   "source": [
    "pat.head()"
   ]
  },
  {
   "cell_type": "markdown",
   "id": "455a6672",
   "metadata": {},
   "source": [
    "### Time-Varying Treatment"
   ]
  },
  {
   "cell_type": "code",
   "execution_count": 167,
   "id": "cec1a334",
   "metadata": {},
   "outputs": [],
   "source": [
    "vitals = h5[\"vitals_labs_mean\"].droplevel(['hadm_id', 'icustay_id'])"
   ]
  },
  {
   "cell_type": "code",
   "execution_count": 168,
   "id": "f7524f8f",
   "metadata": {},
   "outputs": [],
   "source": [
    "vitals.columns = vitals.columns.get_level_values(0)"
   ]
  },
  {
   "cell_type": "code",
   "execution_count": 169,
   "id": "1da1ade4",
   "metadata": {},
   "outputs": [],
   "source": [
    "vital_list = [\n",
    "    'heart rate',\n",
    "    'red blood cell count',\n",
    "    'sodium',\n",
    "    'mean blood pressure',\n",
    "    'systemic vascular resistance',\n",
    "    'glucose',\n",
    "    'chloride urine',\n",
    "    'glascow coma scale total',\n",
    "    'hematocrit',\n",
    "    'positive end-expiratory pressure set',\n",
    "    'respiratory rate',\n",
    "    'prothrombin time pt',\n",
    "    'cholesterol',\n",
    "    'hemoglobin',\n",
    "    'creatinine',\n",
    "    'blood urea nitrogen',\n",
    "    'bicarbonate',\n",
    "    'calcium ionized',\n",
    "    'partial pressure of carbon dioxide',\n",
    "    'magnesium',\n",
    "    'anion gap',\n",
    "    'phosphorous',\n",
    "    'venous pvo2',\n",
    "    'platelets',\n",
    "    'calcium urine'\n",
    "]"
   ]
  },
  {
   "cell_type": "code",
   "execution_count": 170,
   "id": "0d7a402b",
   "metadata": {},
   "outputs": [],
   "source": [
    "vitals = vitals[vital_list]"
   ]
  },
  {
   "cell_type": "code",
   "execution_count": 171,
   "id": "e38bf03e",
   "metadata": {},
   "outputs": [],
   "source": [
    "vitals = vitals.fillna(method=\"ffill\")\n",
    "vitals = vitals.fillna(method=\"bfill\")"
   ]
  },
  {
   "cell_type": "code",
   "execution_count": 172,
   "id": "4898643e",
   "metadata": {},
   "outputs": [],
   "source": [
    "mean = np.mean(vitals, axis=0)\n",
    "std = np.std(vitals, axis=0)\n",
    "vitals = (vitals - mean) / std"
   ]
  },
  {
   "cell_type": "code",
   "execution_count": 173,
   "id": "4d6e38e3",
   "metadata": {},
   "outputs": [
    {
     "data": {
      "text/plain": [
       "<AxesSubplot:>"
      ]
     },
     "execution_count": 173,
     "metadata": {},
     "output_type": "execute_result"
    },
    {
     "data": {
      "image/png": "[encoded data removed]",
      "text/plain": [
       "<Figure size 432x288 with 1 Axes>"
      ]
     },
     "metadata": {
      "needs_background": "light"
     },
     "output_type": "display_data"
    }
   ],
   "source": [
    "# consider filtering: 20-100 hours of data?\n",
    "vitals.groupby(\"subject_id\").size().hist()"
   ]
  },
  {
   "cell_type": "code",
   "execution_count": 140,
   "id": "f72cab00",
   "metadata": {},
   "outputs": [],
   "source": [
    "seq_lengths = vitals.groupby(\"subject_id\").size()"
   ]
  },
  {
   "cell_type": "code",
   "execution_count": 144,
   "id": "7944f2a6",
   "metadata": {},
   "outputs": [
    {
     "data": {
      "text/plain": [
       "subject_id\n",
       "4         41\n",
       "6         89\n",
       "9        128\n",
       "11        39\n",
       "13        88\n",
       "        ... \n",
       "99983     25\n",
       "99991     76\n",
       "99992     48\n",
       "99995     52\n",
       "99999     27\n",
       "Length: 30323, dtype: int64"
      ]
     },
     "execution_count": 144,
     "metadata": {},
     "output_type": "execute_result"
    }
   ],
   "source": [
    "# dull\n",
    "seq_lengths[(seq_lengths >= 16) & (seq_lengths <= 128)]"
   ]
  },
  {
   "cell_type": "code",
   "execution_count": 174,
   "id": "fdc26c5d",
   "metadata": {},
   "outputs": [],
   "source": [
    "vitals_int = vitals.join(treatment_status[\"vent\"], how=\"right\")"
   ]
  },
  {
   "cell_type": "code",
   "execution_count": null,
   "id": "f5878e3d",
   "metadata": {},
   "outputs": [],
   "source": [
    "vitals_int.head()"
   ]
  },
  {
   "cell_type": "code",
   "execution_count": 187,
   "id": "0676b16d",
   "metadata": {},
   "outputs": [
    {
     "name": "stdout",
     "output_type": "stream",
     "text": [
      "vent\n",
      "0         NaN\n",
      "1   -0.063676\n",
      "Name: mean blood pressure, dtype: float64\n",
      "vent\n",
      "0        NaN\n",
      "1    0.17184\n",
      "Name: heart rate, dtype: float64\n",
      "vent\n",
      "0         NaN\n",
      "1   -0.086911\n",
      "Name: respiratory rate, dtype: float64\n",
      "vent\n",
      "0         NaN\n",
      "1    0.081243\n",
      "Name: glucose, dtype: float64\n",
      "vent\n",
      "0         NaN\n",
      "1   -0.290617\n",
      "Name: hematocrit, dtype: float64\n",
      "vent\n",
      "0         NaN\n",
      "1   -0.220084\n",
      "Name: hemoglobin, dtype: float64\n",
      "vent\n",
      "0         NaN\n",
      "1   -0.233136\n",
      "Name: platelets, dtype: float64\n"
     ]
    }
   ],
   "source": [
    "for vital in [\"mean blood pressure\", \"heart rate\", \"respiratory rate\", \"glucose\",\n",
    "             \"hematocrit\", \"hemoglobin\", \"platelets\"]:\n",
    "    print(vitals_int.groupby(\"vent\")[vital].median().diff())"
   ]
  },
  {
   "cell_type": "code",
   "execution_count": 149,
   "id": "9dd07b5e",
   "metadata": {},
   "outputs": [
    {
     "data": {
      "text/plain": [
       "LEVEL2\n",
       "heart rate                              23.0\n",
       "red blood cell count                     3.0\n",
       "sodium                                   3.0\n",
       "mean blood pressure                     27.0\n",
       "systemic vascular resistance             1.0\n",
       "glucose                                  8.0\n",
       "chloride urine                           1.0\n",
       "glascow coma scale total                 1.0\n",
       "hematocrit                               5.0\n",
       "positive end-expiratory pressure set     1.0\n",
       "respiratory rate                        16.0\n",
       "prothrombin time pt                      3.0\n",
       "cholesterol                              1.0\n",
       "hemoglobin                               4.0\n",
       "creatinine                               3.0\n",
       "blood urea nitrogen                      3.0\n",
       "bicarbonate                              3.0\n",
       "calcium ionized                          1.0\n",
       "partial pressure of carbon dioxide       2.0\n",
       "magnesium                                3.0\n",
       "anion gap                                3.0\n",
       "phosphorous                              3.0\n",
       "venous pvo2                              1.0\n",
       "platelets                                4.0\n",
       "calcium urine                            1.0\n",
       "dtype: float64"
      ]
     },
     "execution_count": 149,
     "metadata": {},
     "output_type": "execute_result"
    }
   ],
   "source": [
    "vitals.groupby(\"subject_id\").nunique().median(axis=0)"
   ]
  },
  {
   "cell_type": "markdown",
   "id": "750ba234",
   "metadata": {},
   "source": [
    "#### Explore"
   ]
  },
  {
   "cell_type": "code",
   "execution_count": 6,
   "id": "6c1b1f2b",
   "metadata": {},
   "outputs": [],
   "source": [
    "diags = h5[\"codes\"]"
   ]
  },
  {
   "cell_type": "code",
   "execution_count": 9,
   "id": "62d6fab8",
   "metadata": {},
   "outputs": [
    {
     "data": {
      "text/plain": [
       "icustay_id\n",
       "200003     6\n",
       "200007     7\n",
       "200009     6\n",
       "200014     9\n",
       "200019     7\n",
       "          ..\n",
       "299987     7\n",
       "299993     2\n",
       "299995     5\n",
       "299998    13\n",
       "299999     2\n",
       "Name: icd9_codes, Length: 34472, dtype: int64"
      ]
     },
     "execution_count": 9,
     "metadata": {},
     "output_type": "execute_result"
    }
   ],
   "source": [
    "diags.groupby(\"icustay_id\")[\"icd9_codes\"].last().apply(len)"
   ]
  },
  {
   "cell_type": "code",
   "execution_count": 33,
   "id": "c344d5e0",
   "metadata": {},
   "outputs": [],
   "source": [
    "b = diags.reset_index()\n",
    "b[\"icd9_codes\"] = b[\"icd9_codes\"].apply(lambda x: \",\".join(x))"
   ]
  },
  {
   "cell_type": "code",
   "execution_count": 35,
   "id": "3dfe1314",
   "metadata": {},
   "outputs": [],
   "source": [
    "b = b.reset_index().drop_duplicates([\"icustay_id\", \"icd9_codes\"])"
   ]
  },
  {
   "cell_type": "code",
   "execution_count": 36,
   "id": "2c4e2a8d",
   "metadata": {},
   "outputs": [
    {
     "data": {
      "text/html": [
       "<div>\n",
       "<style scoped>\n",
       "    .dataframe tbody tr th:only-of-type {\n",
       "        vertical-align: middle;\n",
       "    }\n",
       "\n",
       "    .dataframe tbody tr th {\n",
       "        vertical-align: top;\n",
       "    }\n",
       "\n",
       "    .dataframe thead th {\n",
       "        text-align: right;\n",
       "    }\n",
       "</style>\n",
       "<table border=\"1\" class=\"dataframe\">\n",
       "  <thead>\n",
       "    <tr style=\"text-align: right;\">\n",
       "      <th></th>\n",
       "      <th>index</th>\n",
       "      <th>subject_id</th>\n",
       "      <th>hadm_id</th>\n",
       "      <th>icustay_id</th>\n",
       "      <th>hours_in</th>\n",
       "      <th>icd9_codes</th>\n",
       "    </tr>\n",
       "  </thead>\n",
       "  <tbody>\n",
       "    <tr>\n",
       "      <th>0</th>\n",
       "      <td>0</td>\n",
       "      <td>3</td>\n",
       "      <td>145834</td>\n",
       "      <td>211552</td>\n",
       "      <td>0</td>\n",
       "      <td>0389,78559,5849,4275,41071,4280,6826,4254,2639</td>\n",
       "    </tr>\n",
       "    <tr>\n",
       "      <th>146</th>\n",
       "      <td>146</td>\n",
       "      <td>4</td>\n",
       "      <td>185777</td>\n",
       "      <td>294638</td>\n",
       "      <td>0</td>\n",
       "      <td>042,1363,7994,2763,7907,5715,04111,V090,E9317</td>\n",
       "    </tr>\n",
       "    <tr>\n",
       "      <th>187</th>\n",
       "      <td>187</td>\n",
       "      <td>6</td>\n",
       "      <td>107064</td>\n",
       "      <td>228232</td>\n",
       "      <td>0</td>\n",
       "      <td>40391,4440,9972,2766,2767,2859,2753,V1582</td>\n",
       "    </tr>\n",
       "    <tr>\n",
       "      <th>276</th>\n",
       "      <td>276</td>\n",
       "      <td>9</td>\n",
       "      <td>150750</td>\n",
       "      <td>220597</td>\n",
       "      <td>0</td>\n",
       "      <td>431,5070,4280,5849,2765,4019</td>\n",
       "    </tr>\n",
       "    <tr>\n",
       "      <th>404</th>\n",
       "      <td>404</td>\n",
       "      <td>11</td>\n",
       "      <td>194540</td>\n",
       "      <td>229441</td>\n",
       "      <td>0</td>\n",
       "      <td>1913</td>\n",
       "    </tr>\n",
       "    <tr>\n",
       "      <th>...</th>\n",
       "      <td>...</td>\n",
       "      <td>...</td>\n",
       "      <td>...</td>\n",
       "      <td>...</td>\n",
       "      <td>...</td>\n",
       "      <td>...</td>\n",
       "    </tr>\n",
       "    <tr>\n",
       "      <th>2200726</th>\n",
       "      <td>2200726</td>\n",
       "      <td>99983</td>\n",
       "      <td>117390</td>\n",
       "      <td>286606</td>\n",
       "      <td>0</td>\n",
       "      <td>41001,5849,41401,60001,2724,4019,V4582,78820</td>\n",
       "    </tr>\n",
       "    <tr>\n",
       "      <th>2200751</th>\n",
       "      <td>2200751</td>\n",
       "      <td>99991</td>\n",
       "      <td>151118</td>\n",
       "      <td>226241</td>\n",
       "      <td>0</td>\n",
       "      <td>56211,0389,5570,5849,99592,56081,78959,5538,78...</td>\n",
       "    </tr>\n",
       "    <tr>\n",
       "      <th>2200827</th>\n",
       "      <td>2200827</td>\n",
       "      <td>99992</td>\n",
       "      <td>197084</td>\n",
       "      <td>242052</td>\n",
       "      <td>0</td>\n",
       "      <td>9999,56881,5772,2851,5849,5799,72992,53081,401...</td>\n",
       "    </tr>\n",
       "    <tr>\n",
       "      <th>2200875</th>\n",
       "      <td>2200875</td>\n",
       "      <td>99995</td>\n",
       "      <td>137810</td>\n",
       "      <td>229633</td>\n",
       "      <td>0</td>\n",
       "      <td>4414,42833,99812,2851,4241,25000,99811,9961,E8...</td>\n",
       "    </tr>\n",
       "    <tr>\n",
       "      <th>2200927</th>\n",
       "      <td>2200927</td>\n",
       "      <td>99999</td>\n",
       "      <td>113369</td>\n",
       "      <td>246512</td>\n",
       "      <td>0</td>\n",
       "      <td>75612,7861,4019,25000,4139</td>\n",
       "    </tr>\n",
       "  </tbody>\n",
       "</table>\n",
       "<p>34472 rows × 6 columns</p>\n",
       "</div>"
      ],
      "text/plain": [
       "           index  subject_id  hadm_id  icustay_id  hours_in  \\\n",
       "0              0           3   145834      211552         0   \n",
       "146          146           4   185777      294638         0   \n",
       "187          187           6   107064      228232         0   \n",
       "276          276           9   150750      220597         0   \n",
       "404          404          11   194540      229441         0   \n",
       "...          ...         ...      ...         ...       ...   \n",
       "2200726  2200726       99983   117390      286606         0   \n",
       "2200751  2200751       99991   151118      226241         0   \n",
       "2200827  2200827       99992   197084      242052         0   \n",
       "2200875  2200875       99995   137810      229633         0   \n",
       "2200927  2200927       99999   113369      246512         0   \n",
       "\n",
       "                                                icd9_codes  \n",
       "0           0389,78559,5849,4275,41071,4280,6826,4254,2639  \n",
       "146          042,1363,7994,2763,7907,5715,04111,V090,E9317  \n",
       "187              40391,4440,9972,2766,2767,2859,2753,V1582  \n",
       "276                           431,5070,4280,5849,2765,4019  \n",
       "404                                                   1913  \n",
       "...                                                    ...  \n",
       "2200726       41001,5849,41401,60001,2724,4019,V4582,78820  \n",
       "2200751  56211,0389,5570,5849,99592,56081,78959,5538,78...  \n",
       "2200827  9999,56881,5772,2851,5849,5799,72992,53081,401...  \n",
       "2200875  4414,42833,99812,2851,4241,25000,99811,9961,E8...  \n",
       "2200927                         75612,7861,4019,25000,4139  \n",
       "\n",
       "[34472 rows x 6 columns]"
      ]
     },
     "execution_count": 36,
     "metadata": {},
     "output_type": "execute_result"
    }
   ],
   "source": [
    "b"
   ]
  },
  {
   "cell_type": "code",
   "execution_count": 44,
   "id": "985274d3",
   "metadata": {},
   "outputs": [
    {
     "data": {
      "text/plain": [
       "(34472,)"
      ]
     },
     "execution_count": 44,
     "metadata": {},
     "output_type": "execute_result"
    }
   ],
   "source": [
    "diags.index.unique(level=2).shape"
   ]
  }
 ],
 "metadata": {
  "kernelspec": {
   "display_name": "Python 3 (ipykernel)",
   "language": "python",
   "name": "python3"
  },
  "language_info": {
   "codemirror_mode": {
    "name": "ipython",
    "version": 3
   },
   "file_extension": ".py",
   "mimetype": "text/x-python",
   "name": "python",
   "nbconvert_exporter": "python",
   "pygments_lexer": "ipython3",
   "version": "3.10.4"
  }
 },
 "nbformat": 4,
 "nbformat_minor": 5
}
