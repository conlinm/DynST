{
 "cells": [
  {
   "cell_type": "code",
   "execution_count": 36,
   "id": "6827e105",
   "metadata": {},
   "outputs": [],
   "source": [
    "import numpy as np\n",
    "import pandas as pd\n",
    "from sklearn.linear_model import LogisticRegressionCV"
   ]
  },
  {
   "cell_type": "code",
   "execution_count": 8,
   "id": "6f573d3b",
   "metadata": {},
   "outputs": [],
   "source": [
    "df = pd.read_csv(\"../data/semisynth_covariates.csv\", index_col=0)"
   ]
  },
  {
   "cell_type": "code",
   "execution_count": 9,
   "id": "4305dde3",
   "metadata": {},
   "outputs": [
    {
     "data": {
      "text/html": [
       "<div>\n",
       "<style scoped>\n",
       "    .dataframe tbody tr th:only-of-type {\n",
       "        vertical-align: middle;\n",
       "    }\n",
       "\n",
       "    .dataframe tbody tr th {\n",
       "        vertical-align: top;\n",
       "    }\n",
       "\n",
       "    .dataframe thead th {\n",
       "        text-align: right;\n",
       "    }\n",
       "</style>\n",
       "<table border=\"1\" class=\"dataframe\">\n",
       "  <thead>\n",
       "    <tr style=\"text-align: right;\">\n",
       "      <th></th>\n",
       "      <th>gender</th>\n",
       "      <th>stay_length</th>\n",
       "      <th>vent</th>\n",
       "      <th>hypertension</th>\n",
       "      <th>coronary_ath</th>\n",
       "      <th>atrial_fib</th>\n",
       "      <th>hematocrit</th>\n",
       "      <th>platelets</th>\n",
       "      <th>hemoglobin</th>\n",
       "    </tr>\n",
       "    <tr>\n",
       "      <th>subject_id</th>\n",
       "      <th></th>\n",
       "      <th></th>\n",
       "      <th></th>\n",
       "      <th></th>\n",
       "      <th></th>\n",
       "      <th></th>\n",
       "      <th></th>\n",
       "      <th></th>\n",
       "      <th></th>\n",
       "    </tr>\n",
       "  </thead>\n",
       "  <tbody>\n",
       "    <tr>\n",
       "      <th>4</th>\n",
       "      <td>0</td>\n",
       "      <td>-0.360949</td>\n",
       "      <td>0</td>\n",
       "      <td>0</td>\n",
       "      <td>0</td>\n",
       "      <td>0</td>\n",
       "      <td>0.018405</td>\n",
       "      <td>0.413658</td>\n",
       "      <td>-0.111641</td>\n",
       "    </tr>\n",
       "    <tr>\n",
       "      <th>6</th>\n",
       "      <td>0</td>\n",
       "      <td>1.359324</td>\n",
       "      <td>0</td>\n",
       "      <td>0</td>\n",
       "      <td>0</td>\n",
       "      <td>0</td>\n",
       "      <td>0.890256</td>\n",
       "      <td>-0.393352</td>\n",
       "      <td>0.933756</td>\n",
       "    </tr>\n",
       "    <tr>\n",
       "      <th>9</th>\n",
       "      <td>1</td>\n",
       "      <td>2.757045</td>\n",
       "      <td>1</td>\n",
       "      <td>1</td>\n",
       "      <td>0</td>\n",
       "      <td>0</td>\n",
       "      <td>1.006502</td>\n",
       "      <td>1.059265</td>\n",
       "      <td>1.043798</td>\n",
       "    </tr>\n",
       "    <tr>\n",
       "      <th>11</th>\n",
       "      <td>0</td>\n",
       "      <td>-0.432627</td>\n",
       "      <td>0</td>\n",
       "      <td>0</td>\n",
       "      <td>0</td>\n",
       "      <td>0</td>\n",
       "      <td>0.851507</td>\n",
       "      <td>0.279156</td>\n",
       "      <td>0.988777</td>\n",
       "    </tr>\n",
       "    <tr>\n",
       "      <th>13</th>\n",
       "      <td>0</td>\n",
       "      <td>1.323485</td>\n",
       "      <td>1</td>\n",
       "      <td>1</td>\n",
       "      <td>1</td>\n",
       "      <td>0</td>\n",
       "      <td>-0.969693</td>\n",
       "      <td>-0.976192</td>\n",
       "      <td>-1.046996</td>\n",
       "    </tr>\n",
       "  </tbody>\n",
       "</table>\n",
       "</div>"
      ],
      "text/plain": [
       "            gender  stay_length  vent  hypertension  coronary_ath  atrial_fib  \\\n",
       "subject_id                                                                      \n",
       "4                0    -0.360949     0             0             0           0   \n",
       "6                0     1.359324     0             0             0           0   \n",
       "9                1     2.757045     1             1             0           0   \n",
       "11               0    -0.432627     0             0             0           0   \n",
       "13               0     1.323485     1             1             1           0   \n",
       "\n",
       "            hematocrit  platelets  hemoglobin  \n",
       "subject_id                                     \n",
       "4             0.018405   0.413658   -0.111641  \n",
       "6             0.890256  -0.393352    0.933756  \n",
       "9             1.006502   1.059265    1.043798  \n",
       "11            0.851507   0.279156    0.988777  \n",
       "13           -0.969693  -0.976192   -1.046996  "
      ]
     },
     "execution_count": 9,
     "metadata": {},
     "output_type": "execute_result"
    }
   ],
   "source": [
    "df.head()"
   ]
  },
  {
   "cell_type": "code",
   "execution_count": 10,
   "id": "6b367b4b",
   "metadata": {},
   "outputs": [],
   "source": [
    "outcome_probs = pd.read_csv(\"../data/outcome_probs.csv\", index_col=0)"
   ]
  },
  {
   "cell_type": "code",
   "execution_count": 11,
   "id": "6de34894",
   "metadata": {},
   "outputs": [
    {
     "data": {
      "text/html": [
       "<div>\n",
       "<style scoped>\n",
       "    .dataframe tbody tr th:only-of-type {\n",
       "        vertical-align: middle;\n",
       "    }\n",
       "\n",
       "    .dataframe tbody tr th {\n",
       "        vertical-align: top;\n",
       "    }\n",
       "\n",
       "    .dataframe thead th {\n",
       "        text-align: right;\n",
       "    }\n",
       "</style>\n",
       "<table border=\"1\" class=\"dataframe\">\n",
       "  <thead>\n",
       "    <tr style=\"text-align: right;\">\n",
       "      <th></th>\n",
       "      <th>p</th>\n",
       "      <th>p0</th>\n",
       "      <th>p1</th>\n",
       "    </tr>\n",
       "    <tr>\n",
       "      <th>subject_id</th>\n",
       "      <th></th>\n",
       "      <th></th>\n",
       "      <th></th>\n",
       "    </tr>\n",
       "  </thead>\n",
       "  <tbody>\n",
       "    <tr>\n",
       "      <th>4</th>\n",
       "      <td>0.115001</td>\n",
       "      <td>0.115001</td>\n",
       "      <td>0.006428</td>\n",
       "    </tr>\n",
       "    <tr>\n",
       "      <th>6</th>\n",
       "      <td>0.068714</td>\n",
       "      <td>0.068714</td>\n",
       "      <td>0.003660</td>\n",
       "    </tr>\n",
       "    <tr>\n",
       "      <th>9</th>\n",
       "      <td>0.028882</td>\n",
       "      <td>0.373972</td>\n",
       "      <td>0.028882</td>\n",
       "    </tr>\n",
       "    <tr>\n",
       "      <th>11</th>\n",
       "      <td>0.002724</td>\n",
       "      <td>0.002724</td>\n",
       "      <td>0.000136</td>\n",
       "    </tr>\n",
       "    <tr>\n",
       "      <th>13</th>\n",
       "      <td>0.994895</td>\n",
       "      <td>0.999745</td>\n",
       "      <td>0.994895</td>\n",
       "    </tr>\n",
       "  </tbody>\n",
       "</table>\n",
       "</div>"
      ],
      "text/plain": [
       "                   p        p0        p1\n",
       "subject_id                              \n",
       "4           0.115001  0.115001  0.006428\n",
       "6           0.068714  0.068714  0.003660\n",
       "9           0.028882  0.373972  0.028882\n",
       "11          0.002724  0.002724  0.000136\n",
       "13          0.994895  0.999745  0.994895"
      ]
     },
     "execution_count": 11,
     "metadata": {},
     "output_type": "execute_result"
    }
   ],
   "source": [
    "outcome_probs.head()"
   ]
  },
  {
   "cell_type": "code",
   "execution_count": 14,
   "id": "2ca87fc1",
   "metadata": {},
   "outputs": [],
   "source": [
    "np.random.seed(4)\n",
    "y = np.random.binomial(1, outcome_probs[\"p\"])\n",
    "y0 = np.random.binomial(1, outcome_probs[\"p0\"])\n",
    "y1 = np.random.binomial(1, outcome_probs[\"p1\"])"
   ]
  },
  {
   "cell_type": "code",
   "execution_count": 25,
   "id": "2023aefe",
   "metadata": {},
   "outputs": [
    {
     "data": {
      "text/plain": [
       "array([[0, 0, 0],\n",
       "       [1, 1, 1],\n",
       "       [0, 0, 0],\n",
       "       ...,\n",
       "       [0, 0, 0],\n",
       "       [1, 1, 1],\n",
       "       [0, 1, 1]])"
      ]
     },
     "execution_count": 25,
     "metadata": {},
     "output_type": "execute_result"
    }
   ],
   "source": [
    "np.random.binomial(1, outcome_probs)[df[\"vent\"] == 1]"
   ]
  },
  {
   "cell_type": "code",
   "execution_count": 27,
   "id": "eb0326df",
   "metadata": {},
   "outputs": [
    {
     "data": {
      "text/plain": [
       "0.4994558585891897"
      ]
     },
     "execution_count": 27,
     "metadata": {},
     "output_type": "execute_result"
    }
   ],
   "source": [
    "(outcome_probs[\"p\"] > 0.5).mean()"
   ]
  },
  {
   "cell_type": "code",
   "execution_count": 31,
   "id": "a1ef9c2b",
   "metadata": {},
   "outputs": [],
   "source": [
    "y_alt = (outcome_probs[\"p\"] > 0.5).astype(int)"
   ]
  },
  {
   "cell_type": "code",
   "execution_count": 33,
   "id": "bd26ada1",
   "metadata": {},
   "outputs": [
    {
     "data": {
      "text/plain": [
       "0.01021181080542094"
      ]
     },
     "execution_count": 33,
     "metadata": {},
     "output_type": "execute_result"
    }
   ],
   "source": [
    "y_alt[df[\"vent\"] == 1].mean() - y_alt[df[\"vent\"] == 0].mean()"
   ]
  },
  {
   "cell_type": "code",
   "execution_count": 30,
   "id": "84e5822b",
   "metadata": {},
   "outputs": [
    {
     "data": {
      "text/plain": [
       "0.24100517758796952"
      ]
     },
     "execution_count": 30,
     "metadata": {},
     "output_type": "execute_result"
    }
   ],
   "source": [
    "(outcome_probs[\"p0\"] > 0.5).mean() - (outcome_probs[\"p1\"] > 0.5).mean()"
   ]
  },
  {
   "cell_type": "code",
   "execution_count": 47,
   "id": "85bdd9d2",
   "metadata": {},
   "outputs": [
    {
     "data": {
      "text/plain": [
       "-0.2264287834317185"
      ]
     },
     "execution_count": 47,
     "metadata": {},
     "output_type": "execute_result"
    }
   ],
   "source": [
    "(y1 - y0).mean()"
   ]
  },
  {
   "cell_type": "code",
   "execution_count": 37,
   "id": "07116ce9",
   "metadata": {},
   "outputs": [],
   "source": [
    "clf = LogisticRegressionCV(cv=5, random_state=0).fit(df, y)"
   ]
  },
  {
   "cell_type": "code",
   "execution_count": 43,
   "id": "88ac0cee",
   "metadata": {},
   "outputs": [],
   "source": [
    "df_treated = df.copy()\n",
    "df[\"vent\"] = 1\n",
    "df_control = df.copy()\n",
    "df[\"vent\"] = 0"
   ]
  },
  {
   "cell_type": "code",
   "execution_count": 48,
   "id": "b6a308c8",
   "metadata": {},
   "outputs": [],
   "source": [
    "a = clf.predict_proba(df_treated)[:, 0] - clf.predict_proba(df_control)[:, 0]"
   ]
  },
  {
   "cell_type": "code",
   "execution_count": 49,
   "id": "d0559dba",
   "metadata": {},
   "outputs": [
    {
     "data": {
      "text/plain": [
       "-0.2171631887040924"
      ]
     },
     "execution_count": 49,
     "metadata": {},
     "output_type": "execute_result"
    }
   ],
   "source": [
    "a.mean()"
   ]
  }
 ],
 "metadata": {
  "kernelspec": {
   "display_name": "Python 3 (ipykernel)",
   "language": "python",
   "name": "python3"
  },
  "language_info": {
   "codemirror_mode": {
    "name": "ipython",
    "version": 3
   },
   "file_extension": ".py",
   "mimetype": "text/x-python",
   "name": "python",
   "nbconvert_exporter": "python",
   "pygments_lexer": "ipython3",
   "version": "3.10.4"
  }
 },
 "nbformat": 4,
 "nbformat_minor": 5
}
