{
 "cells": [
  {
   "cell_type": "code",
   "execution_count": 1,
   "id": "2f010072",
   "metadata": {},
   "outputs": [],
   "source": [
    "import pandas as pd\n",
    "import numpy as np\n",
    "import matplotlib.pyplot as plt"
   ]
  },
  {
   "cell_type": "code",
   "execution_count": 2,
   "id": "264a9dcf",
   "metadata": {},
   "outputs": [],
   "source": [
    "h5 = pd.HDFStore(\"/home/pchatha/mimic/data/all_hourly_data.h5\")"
   ]
  },
  {
   "cell_type": "code",
   "execution_count": 3,
   "id": "279dff21",
   "metadata": {},
   "outputs": [
    {
     "data": {
      "text/plain": [
       "['/codes',\n",
       " '/interventions',\n",
       " '/patients',\n",
       " '/vitals_labs',\n",
       " '/vitals_labs_mean',\n",
       " '/patients/meta/values_block_6/meta',\n",
       " '/patients/meta/values_block_5/meta',\n",
       " '/patients/meta/values_block_4/meta',\n",
       " '/patients/meta/values_block_0/meta']"
      ]
     },
     "execution_count": 3,
     "metadata": {},
     "output_type": "execute_result"
    }
   ],
   "source": [
    "h5.keys()"
   ]
  },
  {
   "cell_type": "code",
   "execution_count": 4,
   "id": "dcbd7c7c",
   "metadata": {},
   "outputs": [],
   "source": [
    "interventions = h5[\"interventions\"].reset_index()"
   ]
  },
  {
   "cell_type": "code",
   "execution_count": 5,
   "id": "abe932ae",
   "metadata": {},
   "outputs": [],
   "source": [
    "def sigmoid(x):\n",
    "    return 1 / (1 + np.exp(-x))"
   ]
  },
  {
   "cell_type": "markdown",
   "id": "560cf10e",
   "metadata": {},
   "source": [
    "### Subset to Patient Stays between 16-128 hours"
   ]
  },
  {
   "cell_type": "code",
   "execution_count": 6,
   "id": "580e753f",
   "metadata": {},
   "outputs": [
    {
     "data": {
      "text/plain": [
       "34472"
      ]
     },
     "execution_count": 6,
     "metadata": {},
     "output_type": "execute_result"
    }
   ],
   "source": [
    "interventions['subject_id'].nunique()"
   ]
  },
  {
   "cell_type": "code",
   "execution_count": 7,
   "id": "e9daf5ee",
   "metadata": {},
   "outputs": [],
   "source": [
    "stay_lengths = interventions.groupby(\"subject_id\").size()\n",
    "stay_lengths = stay_lengths[(stay_lengths >= 16) & (stay_lengths <= 128)]\n",
    "stay_lengths.name=\"stay_length\""
   ]
  },
  {
   "cell_type": "code",
   "execution_count": 8,
   "id": "2bd28de6",
   "metadata": {},
   "outputs": [
    {
     "data": {
      "text/plain": [
       "30323"
      ]
     },
     "execution_count": 8,
     "metadata": {},
     "output_type": "execute_result"
    }
   ],
   "source": [
    "len(stay_lengths.index)"
   ]
  },
  {
   "cell_type": "code",
   "execution_count": 9,
   "id": "80b1175d",
   "metadata": {},
   "outputs": [
    {
     "data": {
      "text/plain": [
       "count    30323.000000\n",
       "mean        51.071398\n",
       "std         27.902553\n",
       "min         16.000000\n",
       "25%         28.000000\n",
       "50%         45.000000\n",
       "75%         69.000000\n",
       "max        128.000000\n",
       "Name: stay_length, dtype: float64"
      ]
     },
     "execution_count": 9,
     "metadata": {},
     "output_type": "execute_result"
    }
   ],
   "source": [
    "stay_lengths.describe()"
   ]
  },
  {
   "cell_type": "markdown",
   "id": "37a260df",
   "metadata": {},
   "source": [
    "### Extract Treatment Status"
   ]
  },
  {
   "cell_type": "code",
   "execution_count": 10,
   "id": "f6f08af2",
   "metadata": {},
   "outputs": [
    {
     "data": {
      "text/plain": [
       "0.389011371547923"
      ]
     },
     "execution_count": 10,
     "metadata": {},
     "output_type": "execute_result"
    }
   ],
   "source": [
    "interventions.groupby(\"subject_id\")[\"vent\"].any().mean()"
   ]
  },
  {
   "cell_type": "code",
   "execution_count": 11,
   "id": "01023870",
   "metadata": {},
   "outputs": [],
   "source": [
    "vent = interventions.groupby(\"subject_id\")[\"vent\"].any().astype(int)"
   ]
  },
  {
   "cell_type": "code",
   "execution_count": 12,
   "id": "4f7d0063",
   "metadata": {},
   "outputs": [],
   "source": [
    "vent = vent.to_frame().join(stay_lengths, how=\"right\")"
   ]
  },
  {
   "cell_type": "code",
   "execution_count": 13,
   "id": "629d94cd",
   "metadata": {},
   "outputs": [
    {
     "data": {
      "text/plain": [
       "(30323, 2)"
      ]
     },
     "execution_count": 13,
     "metadata": {},
     "output_type": "execute_result"
    }
   ],
   "source": [
    "vent.shape"
   ]
  },
  {
   "cell_type": "code",
   "execution_count": 14,
   "id": "9956cf89",
   "metadata": {},
   "outputs": [
    {
     "data": {
      "text/plain": [
       "0.35438446064043794"
      ]
     },
     "execution_count": 14,
     "metadata": {},
     "output_type": "execute_result"
    }
   ],
   "source": [
    "vent['vent'].mean()"
   ]
  },
  {
   "cell_type": "code",
   "execution_count": 15,
   "id": "c57674e2",
   "metadata": {},
   "outputs": [
    {
     "data": {
      "text/plain": [
       "vent\n",
       "0    46.918476\n",
       "1    58.637167\n",
       "Name: stay_length, dtype: float64"
      ]
     },
     "execution_count": 15,
     "metadata": {},
     "output_type": "execute_result"
    }
   ],
   "source": [
    "vent.groupby(\"vent\")[\"stay_length\"].mean()"
   ]
  },
  {
   "cell_type": "code",
   "execution_count": 16,
   "id": "8aa268b4",
   "metadata": {},
   "outputs": [
    {
     "data": {
      "text/html": [
       "<div>\n",
       "<style scoped>\n",
       "    .dataframe tbody tr th:only-of-type {\n",
       "        vertical-align: middle;\n",
       "    }\n",
       "\n",
       "    .dataframe tbody tr th {\n",
       "        vertical-align: top;\n",
       "    }\n",
       "\n",
       "    .dataframe thead th {\n",
       "        text-align: right;\n",
       "    }\n",
       "</style>\n",
       "<table border=\"1\" class=\"dataframe\">\n",
       "  <thead>\n",
       "    <tr style=\"text-align: right;\">\n",
       "      <th></th>\n",
       "      <th>vent</th>\n",
       "      <th>stay_length</th>\n",
       "    </tr>\n",
       "    <tr>\n",
       "      <th>subject_id</th>\n",
       "      <th></th>\n",
       "      <th></th>\n",
       "    </tr>\n",
       "  </thead>\n",
       "  <tbody>\n",
       "    <tr>\n",
       "      <th>4</th>\n",
       "      <td>0</td>\n",
       "      <td>41</td>\n",
       "    </tr>\n",
       "    <tr>\n",
       "      <th>6</th>\n",
       "      <td>0</td>\n",
       "      <td>89</td>\n",
       "    </tr>\n",
       "    <tr>\n",
       "      <th>9</th>\n",
       "      <td>1</td>\n",
       "      <td>128</td>\n",
       "    </tr>\n",
       "    <tr>\n",
       "      <th>11</th>\n",
       "      <td>0</td>\n",
       "      <td>39</td>\n",
       "    </tr>\n",
       "    <tr>\n",
       "      <th>13</th>\n",
       "      <td>1</td>\n",
       "      <td>88</td>\n",
       "    </tr>\n",
       "  </tbody>\n",
       "</table>\n",
       "</div>"
      ],
      "text/plain": [
       "            vent  stay_length\n",
       "subject_id                   \n",
       "4              0           41\n",
       "6              0           89\n",
       "9              1          128\n",
       "11             0           39\n",
       "13             1           88"
      ]
     },
     "execution_count": 16,
     "metadata": {},
     "output_type": "execute_result"
    }
   ],
   "source": [
    "vent.head()"
   ]
  },
  {
   "cell_type": "markdown",
   "id": "edd57385",
   "metadata": {},
   "source": [
    "### Demographic Data"
   ]
  },
  {
   "cell_type": "code",
   "execution_count": 17,
   "id": "39631c94",
   "metadata": {},
   "outputs": [],
   "source": [
    "demog = h5[\"patients\"]"
   ]
  },
  {
   "cell_type": "code",
   "execution_count": 18,
   "id": "b437ac04",
   "metadata": {},
   "outputs": [],
   "source": [
    "demog = demog[[\"gender\", \"age\"]]"
   ]
  },
  {
   "cell_type": "code",
   "execution_count": 19,
   "id": "cba9d91a",
   "metadata": {},
   "outputs": [
    {
     "data": {
      "text/plain": [
       "M    0.565502\n",
       "F    0.434498\n",
       "Name: gender, dtype: float64"
      ]
     },
     "execution_count": 19,
     "metadata": {},
     "output_type": "execute_result"
    }
   ],
   "source": [
    "demog[\"gender\"].value_counts(normalize=True)"
   ]
  },
  {
   "cell_type": "code",
   "execution_count": 20,
   "id": "3a2112ab",
   "metadata": {},
   "outputs": [],
   "source": [
    "d = {\"F\":0, \"M\":1}\n",
    "demog[\"gender\"] = demog[\"gender\"].apply(lambda x: d.get(x))"
   ]
  },
  {
   "cell_type": "code",
   "execution_count": 21,
   "id": "c0f28b86",
   "metadata": {},
   "outputs": [],
   "source": [
    "demog[\"age\"] = demog[\"age\"].clip(upper=90)"
   ]
  },
  {
   "cell_type": "code",
   "execution_count": 22,
   "id": "c0f95fe7",
   "metadata": {},
   "outputs": [
    {
     "data": {
      "text/plain": [
       "count    34472.000000\n",
       "mean        63.841678\n",
       "std         17.590891\n",
       "min         15.052693\n",
       "25%         52.466861\n",
       "50%         65.741463\n",
       "75%         78.016920\n",
       "max         90.000000\n",
       "Name: age, dtype: float64"
      ]
     },
     "execution_count": 22,
     "metadata": {},
     "output_type": "execute_result"
    }
   ],
   "source": [
    "demog[\"age\"].describe()"
   ]
  },
  {
   "cell_type": "code",
   "execution_count": 23,
   "id": "0bb98c92",
   "metadata": {},
   "outputs": [],
   "source": [
    "demog[\"age\"] = (demog[\"age\"] - demog[\"age\"].mean()) / demog[\"age\"].std()"
   ]
  },
  {
   "cell_type": "code",
   "execution_count": 24,
   "id": "306fc059",
   "metadata": {},
   "outputs": [
    {
     "data": {
      "text/plain": [
       "count    3.447200e+04\n",
       "mean     2.538682e-14\n",
       "std      1.000000e+00\n",
       "min     -2.773537e+00\n",
       "25%     -6.466311e-01\n",
       "50%      1.079982e-01\n",
       "75%      8.058286e-01\n",
       "max      1.487038e+00\n",
       "Name: age, dtype: float64"
      ]
     },
     "execution_count": 24,
     "metadata": {},
     "output_type": "execute_result"
    }
   ],
   "source": [
    "demog[\"age\"].describe()"
   ]
  },
  {
   "cell_type": "code",
   "execution_count": 25,
   "id": "d1dbe03a",
   "metadata": {},
   "outputs": [],
   "source": [
    "demog = demog.reset_index().set_index(\"subject_id\")[[\"gender\", \"age\"]]"
   ]
  },
  {
   "cell_type": "code",
   "execution_count": 26,
   "id": "012a8ba2",
   "metadata": {},
   "outputs": [],
   "source": [
    "demog = demog.join(stay_lengths, how=\"right\")"
   ]
  },
  {
   "cell_type": "markdown",
   "id": "ac3a8486",
   "metadata": {},
   "source": [
    "### Get ICD Data"
   ]
  },
  {
   "cell_type": "code",
   "execution_count": 27,
   "id": "20e2b919",
   "metadata": {},
   "outputs": [],
   "source": [
    "codes = h5[\"codes\"].reset_index()[[\"subject_id\", \"icd9_codes\"]].drop_duplicates([\"subject_id\"])"
   ]
  },
  {
   "cell_type": "code",
   "execution_count": 28,
   "id": "32421fe5",
   "metadata": {},
   "outputs": [],
   "source": [
    "codes = codes.set_index(\"subject_id\").join(stay_lengths, how=\"right\")"
   ]
  },
  {
   "cell_type": "code",
   "execution_count": 29,
   "id": "c555caea",
   "metadata": {},
   "outputs": [
    {
     "data": {
      "text/plain": [
       "count    30323.000000\n",
       "mean        10.542361\n",
       "std          5.590807\n",
       "min          1.000000\n",
       "25%          7.000000\n",
       "50%          9.000000\n",
       "75%         13.000000\n",
       "max         39.000000\n",
       "Name: icd9_codes, dtype: float64"
      ]
     },
     "execution_count": 29,
     "metadata": {},
     "output_type": "execute_result"
    }
   ],
   "source": [
    "codes[\"icd9_codes\"].apply(len).describe()"
   ]
  },
  {
   "cell_type": "code",
   "execution_count": 30,
   "id": "1d2edf34",
   "metadata": {},
   "outputs": [],
   "source": [
    "codes = codes.explode(\"icd9_codes\")"
   ]
  },
  {
   "cell_type": "markdown",
   "id": "6c6a5f87",
   "metadata": {},
   "source": [
    "Special ICD9 Codes:\n",
    "4019: hypertension\n",
    "41401: coronary atherosclerosis\n",
    "42731: atrial fibrillation (all more likely in treated group)"
   ]
  },
  {
   "cell_type": "markdown",
   "id": "b6ab8c31",
   "metadata": {},
   "source": [
    "#### Incorporate Confounding Codes"
   ]
  },
  {
   "cell_type": "code",
   "execution_count": 31,
   "id": "b465f231",
   "metadata": {},
   "outputs": [],
   "source": [
    "conf_codes = codes.copy()"
   ]
  },
  {
   "cell_type": "code",
   "execution_count": 32,
   "id": "25ed8c0d",
   "metadata": {},
   "outputs": [],
   "source": [
    "conf_codes[\"hypertension\"] = (conf_codes[\"icd9_codes\"] == \"4019\")\n",
    "conf_codes[\"coronary_ath\"] = (conf_codes[\"icd9_codes\"] == \"41401\")\n",
    "conf_codes[\"atrial_fib\"] = (conf_codes[\"icd9_codes\"] == \"42731\")"
   ]
  },
  {
   "cell_type": "code",
   "execution_count": 33,
   "id": "b190ce43",
   "metadata": {},
   "outputs": [],
   "source": [
    "conf_codes = conf_codes.groupby(conf_codes.index)[[\"hypertension\", \"coronary_ath\", \"atrial_fib\"]].any().astype(int)"
   ]
  },
  {
   "cell_type": "code",
   "execution_count": 34,
   "id": "4e565557",
   "metadata": {},
   "outputs": [
    {
     "data": {
      "text/plain": [
       "0.6264881443128978"
      ]
     },
     "execution_count": 34,
     "metadata": {},
     "output_type": "execute_result"
    }
   ],
   "source": [
    "conf_codes.any(axis=1).mean()"
   ]
  },
  {
   "cell_type": "markdown",
   "id": "54f0234c",
   "metadata": {},
   "source": [
    "### Get Lab Data"
   ]
  },
  {
   "cell_type": "code",
   "execution_count": 35,
   "id": "6f7d8b6b",
   "metadata": {},
   "outputs": [],
   "source": [
    "vitals = h5[\"vitals_labs_mean\"].droplevel(['hadm_id', 'icustay_id'])\n",
    "vitals.columns = vitals.columns.get_level_values(0)"
   ]
  },
  {
   "cell_type": "markdown",
   "id": "0e1a0d19",
   "metadata": {},
   "source": [
    "Confounding vitals: heart rate, hematocrit, platelets, hemoglobin"
   ]
  },
  {
   "cell_type": "code",
   "execution_count": 36,
   "id": "96ccac73",
   "metadata": {},
   "outputs": [],
   "source": [
    "vitals_list = vitals.notna().sum(0).sort_values(ascending=False).head(25).index"
   ]
  },
  {
   "cell_type": "code",
   "execution_count": 37,
   "id": "bd473598",
   "metadata": {},
   "outputs": [],
   "source": [
    "vitals = vitals[vitals_list]"
   ]
  },
  {
   "cell_type": "code",
   "execution_count": 38,
   "id": "67f2193d",
   "metadata": {},
   "outputs": [],
   "source": [
    "# vitals = vitals[vital_list]\n",
    "vitals = vitals.fillna(method=\"ffill\")\n",
    "vitals = vitals.fillna(method=\"bfill\")"
   ]
  },
  {
   "cell_type": "code",
   "execution_count": 39,
   "id": "f98102f3",
   "metadata": {},
   "outputs": [],
   "source": [
    "mean = np.mean(vitals, axis=0)\n",
    "std = np.std(vitals, axis=0)\n",
    "vitals = (vitals - mean) / std"
   ]
  },
  {
   "cell_type": "code",
   "execution_count": 40,
   "id": "25924556",
   "metadata": {},
   "outputs": [],
   "source": [
    "vitals = vitals.join(stay_lengths, how=\"right\")"
   ]
  },
  {
   "cell_type": "code",
   "execution_count": 41,
   "id": "95dcba94",
   "metadata": {},
   "outputs": [
    {
     "data": {
      "text/plain": [
       "Int64Index([    4,     6,     9,    11,    13,    17,    18,    19,    20,\n",
       "               22,\n",
       "            ...\n",
       "            99946, 99957, 99965, 99966, 99973, 99983, 99991, 99992, 99995,\n",
       "            99999],\n",
       "           dtype='int64', name='subject_id', length=30323)"
      ]
     },
     "execution_count": 41,
     "metadata": {},
     "output_type": "execute_result"
    }
   ],
   "source": [
    "vitals.index.levels[0]"
   ]
  },
  {
   "cell_type": "markdown",
   "id": "5ccdc965",
   "metadata": {},
   "source": [
    "Confounding vitals: heart rate, hematocrit, platelets, hemoglobin"
   ]
  },
  {
   "cell_type": "code",
   "execution_count": 42,
   "id": "d791f1dd",
   "metadata": {},
   "outputs": [],
   "source": [
    "conf_vitals = vitals[[\"hematocrit\", \"hemoglobin\", \"platelets\", \"mean blood pressure\"]]"
   ]
  },
  {
   "cell_type": "code",
   "execution_count": 43,
   "id": "839348d1",
   "metadata": {},
   "outputs": [],
   "source": [
    "conf_vitals = conf_vitals.groupby(level=0).tail(3).groupby(level = 0).mean()"
   ]
  },
  {
   "cell_type": "markdown",
   "id": "35833d3a",
   "metadata": {},
   "source": [
    "# Combine Everything!"
   ]
  },
  {
   "cell_type": "code",
   "execution_count": 44,
   "id": "0a2d2093",
   "metadata": {},
   "outputs": [],
   "source": [
    "df = demog[[\"gender\", \"stay_length\"]].join(vent[\"vent\"])"
   ]
  },
  {
   "cell_type": "code",
   "execution_count": 45,
   "id": "407bba95",
   "metadata": {},
   "outputs": [],
   "source": [
    "df[\"gender\"] = df[\"gender\"].astype(int)"
   ]
  },
  {
   "cell_type": "code",
   "execution_count": 46,
   "id": "9d4ee2f2",
   "metadata": {},
   "outputs": [],
   "source": [
    "df[\"stay_length\"] = (df[\"stay_length\"] - df[\"stay_length\"].mean()) / df[\"stay_length\"].std()"
   ]
  },
  {
   "cell_type": "markdown",
   "id": "2f8408e1",
   "metadata": {},
   "source": [
    "63% of patients have at least one of the confounding codes (good!)"
   ]
  },
  {
   "cell_type": "code",
   "execution_count": 47,
   "id": "9ecb3760",
   "metadata": {},
   "outputs": [],
   "source": [
    "df = df.join(conf_codes)"
   ]
  },
  {
   "cell_type": "code",
   "execution_count": 41,
   "id": "341705db",
   "metadata": {},
   "outputs": [],
   "source": [
    "# conf_vitals = vitals[[\"hematocrit\", \"platelets\", \"hemoglobin\", \"mean blood pressure\"]]"
   ]
  },
  {
   "cell_type": "code",
   "execution_count": 49,
   "id": "cc6c1bd1",
   "metadata": {},
   "outputs": [],
   "source": [
    "df = df.join(conf_vitals)"
   ]
  },
  {
   "cell_type": "code",
   "execution_count": 50,
   "id": "fd7d45d7",
   "metadata": {},
   "outputs": [
    {
     "data": {
      "text/html": [
       "<div>\n",
       "<style scoped>\n",
       "    .dataframe tbody tr th:only-of-type {\n",
       "        vertical-align: middle;\n",
       "    }\n",
       "\n",
       "    .dataframe tbody tr th {\n",
       "        vertical-align: top;\n",
       "    }\n",
       "\n",
       "    .dataframe thead th {\n",
       "        text-align: right;\n",
       "    }\n",
       "</style>\n",
       "<table border=\"1\" class=\"dataframe\">\n",
       "  <thead>\n",
       "    <tr style=\"text-align: right;\">\n",
       "      <th></th>\n",
       "      <th>gender</th>\n",
       "      <th>stay_length</th>\n",
       "      <th>hypertension</th>\n",
       "      <th>coronary_ath</th>\n",
       "      <th>atrial_fib</th>\n",
       "      <th>hematocrit</th>\n",
       "      <th>hemoglobin</th>\n",
       "      <th>platelets</th>\n",
       "      <th>mean blood pressure</th>\n",
       "    </tr>\n",
       "    <tr>\n",
       "      <th>vent</th>\n",
       "      <th></th>\n",
       "      <th></th>\n",
       "      <th></th>\n",
       "      <th></th>\n",
       "      <th></th>\n",
       "      <th></th>\n",
       "      <th></th>\n",
       "      <th></th>\n",
       "      <th></th>\n",
       "    </tr>\n",
       "  </thead>\n",
       "  <tbody>\n",
       "    <tr>\n",
       "      <th>0</th>\n",
       "      <td>0.535935</td>\n",
       "      <td>-0.148837</td>\n",
       "      <td>0.400368</td>\n",
       "      <td>0.203249</td>\n",
       "      <td>0.201972</td>\n",
       "      <td>0.178461</td>\n",
       "      <td>0.165666</td>\n",
       "      <td>0.079059</td>\n",
       "      <td>0.025547</td>\n",
       "    </tr>\n",
       "    <tr>\n",
       "      <th>1</th>\n",
       "      <td>0.624232</td>\n",
       "      <td>0.271150</td>\n",
       "      <td>0.508003</td>\n",
       "      <td>0.407873</td>\n",
       "      <td>0.280663</td>\n",
       "      <td>-0.192991</td>\n",
       "      <td>-0.150942</td>\n",
       "      <td>-0.240324</td>\n",
       "      <td>-0.265774</td>\n",
       "    </tr>\n",
       "  </tbody>\n",
       "</table>\n",
       "</div>"
      ],
      "text/plain": [
       "        gender  stay_length  hypertension  coronary_ath  atrial_fib  \\\n",
       "vent                                                                  \n",
       "0     0.535935    -0.148837      0.400368      0.203249    0.201972   \n",
       "1     0.624232     0.271150      0.508003      0.407873    0.280663   \n",
       "\n",
       "      hematocrit  hemoglobin  platelets  mean blood pressure  \n",
       "vent                                                          \n",
       "0       0.178461    0.165666   0.079059             0.025547  \n",
       "1      -0.192991   -0.150942  -0.240324            -0.265774  "
      ]
     },
     "execution_count": 50,
     "metadata": {},
     "output_type": "execute_result"
    }
   ],
   "source": [
    "df.groupby([\"vent\"]).mean()"
   ]
  },
  {
   "cell_type": "code",
   "execution_count": 52,
   "id": "dc269636",
   "metadata": {},
   "outputs": [
    {
     "data": {
      "text/html": [
       "<div>\n",
       "<style scoped>\n",
       "    .dataframe tbody tr th:only-of-type {\n",
       "        vertical-align: middle;\n",
       "    }\n",
       "\n",
       "    .dataframe tbody tr th {\n",
       "        vertical-align: top;\n",
       "    }\n",
       "\n",
       "    .dataframe thead th {\n",
       "        text-align: right;\n",
       "    }\n",
       "</style>\n",
       "<table border=\"1\" class=\"dataframe\">\n",
       "  <thead>\n",
       "    <tr style=\"text-align: right;\">\n",
       "      <th></th>\n",
       "      <th>gender</th>\n",
       "      <th>stay_length</th>\n",
       "      <th>vent</th>\n",
       "      <th>hypertension</th>\n",
       "      <th>coronary_ath</th>\n",
       "      <th>atrial_fib</th>\n",
       "      <th>hematocrit</th>\n",
       "      <th>hemoglobin</th>\n",
       "      <th>platelets</th>\n",
       "      <th>mean blood pressure</th>\n",
       "    </tr>\n",
       "    <tr>\n",
       "      <th>subject_id</th>\n",
       "      <th></th>\n",
       "      <th></th>\n",
       "      <th></th>\n",
       "      <th></th>\n",
       "      <th></th>\n",
       "      <th></th>\n",
       "      <th></th>\n",
       "      <th></th>\n",
       "      <th></th>\n",
       "      <th></th>\n",
       "    </tr>\n",
       "  </thead>\n",
       "  <tbody>\n",
       "    <tr>\n",
       "      <th>4</th>\n",
       "      <td>0</td>\n",
       "      <td>-0.360949</td>\n",
       "      <td>0</td>\n",
       "      <td>0</td>\n",
       "      <td>0</td>\n",
       "      <td>0</td>\n",
       "      <td>0.018405</td>\n",
       "      <td>-0.111641</td>\n",
       "      <td>0.413658</td>\n",
       "      <td>0.867736</td>\n",
       "    </tr>\n",
       "    <tr>\n",
       "      <th>6</th>\n",
       "      <td>0</td>\n",
       "      <td>1.359324</td>\n",
       "      <td>0</td>\n",
       "      <td>0</td>\n",
       "      <td>0</td>\n",
       "      <td>0</td>\n",
       "      <td>0.890256</td>\n",
       "      <td>0.933756</td>\n",
       "      <td>-0.393352</td>\n",
       "      <td>0.761607</td>\n",
       "    </tr>\n",
       "    <tr>\n",
       "      <th>9</th>\n",
       "      <td>1</td>\n",
       "      <td>2.757045</td>\n",
       "      <td>1</td>\n",
       "      <td>1</td>\n",
       "      <td>0</td>\n",
       "      <td>0</td>\n",
       "      <td>1.006502</td>\n",
       "      <td>1.043798</td>\n",
       "      <td>1.059265</td>\n",
       "      <td>0.740383</td>\n",
       "    </tr>\n",
       "    <tr>\n",
       "      <th>11</th>\n",
       "      <td>0</td>\n",
       "      <td>-0.432627</td>\n",
       "      <td>0</td>\n",
       "      <td>0</td>\n",
       "      <td>0</td>\n",
       "      <td>0</td>\n",
       "      <td>0.851507</td>\n",
       "      <td>0.988777</td>\n",
       "      <td>0.279156</td>\n",
       "      <td>-0.787850</td>\n",
       "    </tr>\n",
       "    <tr>\n",
       "      <th>13</th>\n",
       "      <td>0</td>\n",
       "      <td>1.323485</td>\n",
       "      <td>1</td>\n",
       "      <td>1</td>\n",
       "      <td>1</td>\n",
       "      <td>0</td>\n",
       "      <td>-0.969693</td>\n",
       "      <td>-1.046996</td>\n",
       "      <td>-0.976192</td>\n",
       "      <td>-0.759551</td>\n",
       "    </tr>\n",
       "  </tbody>\n",
       "</table>\n",
       "</div>"
      ],
      "text/plain": [
       "            gender  stay_length  vent  hypertension  coronary_ath  atrial_fib  \\\n",
       "subject_id                                                                      \n",
       "4                0    -0.360949     0             0             0           0   \n",
       "6                0     1.359324     0             0             0           0   \n",
       "9                1     2.757045     1             1             0           0   \n",
       "11               0    -0.432627     0             0             0           0   \n",
       "13               0     1.323485     1             1             1           0   \n",
       "\n",
       "            hematocrit  hemoglobin  platelets  mean blood pressure  \n",
       "subject_id                                                          \n",
       "4             0.018405   -0.111641   0.413658             0.867736  \n",
       "6             0.890256    0.933756  -0.393352             0.761607  \n",
       "9             1.006502    1.043798   1.059265             0.740383  \n",
       "11            0.851507    0.988777   0.279156            -0.787850  \n",
       "13           -0.969693   -1.046996  -0.976192            -0.759551  "
      ]
     },
     "execution_count": 52,
     "metadata": {},
     "output_type": "execute_result"
    }
   ],
   "source": [
    "df.head()"
   ]
  },
  {
   "cell_type": "code",
   "execution_count": 53,
   "id": "d9560ca1",
   "metadata": {},
   "outputs": [],
   "source": [
    "T = df[\"vent\"].to_numpy()"
   ]
  },
  {
   "cell_type": "code",
   "execution_count": 54,
   "id": "0a495ae4",
   "metadata": {},
   "outputs": [],
   "source": [
    "X = df.drop(columns=\"vent\").to_numpy()"
   ]
  },
  {
   "cell_type": "code",
   "execution_count": 57,
   "id": "fee05770",
   "metadata": {},
   "outputs": [
    {
     "data": {
      "text/plain": [
       "array([0.57717352, 0.9004591 , 0.74688164, 0.74896366, 0.56343639,\n",
       "       0.87217288, 1.01449824, 1.11836651, 0.68531735])"
      ]
     },
     "execution_count": 57,
     "metadata": {},
     "output_type": "execute_result"
    }
   ],
   "source": []
  },
  {
   "cell_type": "code",
   "execution_count": 58,
   "id": "242c1f85",
   "metadata": {},
   "outputs": [
    {
     "data": {
      "text/plain": [
       "array([ 1.22901374,  1.0612396 ,  0.62496709,  0.89759237,  1.28130821,\n",
       "       -1.01099298, -0.68269336, -1.35351288, -1.45537189])"
      ]
     },
     "execution_count": 58,
     "metadata": {},
     "output_type": "execute_result"
    }
   ],
   "source": [
    "np.random.seed(28)\n",
    "beta = np.random.uniform(0.5, 1.5, size=9)\n",
    "beta = beta * [1, 1, 1, 1, 1, -1, -1, -1, -1]\n",
    "beta"
   ]
  },
  {
   "cell_type": "code",
   "execution_count": 48,
   "id": "540ccabc",
   "metadata": {},
   "outputs": [],
   "source": [
    "X = df.drop(columns=\"vent\").to_numpy()"
   ]
  },
  {
   "cell_type": "code",
   "execution_count": 49,
   "id": "797cc9a1",
   "metadata": {},
   "outputs": [
    {
     "data": {
      "text/plain": [
       "(30323, 8)"
      ]
     },
     "execution_count": 49,
     "metadata": {},
     "output_type": "execute_result"
    }
   ],
   "source": [
    "X.shape"
   ]
  },
  {
   "cell_type": "code",
   "execution_count": 59,
   "id": "06967b67",
   "metadata": {},
   "outputs": [],
   "source": [
    "Z = (X * beta).sum(1)"
   ]
  },
  {
   "cell_type": "code",
   "execution_count": 65,
   "id": "a8c6a48d",
   "metadata": {},
   "outputs": [
    {
     "data": {
      "text/plain": [
       "0.500664274031168"
      ]
     },
     "execution_count": 65,
     "metadata": {},
     "output_type": "execute_result"
    }
   ],
   "source": [
    "sigmoid(Z - 1.6).mean()"
   ]
  },
  {
   "cell_type": "code",
   "execution_count": 159,
   "id": "5b0178d4",
   "metadata": {},
   "outputs": [],
   "source": [
    "eta = -1.8\n",
    "m = .8\n",
    "c = (eta * T + m*Z).mean()\n",
    "p = sigmoid(eta * T + m*Z - c)"
   ]
  },
  {
   "cell_type": "code",
   "execution_count": 160,
   "id": "fdd1b7db",
   "metadata": {},
   "outputs": [
    {
     "data": {
      "text/plain": [
       "0.5043706509855685"
      ]
     },
     "execution_count": 160,
     "metadata": {},
     "output_type": "execute_result"
    }
   ],
   "source": [
    "p.mean()"
   ]
  },
  {
   "cell_type": "code",
   "execution_count": 161,
   "id": "22237b98",
   "metadata": {},
   "outputs": [
    {
     "data": {
      "image/png": "[encoded data removed]",
      "text/plain": [
       "<Figure size 432x288 with 1 Axes>"
      ]
     },
     "metadata": {
      "needs_background": "light"
     },
     "output_type": "display_data"
    }
   ],
   "source": [
    "plt.hist(p)\n",
    "plt.show()"
   ]
  },
  {
   "cell_type": "code",
   "execution_count": 154,
   "id": "19e40438",
   "metadata": {},
   "outputs": [
    {
     "data": {
      "text/plain": [
       "(0.5213900180771548, 0.4950285598190883)"
      ]
     },
     "execution_count": 154,
     "metadata": {},
     "output_type": "execute_result"
    }
   ],
   "source": [
    "p[T == 1].mean(), p[T == 0].mean()"
   ]
  },
  {
   "cell_type": "code",
   "execution_count": 162,
   "id": "fd43669a",
   "metadata": {},
   "outputs": [
    {
     "data": {
      "text/plain": [
       "(0.360727986960586, 0.5796624355639173)"
      ]
     },
     "execution_count": 162,
     "metadata": {},
     "output_type": "execute_result"
    }
   ],
   "source": [
    "p1 = sigmoid(eta + m*Z - c)\n",
    "p0 = sigmoid(m*Z - c)\n",
    "p1.mean(), p0.mean()"
   ]
  },
  {
   "cell_type": "code",
   "execution_count": 163,
   "id": "489bab5a",
   "metadata": {},
   "outputs": [],
   "source": [
    "y = np.random.binomial(1, p)\n",
    "y0 = np.random.binomial(1, p0)\n",
    "y1 = np.random.binomial(1, p1)"
   ]
  },
  {
   "cell_type": "code",
   "execution_count": 164,
   "id": "cebac607",
   "metadata": {},
   "outputs": [
    {
     "name": "stdout",
     "output_type": "stream",
     "text": [
      "0.5236367020286619 0.4959901925729172\n",
      "0.361375853312667 0.5793292220426739\n"
     ]
    }
   ],
   "source": [
    "print(y[df[\"vent\"]==1].mean(), y[df[\"vent\"]==0].mean())\n",
    "print(y1.mean(), y0.mean())"
   ]
  },
  {
   "cell_type": "code",
   "execution_count": 165,
   "id": "fa987387",
   "metadata": {},
   "outputs": [
    {
     "name": "stdout",
     "output_type": "stream",
     "text": [
      "0.026361458258066517\n",
      "-0.21795336873000692\n"
     ]
    }
   ],
   "source": [
    "print(p[df[\"vent\"]==1].mean() - p[df[\"vent\"]==0].mean())\n",
    "print((y1 - y0).mean())"
   ]
  },
  {
   "cell_type": "markdown",
   "id": "f0453ffe",
   "metadata": {},
   "source": [
    "#### Write out Data"
   ]
  },
  {
   "cell_type": "code",
   "execution_count": 166,
   "id": "0eca530f",
   "metadata": {},
   "outputs": [],
   "source": [
    "df.to_csv(\"../data/semisynth_features.csv\", index=True)"
   ]
  },
  {
   "cell_type": "code",
   "execution_count": 168,
   "id": "b80e3d2b",
   "metadata": {},
   "outputs": [],
   "source": [
    "df[\"vent\"].to_csv(\"../data/treatment_assignment.csv\", index=True)"
   ]
  },
  {
   "cell_type": "code",
   "execution_count": 169,
   "id": "21089f1e",
   "metadata": {},
   "outputs": [],
   "source": [
    "df_label_probs = pd.DataFrame(index=df.index)\n",
    "df_label_probs[\"p\"] = p\n",
    "df_label_probs[\"p0\"] = p0\n",
    "df_label_probs[\"p1\"] = p1"
   ]
  },
  {
   "cell_type": "code",
   "execution_count": 170,
   "id": "65c8f30b",
   "metadata": {},
   "outputs": [
    {
     "data": {
      "text/html": [
       "<div>\n",
       "<style scoped>\n",
       "    .dataframe tbody tr th:only-of-type {\n",
       "        vertical-align: middle;\n",
       "    }\n",
       "\n",
       "    .dataframe tbody tr th {\n",
       "        vertical-align: top;\n",
       "    }\n",
       "\n",
       "    .dataframe thead th {\n",
       "        text-align: right;\n",
       "    }\n",
       "</style>\n",
       "<table border=\"1\" class=\"dataframe\">\n",
       "  <thead>\n",
       "    <tr style=\"text-align: right;\">\n",
       "      <th></th>\n",
       "      <th>p</th>\n",
       "      <th>p0</th>\n",
       "      <th>p1</th>\n",
       "    </tr>\n",
       "    <tr>\n",
       "      <th>subject_id</th>\n",
       "      <th></th>\n",
       "      <th></th>\n",
       "      <th></th>\n",
       "    </tr>\n",
       "  </thead>\n",
       "  <tbody>\n",
       "    <tr>\n",
       "      <th>4</th>\n",
       "      <td>0.086939</td>\n",
       "      <td>0.086939</td>\n",
       "      <td>0.015495</td>\n",
       "    </tr>\n",
       "    <tr>\n",
       "      <th>6</th>\n",
       "      <td>0.236892</td>\n",
       "      <td>0.236892</td>\n",
       "      <td>0.048809</td>\n",
       "    </tr>\n",
       "    <tr>\n",
       "      <th>9</th>\n",
       "      <td>0.118964</td>\n",
       "      <td>0.449603</td>\n",
       "      <td>0.118964</td>\n",
       "    </tr>\n",
       "    <tr>\n",
       "      <th>11</th>\n",
       "      <td>0.166031</td>\n",
       "      <td>0.166031</td>\n",
       "      <td>0.031860</td>\n",
       "    </tr>\n",
       "    <tr>\n",
       "      <th>13</th>\n",
       "      <td>0.961064</td>\n",
       "      <td>0.993348</td>\n",
       "      <td>0.961064</td>\n",
       "    </tr>\n",
       "  </tbody>\n",
       "</table>\n",
       "</div>"
      ],
      "text/plain": [
       "                   p        p0        p1\n",
       "subject_id                              \n",
       "4           0.086939  0.086939  0.015495\n",
       "6           0.236892  0.236892  0.048809\n",
       "9           0.118964  0.449603  0.118964\n",
       "11          0.166031  0.166031  0.031860\n",
       "13          0.961064  0.993348  0.961064"
      ]
     },
     "execution_count": 170,
     "metadata": {},
     "output_type": "execute_result"
    }
   ],
   "source": [
    "df_label_probs.head()"
   ]
  },
  {
   "cell_type": "code",
   "execution_count": 172,
   "id": "c6fb23d7",
   "metadata": {},
   "outputs": [],
   "source": [
    "df_label_probs.to_csv(\"../data/outcome_probs.csv\")"
   ]
  },
  {
   "cell_type": "markdown",
   "id": "9bf9fa14",
   "metadata": {},
   "source": [
    "#### visualize"
   ]
  },
  {
   "cell_type": "code",
   "execution_count": 51,
   "id": "fe9f6270",
   "metadata": {},
   "outputs": [
    {
     "data": {
      "text/plain": [
       "subject_id  hours_in\n",
       "3           0           3.340470\n",
       "            1           3.956230\n",
       "            2           3.039750\n",
       "            3           2.552869\n",
       "            4           3.512310\n",
       "Name: heart rate, dtype: float64"
      ]
     },
     "execution_count": 51,
     "metadata": {},
     "output_type": "execute_result"
    }
   ],
   "source": [
    "vitals[\"heart rate\"].head()"
   ]
  },
  {
   "cell_type": "code",
   "execution_count": 56,
   "id": "49395372",
   "metadata": {},
   "outputs": [
    {
     "data": {
      "text/plain": [
       "Int64Index([    3,     4,     6,     9,    11,    12,    13,    17,    18,\n",
       "               19,\n",
       "            ...\n",
       "            99957, 99965, 99966, 99973, 99982, 99983, 99991, 99992, 99995,\n",
       "            99999],\n",
       "           dtype='int64', name='subject_id', length=34472)"
      ]
     },
     "execution_count": 56,
     "metadata": {},
     "output_type": "execute_result"
    }
   ],
   "source": []
  },
  {
   "cell_type": "code",
   "execution_count": 58,
   "id": "f006dc47",
   "metadata": {},
   "outputs": [
    {
     "data": {
      "image/png": "[encoded data removed]",
      "text/plain": [
       "<Figure size 432x288 with 1 Axes>"
      ]
     },
     "metadata": {
      "needs_background": "light"
     },
     "output_type": "display_data"
    }
   ],
   "source": [
    "for i in np.random.choice(vitals.index.levels[0], 10):\n",
    "    vitals[\"heart rate\"].loc[i].plot()"
   ]
  },
  {
   "cell_type": "code",
   "execution_count": 60,
   "id": "13c4adba",
   "metadata": {},
   "outputs": [
    {
     "data": {
      "image/png": "[encoded data removed]",
      "text/plain": [
       "<Figure size 432x288 with 1 Axes>"
      ]
     },
     "metadata": {
      "needs_background": "light"
     },
     "output_type": "display_data"
    }
   ],
   "source": [
    "for i in np.random.choice(vitals.index.levels[0], 10):\n",
    "    vitals[\"temperature\"].loc[i].plot()"
   ]
  },
  {
   "cell_type": "code",
   "execution_count": 53,
   "id": "042ba631",
   "metadata": {},
   "outputs": [
    {
     "data": {
      "text/plain": [
       "<AxesSubplot:xlabel='hours_in'>"
      ]
     },
     "execution_count": 53,
     "metadata": {},
     "output_type": "execute_result"
    },
    {
     "data": {
      "image/png": "[encoded data removed]",
      "text/plain": [
       "<Figure size 432x288 with 1 Axes>"
      ]
     },
     "metadata": {
      "needs_background": "light"
     },
     "output_type": "display_data"
    }
   ],
   "source": [
    "vitals[\"heart rate\"].loc[3].plot()"
   ]
  },
  {
   "cell_type": "code",
   "execution_count": null,
   "id": "d40bd68e",
   "metadata": {},
   "outputs": [],
   "source": []
  }
 ],
 "metadata": {
  "kernelspec": {
   "display_name": "Python 3 (ipykernel)",
   "language": "python",
   "name": "python3"
  },
  "language_info": {
   "codemirror_mode": {
    "name": "ipython",
    "version": 3
   },
   "file_extension": ".py",
   "mimetype": "text/x-python",
   "name": "python",
   "nbconvert_exporter": "python",
   "pygments_lexer": "ipython3",
   "version": "3.10.4"
  }
 },
 "nbformat": 4,
 "nbformat_minor": 5
}
