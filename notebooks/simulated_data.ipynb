{
 "cells": [
  {
   "cell_type": "code",
   "execution_count": 1,
   "id": "2f010072",
   "metadata": {},
   "outputs": [],
   "source": [
    "import pandas as pd\n",
    "import numpy as np\n",
    "import matplotlib.pyplot as plt"
   ]
  },
  {
   "cell_type": "code",
   "execution_count": 2,
   "id": "264a9dcf",
   "metadata": {},
   "outputs": [],
   "source": [
    "h5 = pd.HDFStore(\"/home/pchatha/mimic/data/all_hourly_data.h5\")"
   ]
  },
  {
   "cell_type": "code",
   "execution_count": 3,
   "id": "279dff21",
   "metadata": {},
   "outputs": [
    {
     "data": {
      "text/plain": [
       "['/codes',\n",
       " '/interventions',\n",
       " '/patients',\n",
       " '/vitals_labs',\n",
       " '/vitals_labs_mean',\n",
       " '/patients/meta/values_block_6/meta',\n",
       " '/patients/meta/values_block_5/meta',\n",
       " '/patients/meta/values_block_4/meta',\n",
       " '/patients/meta/values_block_0/meta']"
      ]
     },
     "execution_count": 3,
     "metadata": {},
     "output_type": "execute_result"
    }
   ],
   "source": [
    "h5.keys()"
   ]
  },
  {
   "cell_type": "code",
   "execution_count": 4,
   "id": "dcbd7c7c",
   "metadata": {},
   "outputs": [],
   "source": [
    "interventions = h5[\"interventions\"].reset_index()"
   ]
  },
  {
   "cell_type": "code",
   "execution_count": 5,
   "id": "abe932ae",
   "metadata": {},
   "outputs": [],
   "source": [
    "def sigmoid(x):\n",
    "    return 1 / (1 + np.exp(-x))"
   ]
  },
  {
   "cell_type": "markdown",
   "id": "560cf10e",
   "metadata": {},
   "source": [
    "### Subset to Patient Stays between 16-128 hours"
   ]
  },
  {
   "cell_type": "code",
   "execution_count": 6,
   "id": "580e753f",
   "metadata": {},
   "outputs": [
    {
     "data": {
      "text/plain": [
       "34472"
      ]
     },
     "execution_count": 6,
     "metadata": {},
     "output_type": "execute_result"
    }
   ],
   "source": [
    "interventions['subject_id'].nunique()"
   ]
  },
  {
   "cell_type": "code",
   "execution_count": 7,
   "id": "e9daf5ee",
   "metadata": {},
   "outputs": [],
   "source": [
    "stay_lengths = interventions.groupby(\"subject_id\").size()\n",
    "stay_lengths = stay_lengths[(stay_lengths >= 16) & (stay_lengths <= 128)]\n",
    "stay_lengths.name=\"stay_length\""
   ]
  },
  {
   "cell_type": "code",
   "execution_count": 8,
   "id": "80b1175d",
   "metadata": {},
   "outputs": [
    {
     "data": {
      "text/plain": [
       "count    30323.000000\n",
       "mean        51.071398\n",
       "std         27.902553\n",
       "min         16.000000\n",
       "25%         28.000000\n",
       "50%         45.000000\n",
       "75%         69.000000\n",
       "max        128.000000\n",
       "Name: stay_length, dtype: float64"
      ]
     },
     "execution_count": 8,
     "metadata": {},
     "output_type": "execute_result"
    }
   ],
   "source": [
    "stay_lengths.describe()"
   ]
  },
  {
   "cell_type": "markdown",
   "id": "37a260df",
   "metadata": {},
   "source": [
    "### Extract Treatment Status"
   ]
  },
  {
   "cell_type": "code",
   "execution_count": 9,
   "id": "01023870",
   "metadata": {},
   "outputs": [],
   "source": [
    "vent = interventions.groupby(\"subject_id\")[\"vent\"].any().astype(int)"
   ]
  },
  {
   "cell_type": "code",
   "execution_count": 10,
   "id": "4f7d0063",
   "metadata": {},
   "outputs": [],
   "source": [
    "vent = vent.to_frame().join(stay_lengths, how=\"right\")"
   ]
  },
  {
   "cell_type": "code",
   "execution_count": 11,
   "id": "9956cf89",
   "metadata": {},
   "outputs": [
    {
     "data": {
      "text/plain": [
       "0.35438446064043794"
      ]
     },
     "execution_count": 11,
     "metadata": {},
     "output_type": "execute_result"
    }
   ],
   "source": [
    "vent['vent'].mean()"
   ]
  },
  {
   "cell_type": "code",
   "execution_count": 12,
   "id": "c57674e2",
   "metadata": {},
   "outputs": [
    {
     "data": {
      "text/plain": [
       "vent\n",
       "0    46.918476\n",
       "1    58.637167\n",
       "Name: stay_length, dtype: float64"
      ]
     },
     "execution_count": 12,
     "metadata": {},
     "output_type": "execute_result"
    }
   ],
   "source": [
    "vent.groupby(\"vent\")[\"stay_length\"].mean()"
   ]
  },
  {
   "cell_type": "code",
   "execution_count": 13,
   "id": "8aa268b4",
   "metadata": {},
   "outputs": [
    {
     "data": {
      "text/html": [
       "<div>\n",
       "<style scoped>\n",
       "    .dataframe tbody tr th:only-of-type {\n",
       "        vertical-align: middle;\n",
       "    }\n",
       "\n",
       "    .dataframe tbody tr th {\n",
       "        vertical-align: top;\n",
       "    }\n",
       "\n",
       "    .dataframe thead th {\n",
       "        text-align: right;\n",
       "    }\n",
       "</style>\n",
       "<table border=\"1\" class=\"dataframe\">\n",
       "  <thead>\n",
       "    <tr style=\"text-align: right;\">\n",
       "      <th></th>\n",
       "      <th>vent</th>\n",
       "      <th>stay_length</th>\n",
       "    </tr>\n",
       "    <tr>\n",
       "      <th>subject_id</th>\n",
       "      <th></th>\n",
       "      <th></th>\n",
       "    </tr>\n",
       "  </thead>\n",
       "  <tbody>\n",
       "    <tr>\n",
       "      <th>4</th>\n",
       "      <td>0</td>\n",
       "      <td>41</td>\n",
       "    </tr>\n",
       "    <tr>\n",
       "      <th>6</th>\n",
       "      <td>0</td>\n",
       "      <td>89</td>\n",
       "    </tr>\n",
       "    <tr>\n",
       "      <th>9</th>\n",
       "      <td>1</td>\n",
       "      <td>128</td>\n",
       "    </tr>\n",
       "    <tr>\n",
       "      <th>11</th>\n",
       "      <td>0</td>\n",
       "      <td>39</td>\n",
       "    </tr>\n",
       "    <tr>\n",
       "      <th>13</th>\n",
       "      <td>1</td>\n",
       "      <td>88</td>\n",
       "    </tr>\n",
       "  </tbody>\n",
       "</table>\n",
       "</div>"
      ],
      "text/plain": [
       "            vent  stay_length\n",
       "subject_id                   \n",
       "4              0           41\n",
       "6              0           89\n",
       "9              1          128\n",
       "11             0           39\n",
       "13             1           88"
      ]
     },
     "execution_count": 13,
     "metadata": {},
     "output_type": "execute_result"
    }
   ],
   "source": [
    "vent.head()"
   ]
  },
  {
   "cell_type": "markdown",
   "id": "edd57385",
   "metadata": {},
   "source": [
    "### Demographic Data"
   ]
  },
  {
   "cell_type": "code",
   "execution_count": 14,
   "id": "39631c94",
   "metadata": {},
   "outputs": [],
   "source": [
    "demog = h5[\"patients\"]"
   ]
  },
  {
   "cell_type": "code",
   "execution_count": 15,
   "id": "b437ac04",
   "metadata": {},
   "outputs": [],
   "source": [
    "demog = demog[[\"gender\", \"age\"]]"
   ]
  },
  {
   "cell_type": "code",
   "execution_count": 16,
   "id": "cba9d91a",
   "metadata": {},
   "outputs": [
    {
     "data": {
      "text/plain": [
       "M    0.565502\n",
       "F    0.434498\n",
       "Name: gender, dtype: float64"
      ]
     },
     "execution_count": 16,
     "metadata": {},
     "output_type": "execute_result"
    }
   ],
   "source": [
    "demog[\"gender\"].value_counts(normalize=True)"
   ]
  },
  {
   "cell_type": "code",
   "execution_count": 17,
   "id": "3a2112ab",
   "metadata": {},
   "outputs": [],
   "source": [
    "d = {\"F\":0, \"M\":1}\n",
    "demog[\"gender\"] = demog[\"gender\"].apply(lambda x: d.get(x))"
   ]
  },
  {
   "cell_type": "code",
   "execution_count": 18,
   "id": "c0f28b86",
   "metadata": {},
   "outputs": [],
   "source": [
    "demog[\"age\"] = demog[\"age\"].clip(upper=90)"
   ]
  },
  {
   "cell_type": "code",
   "execution_count": 19,
   "id": "c0f95fe7",
   "metadata": {},
   "outputs": [
    {
     "data": {
      "text/plain": [
       "count    34472.000000\n",
       "mean        63.841678\n",
       "std         17.590891\n",
       "min         15.052693\n",
       "25%         52.466861\n",
       "50%         65.741463\n",
       "75%         78.016920\n",
       "max         90.000000\n",
       "Name: age, dtype: float64"
      ]
     },
     "execution_count": 19,
     "metadata": {},
     "output_type": "execute_result"
    }
   ],
   "source": [
    "demog[\"age\"].describe()"
   ]
  },
  {
   "cell_type": "code",
   "execution_count": 20,
   "id": "0bb98c92",
   "metadata": {},
   "outputs": [],
   "source": [
    "demog[\"age\"] = (demog[\"age\"] - demog[\"age\"].mean()) / demog[\"age\"].std()"
   ]
  },
  {
   "cell_type": "code",
   "execution_count": 21,
   "id": "306fc059",
   "metadata": {},
   "outputs": [
    {
     "data": {
      "text/plain": [
       "count    3.447200e+04\n",
       "mean     2.538682e-14\n",
       "std      1.000000e+00\n",
       "min     -2.773537e+00\n",
       "25%     -6.466311e-01\n",
       "50%      1.079982e-01\n",
       "75%      8.058286e-01\n",
       "max      1.487038e+00\n",
       "Name: age, dtype: float64"
      ]
     },
     "execution_count": 21,
     "metadata": {},
     "output_type": "execute_result"
    }
   ],
   "source": [
    "demog[\"age\"].describe()"
   ]
  },
  {
   "cell_type": "code",
   "execution_count": 22,
   "id": "d1dbe03a",
   "metadata": {},
   "outputs": [],
   "source": [
    "demog = demog.reset_index().set_index(\"subject_id\")[[\"gender\", \"age\"]]"
   ]
  },
  {
   "cell_type": "code",
   "execution_count": 23,
   "id": "012a8ba2",
   "metadata": {},
   "outputs": [],
   "source": [
    "demog = demog.join(stay_lengths, how=\"right\")"
   ]
  },
  {
   "cell_type": "markdown",
   "id": "ac3a8486",
   "metadata": {},
   "source": [
    "### Get ICD Data"
   ]
  },
  {
   "cell_type": "code",
   "execution_count": 24,
   "id": "20e2b919",
   "metadata": {},
   "outputs": [],
   "source": [
    "codes = h5[\"codes\"].reset_index()[[\"subject_id\", \"icd9_codes\"]].drop_duplicates([\"subject_id\"])"
   ]
  },
  {
   "cell_type": "code",
   "execution_count": 25,
   "id": "32421fe5",
   "metadata": {},
   "outputs": [],
   "source": [
    "codes = codes.set_index(\"subject_id\").join(stay_lengths, how=\"right\")"
   ]
  },
  {
   "cell_type": "code",
   "execution_count": 26,
   "id": "c555caea",
   "metadata": {},
   "outputs": [
    {
     "data": {
      "text/plain": [
       "count    30323.000000\n",
       "mean        10.542361\n",
       "std          5.590807\n",
       "min          1.000000\n",
       "25%          7.000000\n",
       "50%          9.000000\n",
       "75%         13.000000\n",
       "max         39.000000\n",
       "Name: icd9_codes, dtype: float64"
      ]
     },
     "execution_count": 26,
     "metadata": {},
     "output_type": "execute_result"
    }
   ],
   "source": [
    "codes[\"icd9_codes\"].apply(len).describe()"
   ]
  },
  {
   "cell_type": "code",
   "execution_count": 27,
   "id": "1d2edf34",
   "metadata": {},
   "outputs": [],
   "source": [
    "codes = codes.explode(\"icd9_codes\")"
   ]
  },
  {
   "cell_type": "markdown",
   "id": "6c6a5f87",
   "metadata": {},
   "source": [
    "Special ICD9 Codes:\n",
    "4019: hypertension\n",
    "41401: coronary atherosclerosis\n",
    "42731: atrial fibrillation (all more likely in treated group)"
   ]
  },
  {
   "cell_type": "markdown",
   "id": "54f0234c",
   "metadata": {},
   "source": [
    "### Get Lab Data"
   ]
  },
  {
   "cell_type": "code",
   "execution_count": 28,
   "id": "6f7d8b6b",
   "metadata": {},
   "outputs": [],
   "source": [
    "vitals = h5[\"vitals_labs_mean\"].droplevel(['hadm_id', 'icustay_id'])\n",
    "vitals.columns = vitals.columns.get_level_values(0)\n",
    "vital_list = [\n",
    "    'heart rate',\n",
    "    'red blood cell count',\n",
    "    'sodium',\n",
    "    'mean blood pressure',\n",
    "    'systemic vascular resistance',\n",
    "    'glucose',\n",
    "    'chloride urine',\n",
    "    'glascow coma scale total',\n",
    "    'hematocrit',\n",
    "    'positive end-expiratory pressure set',\n",
    "    'respiratory rate',\n",
    "    'prothrombin time pt',\n",
    "    'cholesterol',\n",
    "    'hemoglobin',\n",
    "    'creatinine',\n",
    "    'blood urea nitrogen',\n",
    "    'bicarbonate',\n",
    "    'calcium ionized',\n",
    "    'partial pressure of carbon dioxide',\n",
    "    'magnesium',\n",
    "    'anion gap',\n",
    "    'phosphorous',\n",
    "    'venous pvo2',\n",
    "    'platelets',\n",
    "    'calcium urine'\n",
    "]\n",
    "vitals = vitals[vital_list]\n",
    "vitals = vitals.fillna(method=\"ffill\")\n",
    "vitals = vitals.fillna(method=\"bfill\")"
   ]
  },
  {
   "cell_type": "code",
   "execution_count": 29,
   "id": "f98102f3",
   "metadata": {},
   "outputs": [],
   "source": [
    "mean = np.mean(vitals, axis=0)\n",
    "std = np.std(vitals, axis=0)\n",
    "vitals = (vitals - mean) / std"
   ]
  },
  {
   "cell_type": "code",
   "execution_count": 30,
   "id": "4c36122f",
   "metadata": {},
   "outputs": [
    {
     "data": {
      "text/html": [
       "<div>\n",
       "<style scoped>\n",
       "    .dataframe tbody tr th:only-of-type {\n",
       "        vertical-align: middle;\n",
       "    }\n",
       "\n",
       "    .dataframe tbody tr th {\n",
       "        vertical-align: top;\n",
       "    }\n",
       "\n",
       "    .dataframe thead th {\n",
       "        text-align: right;\n",
       "    }\n",
       "</style>\n",
       "<table border=\"1\" class=\"dataframe\">\n",
       "  <thead>\n",
       "    <tr style=\"text-align: right;\">\n",
       "      <th></th>\n",
       "      <th>LEVEL2</th>\n",
       "      <th>heart rate</th>\n",
       "      <th>red blood cell count</th>\n",
       "      <th>sodium</th>\n",
       "      <th>mean blood pressure</th>\n",
       "      <th>systemic vascular resistance</th>\n",
       "      <th>glucose</th>\n",
       "      <th>chloride urine</th>\n",
       "      <th>glascow coma scale total</th>\n",
       "      <th>hematocrit</th>\n",
       "      <th>positive end-expiratory pressure set</th>\n",
       "      <th>...</th>\n",
       "      <th>blood urea nitrogen</th>\n",
       "      <th>bicarbonate</th>\n",
       "      <th>calcium ionized</th>\n",
       "      <th>partial pressure of carbon dioxide</th>\n",
       "      <th>magnesium</th>\n",
       "      <th>anion gap</th>\n",
       "      <th>phosphorous</th>\n",
       "      <th>venous pvo2</th>\n",
       "      <th>platelets</th>\n",
       "      <th>calcium urine</th>\n",
       "    </tr>\n",
       "    <tr>\n",
       "      <th>subject_id</th>\n",
       "      <th>hours_in</th>\n",
       "      <th></th>\n",
       "      <th></th>\n",
       "      <th></th>\n",
       "      <th></th>\n",
       "      <th></th>\n",
       "      <th></th>\n",
       "      <th></th>\n",
       "      <th></th>\n",
       "      <th></th>\n",
       "      <th></th>\n",
       "      <th></th>\n",
       "      <th></th>\n",
       "      <th></th>\n",
       "      <th></th>\n",
       "      <th></th>\n",
       "      <th></th>\n",
       "      <th></th>\n",
       "      <th></th>\n",
       "      <th></th>\n",
       "      <th></th>\n",
       "      <th></th>\n",
       "    </tr>\n",
       "  </thead>\n",
       "  <tbody>\n",
       "    <tr>\n",
       "      <th rowspan=\"5\" valign=\"top\">3</th>\n",
       "      <th>0</th>\n",
       "      <td>3.340470</td>\n",
       "      <td>-1.048404</td>\n",
       "      <td>0.841512</td>\n",
       "      <td>1.412524</td>\n",
       "      <td>0.270765</td>\n",
       "      <td>1.272345</td>\n",
       "      <td>-0.857997</td>\n",
       "      <td>-3.709687</td>\n",
       "      <td>-0.885737</td>\n",
       "      <td>1.091505</td>\n",
       "      <td>...</td>\n",
       "      <td>0.927884</td>\n",
       "      <td>-1.85188</td>\n",
       "      <td>-0.067307</td>\n",
       "      <td>-0.954592</td>\n",
       "      <td>2.404239</td>\n",
       "      <td>2.058697</td>\n",
       "      <td>1.356663</td>\n",
       "      <td>-1.136858</td>\n",
       "      <td>0.194868</td>\n",
       "      <td>0.556021</td>\n",
       "    </tr>\n",
       "    <tr>\n",
       "      <th>1</th>\n",
       "      <td>3.956230</td>\n",
       "      <td>-1.048404</td>\n",
       "      <td>0.841512</td>\n",
       "      <td>-1.403389</td>\n",
       "      <td>0.270765</td>\n",
       "      <td>1.272345</td>\n",
       "      <td>-0.857997</td>\n",
       "      <td>-3.709687</td>\n",
       "      <td>-0.885737</td>\n",
       "      <td>1.091505</td>\n",
       "      <td>...</td>\n",
       "      <td>0.927884</td>\n",
       "      <td>-1.85188</td>\n",
       "      <td>-0.067307</td>\n",
       "      <td>-0.954592</td>\n",
       "      <td>2.404239</td>\n",
       "      <td>2.058697</td>\n",
       "      <td>1.356663</td>\n",
       "      <td>-1.136858</td>\n",
       "      <td>0.194868</td>\n",
       "      <td>0.556021</td>\n",
       "    </tr>\n",
       "    <tr>\n",
       "      <th>2</th>\n",
       "      <td>3.039750</td>\n",
       "      <td>-1.048404</td>\n",
       "      <td>0.036602</td>\n",
       "      <td>-1.028406</td>\n",
       "      <td>0.270765</td>\n",
       "      <td>2.662503</td>\n",
       "      <td>-0.857997</td>\n",
       "      <td>-3.709687</td>\n",
       "      <td>-0.310961</td>\n",
       "      <td>1.091505</td>\n",
       "      <td>...</td>\n",
       "      <td>0.927884</td>\n",
       "      <td>-1.85188</td>\n",
       "      <td>-0.054547</td>\n",
       "      <td>-0.846218</td>\n",
       "      <td>2.404239</td>\n",
       "      <td>2.058697</td>\n",
       "      <td>1.356663</td>\n",
       "      <td>-1.136858</td>\n",
       "      <td>0.194868</td>\n",
       "      <td>0.556021</td>\n",
       "    </tr>\n",
       "    <tr>\n",
       "      <th>3</th>\n",
       "      <td>2.552869</td>\n",
       "      <td>-1.048404</td>\n",
       "      <td>0.036602</td>\n",
       "      <td>0.342406</td>\n",
       "      <td>0.270765</td>\n",
       "      <td>2.662503</td>\n",
       "      <td>-0.857997</td>\n",
       "      <td>-3.709687</td>\n",
       "      <td>-0.310961</td>\n",
       "      <td>1.091505</td>\n",
       "      <td>...</td>\n",
       "      <td>0.927884</td>\n",
       "      <td>-1.85188</td>\n",
       "      <td>-0.054547</td>\n",
       "      <td>-0.846218</td>\n",
       "      <td>2.404239</td>\n",
       "      <td>2.058697</td>\n",
       "      <td>1.356663</td>\n",
       "      <td>-1.136858</td>\n",
       "      <td>0.194868</td>\n",
       "      <td>0.556021</td>\n",
       "    </tr>\n",
       "    <tr>\n",
       "      <th>4</th>\n",
       "      <td>3.512310</td>\n",
       "      <td>-1.048404</td>\n",
       "      <td>0.036602</td>\n",
       "      <td>-0.151086</td>\n",
       "      <td>0.270765</td>\n",
       "      <td>2.662503</td>\n",
       "      <td>-0.857997</td>\n",
       "      <td>-3.709687</td>\n",
       "      <td>-0.310961</td>\n",
       "      <td>1.091505</td>\n",
       "      <td>...</td>\n",
       "      <td>0.927884</td>\n",
       "      <td>-1.85188</td>\n",
       "      <td>-0.054547</td>\n",
       "      <td>-0.846218</td>\n",
       "      <td>2.404239</td>\n",
       "      <td>2.058697</td>\n",
       "      <td>1.356663</td>\n",
       "      <td>-1.136858</td>\n",
       "      <td>0.194868</td>\n",
       "      <td>0.556021</td>\n",
       "    </tr>\n",
       "  </tbody>\n",
       "</table>\n",
       "<p>5 rows × 25 columns</p>\n",
       "</div>"
      ],
      "text/plain": [
       "LEVEL2               heart rate  red blood cell count    sodium  \\\n",
       "subject_id hours_in                                               \n",
       "3          0           3.340470             -1.048404  0.841512   \n",
       "           1           3.956230             -1.048404  0.841512   \n",
       "           2           3.039750             -1.048404  0.036602   \n",
       "           3           2.552869             -1.048404  0.036602   \n",
       "           4           3.512310             -1.048404  0.036602   \n",
       "\n",
       "LEVEL2               mean blood pressure  systemic vascular resistance  \\\n",
       "subject_id hours_in                                                      \n",
       "3          0                    1.412524                      0.270765   \n",
       "           1                   -1.403389                      0.270765   \n",
       "           2                   -1.028406                      0.270765   \n",
       "           3                    0.342406                      0.270765   \n",
       "           4                   -0.151086                      0.270765   \n",
       "\n",
       "LEVEL2                glucose  chloride urine  glascow coma scale total  \\\n",
       "subject_id hours_in                                                       \n",
       "3          0         1.272345       -0.857997                 -3.709687   \n",
       "           1         1.272345       -0.857997                 -3.709687   \n",
       "           2         2.662503       -0.857997                 -3.709687   \n",
       "           3         2.662503       -0.857997                 -3.709687   \n",
       "           4         2.662503       -0.857997                 -3.709687   \n",
       "\n",
       "LEVEL2               hematocrit  positive end-expiratory pressure set  ...  \\\n",
       "subject_id hours_in                                                    ...   \n",
       "3          0          -0.885737                              1.091505  ...   \n",
       "           1          -0.885737                              1.091505  ...   \n",
       "           2          -0.310961                              1.091505  ...   \n",
       "           3          -0.310961                              1.091505  ...   \n",
       "           4          -0.310961                              1.091505  ...   \n",
       "\n",
       "LEVEL2               blood urea nitrogen  bicarbonate  calcium ionized  \\\n",
       "subject_id hours_in                                                      \n",
       "3          0                    0.927884     -1.85188        -0.067307   \n",
       "           1                    0.927884     -1.85188        -0.067307   \n",
       "           2                    0.927884     -1.85188        -0.054547   \n",
       "           3                    0.927884     -1.85188        -0.054547   \n",
       "           4                    0.927884     -1.85188        -0.054547   \n",
       "\n",
       "LEVEL2               partial pressure of carbon dioxide  magnesium  anion gap  \\\n",
       "subject_id hours_in                                                             \n",
       "3          0                                  -0.954592   2.404239   2.058697   \n",
       "           1                                  -0.954592   2.404239   2.058697   \n",
       "           2                                  -0.846218   2.404239   2.058697   \n",
       "           3                                  -0.846218   2.404239   2.058697   \n",
       "           4                                  -0.846218   2.404239   2.058697   \n",
       "\n",
       "LEVEL2               phosphorous  venous pvo2  platelets  calcium urine  \n",
       "subject_id hours_in                                                      \n",
       "3          0            1.356663    -1.136858   0.194868       0.556021  \n",
       "           1            1.356663    -1.136858   0.194868       0.556021  \n",
       "           2            1.356663    -1.136858   0.194868       0.556021  \n",
       "           3            1.356663    -1.136858   0.194868       0.556021  \n",
       "           4            1.356663    -1.136858   0.194868       0.556021  \n",
       "\n",
       "[5 rows x 25 columns]"
      ]
     },
     "execution_count": 30,
     "metadata": {},
     "output_type": "execute_result"
    }
   ],
   "source": [
    "vitals.head()"
   ]
  },
  {
   "cell_type": "code",
   "execution_count": 31,
   "id": "25924556",
   "metadata": {},
   "outputs": [],
   "source": [
    "vitals = vitals.join(stay_lengths, how=\"right\")"
   ]
  },
  {
   "cell_type": "markdown",
   "id": "5ccdc965",
   "metadata": {},
   "source": [
    "Confounding vitals: heart rate, hematocrit, platelets, hemoglobin"
   ]
  },
  {
   "cell_type": "code",
   "execution_count": 32,
   "id": "783c6d5c",
   "metadata": {},
   "outputs": [
    {
     "data": {
      "text/plain": [
       "<AxesSubplot:>"
      ]
     },
     "execution_count": 32,
     "metadata": {},
     "output_type": "execute_result"
    },
    {
     "data": {
      "image/png": "[encoded data removed]",
      "text/plain": [
       "<Figure size 432x288 with 1 Axes>"
      ]
     },
     "metadata": {
      "needs_background": "light"
     },
     "output_type": "display_data"
    }
   ],
   "source": [
    "(np.abs(vitals[\"heart rate\"])).clip(upper=4).hist()"
   ]
  },
  {
   "cell_type": "markdown",
   "id": "35833d3a",
   "metadata": {},
   "source": [
    "# Combine Everything!"
   ]
  },
  {
   "cell_type": "code",
   "execution_count": 33,
   "id": "0a2d2093",
   "metadata": {},
   "outputs": [],
   "source": [
    "df = demog[[\"gender\", \"stay_length\"]].join(vent[\"vent\"])"
   ]
  },
  {
   "cell_type": "code",
   "execution_count": 34,
   "id": "407bba95",
   "metadata": {},
   "outputs": [],
   "source": [
    "df[\"gender\"] = df[\"gender\"].astype(int)"
   ]
  },
  {
   "cell_type": "code",
   "execution_count": 35,
   "id": "9d4ee2f2",
   "metadata": {},
   "outputs": [],
   "source": [
    "df[\"stay_length\"] = (df[\"stay_length\"] - df[\"stay_length\"].mean()) / df[\"stay_length\"].std()"
   ]
  },
  {
   "cell_type": "markdown",
   "id": "e40f0795",
   "metadata": {},
   "source": [
    "#### Incorporate Confounding Codes"
   ]
  },
  {
   "cell_type": "code",
   "execution_count": 36,
   "id": "db01fbfb",
   "metadata": {},
   "outputs": [],
   "source": [
    "conf_codes = codes.copy()"
   ]
  },
  {
   "cell_type": "code",
   "execution_count": 37,
   "id": "f12ef9d4",
   "metadata": {},
   "outputs": [],
   "source": [
    "conf_codes[\"hypertension\"] = (conf_codes[\"icd9_codes\"] == \"4019\")\n",
    "conf_codes[\"coronary_ath\"] = (conf_codes[\"icd9_codes\"] == \"41401\")\n",
    "conf_codes[\"atrial_fib\"] = (conf_codes[\"icd9_codes\"] == \"42731\")"
   ]
  },
  {
   "cell_type": "code",
   "execution_count": 38,
   "id": "447a6775",
   "metadata": {},
   "outputs": [],
   "source": [
    "conf_codes = conf_codes.groupby(conf_codes.index)[[\"hypertension\", \"coronary_ath\", \"atrial_fib\"]].any().astype(int)"
   ]
  },
  {
   "cell_type": "code",
   "execution_count": 39,
   "id": "f62a79b0",
   "metadata": {},
   "outputs": [
    {
     "data": {
      "text/plain": [
       "0.6264881443128978"
      ]
     },
     "execution_count": 39,
     "metadata": {},
     "output_type": "execute_result"
    }
   ],
   "source": [
    "conf_codes.any(axis=1).mean()"
   ]
  },
  {
   "cell_type": "markdown",
   "id": "2f8408e1",
   "metadata": {},
   "source": [
    "63% of patients have at least one of the confounding codes (good!)"
   ]
  },
  {
   "cell_type": "code",
   "execution_count": 40,
   "id": "9ecb3760",
   "metadata": {},
   "outputs": [],
   "source": [
    "df = df.join(conf_codes)"
   ]
  },
  {
   "cell_type": "code",
   "execution_count": 41,
   "id": "341705db",
   "metadata": {},
   "outputs": [],
   "source": [
    "conf_vitals = vitals[[\"hematocrit\", \"platelets\", \"hemoglobin\"]]"
   ]
  },
  {
   "cell_type": "code",
   "execution_count": 42,
   "id": "1950c5e1",
   "metadata": {},
   "outputs": [],
   "source": [
    "conf_vitals = conf_vitals.groupby(level=0).last()"
   ]
  },
  {
   "cell_type": "code",
   "execution_count": 43,
   "id": "cc6c1bd1",
   "metadata": {},
   "outputs": [],
   "source": [
    "df = df.join(conf_vitals)"
   ]
  },
  {
   "cell_type": "code",
   "execution_count": 44,
   "id": "fd7d45d7",
   "metadata": {},
   "outputs": [
    {
     "data": {
      "text/html": [
       "<div>\n",
       "<style scoped>\n",
       "    .dataframe tbody tr th:only-of-type {\n",
       "        vertical-align: middle;\n",
       "    }\n",
       "\n",
       "    .dataframe tbody tr th {\n",
       "        vertical-align: top;\n",
       "    }\n",
       "\n",
       "    .dataframe thead th {\n",
       "        text-align: right;\n",
       "    }\n",
       "</style>\n",
       "<table border=\"1\" class=\"dataframe\">\n",
       "  <thead>\n",
       "    <tr style=\"text-align: right;\">\n",
       "      <th></th>\n",
       "      <th>gender</th>\n",
       "      <th>stay_length</th>\n",
       "      <th>hypertension</th>\n",
       "      <th>coronary_ath</th>\n",
       "      <th>atrial_fib</th>\n",
       "      <th>hematocrit</th>\n",
       "      <th>platelets</th>\n",
       "      <th>hemoglobin</th>\n",
       "    </tr>\n",
       "    <tr>\n",
       "      <th>vent</th>\n",
       "      <th></th>\n",
       "      <th></th>\n",
       "      <th></th>\n",
       "      <th></th>\n",
       "      <th></th>\n",
       "      <th></th>\n",
       "      <th></th>\n",
       "      <th></th>\n",
       "    </tr>\n",
       "  </thead>\n",
       "  <tbody>\n",
       "    <tr>\n",
       "      <th>0</th>\n",
       "      <td>0.535935</td>\n",
       "      <td>-0.148837</td>\n",
       "      <td>0.400368</td>\n",
       "      <td>0.203249</td>\n",
       "      <td>0.201972</td>\n",
       "      <td>0.179270</td>\n",
       "      <td>0.079008</td>\n",
       "      <td>0.165932</td>\n",
       "    </tr>\n",
       "    <tr>\n",
       "      <th>1</th>\n",
       "      <td>0.624232</td>\n",
       "      <td>0.271150</td>\n",
       "      <td>0.508003</td>\n",
       "      <td>0.407873</td>\n",
       "      <td>0.280663</td>\n",
       "      <td>-0.190599</td>\n",
       "      <td>-0.240027</td>\n",
       "      <td>-0.149825</td>\n",
       "    </tr>\n",
       "  </tbody>\n",
       "</table>\n",
       "</div>"
      ],
      "text/plain": [
       "        gender  stay_length  hypertension  coronary_ath  atrial_fib  \\\n",
       "vent                                                                  \n",
       "0     0.535935    -0.148837      0.400368      0.203249    0.201972   \n",
       "1     0.624232     0.271150      0.508003      0.407873    0.280663   \n",
       "\n",
       "      hematocrit  platelets  hemoglobin  \n",
       "vent                                     \n",
       "0       0.179270   0.079008    0.165932  \n",
       "1      -0.190599  -0.240027   -0.149825  "
      ]
     },
     "execution_count": 44,
     "metadata": {},
     "output_type": "execute_result"
    }
   ],
   "source": [
    "df.groupby([\"vent\"]).mean()"
   ]
  },
  {
   "cell_type": "code",
   "execution_count": 45,
   "id": "dc269636",
   "metadata": {},
   "outputs": [
    {
     "data": {
      "text/html": [
       "<div>\n",
       "<style scoped>\n",
       "    .dataframe tbody tr th:only-of-type {\n",
       "        vertical-align: middle;\n",
       "    }\n",
       "\n",
       "    .dataframe tbody tr th {\n",
       "        vertical-align: top;\n",
       "    }\n",
       "\n",
       "    .dataframe thead th {\n",
       "        text-align: right;\n",
       "    }\n",
       "</style>\n",
       "<table border=\"1\" class=\"dataframe\">\n",
       "  <thead>\n",
       "    <tr style=\"text-align: right;\">\n",
       "      <th></th>\n",
       "      <th>gender</th>\n",
       "      <th>stay_length</th>\n",
       "      <th>vent</th>\n",
       "      <th>hypertension</th>\n",
       "      <th>coronary_ath</th>\n",
       "      <th>atrial_fib</th>\n",
       "      <th>hematocrit</th>\n",
       "      <th>platelets</th>\n",
       "      <th>hemoglobin</th>\n",
       "    </tr>\n",
       "    <tr>\n",
       "      <th>subject_id</th>\n",
       "      <th></th>\n",
       "      <th></th>\n",
       "      <th></th>\n",
       "      <th></th>\n",
       "      <th></th>\n",
       "      <th></th>\n",
       "      <th></th>\n",
       "      <th></th>\n",
       "      <th></th>\n",
       "    </tr>\n",
       "  </thead>\n",
       "  <tbody>\n",
       "    <tr>\n",
       "      <th>4</th>\n",
       "      <td>0</td>\n",
       "      <td>-0.360949</td>\n",
       "      <td>0</td>\n",
       "      <td>0</td>\n",
       "      <td>0</td>\n",
       "      <td>0</td>\n",
       "      <td>0.018405</td>\n",
       "      <td>0.413658</td>\n",
       "      <td>-0.111641</td>\n",
       "    </tr>\n",
       "    <tr>\n",
       "      <th>6</th>\n",
       "      <td>0</td>\n",
       "      <td>1.359324</td>\n",
       "      <td>0</td>\n",
       "      <td>0</td>\n",
       "      <td>0</td>\n",
       "      <td>0</td>\n",
       "      <td>0.890256</td>\n",
       "      <td>-0.393352</td>\n",
       "      <td>0.933756</td>\n",
       "    </tr>\n",
       "    <tr>\n",
       "      <th>9</th>\n",
       "      <td>1</td>\n",
       "      <td>2.757045</td>\n",
       "      <td>1</td>\n",
       "      <td>1</td>\n",
       "      <td>0</td>\n",
       "      <td>0</td>\n",
       "      <td>1.006502</td>\n",
       "      <td>1.059265</td>\n",
       "      <td>1.043798</td>\n",
       "    </tr>\n",
       "    <tr>\n",
       "      <th>11</th>\n",
       "      <td>0</td>\n",
       "      <td>-0.432627</td>\n",
       "      <td>0</td>\n",
       "      <td>0</td>\n",
       "      <td>0</td>\n",
       "      <td>0</td>\n",
       "      <td>0.851507</td>\n",
       "      <td>0.279156</td>\n",
       "      <td>0.988777</td>\n",
       "    </tr>\n",
       "    <tr>\n",
       "      <th>13</th>\n",
       "      <td>0</td>\n",
       "      <td>1.323485</td>\n",
       "      <td>1</td>\n",
       "      <td>1</td>\n",
       "      <td>1</td>\n",
       "      <td>0</td>\n",
       "      <td>-0.969693</td>\n",
       "      <td>-0.976192</td>\n",
       "      <td>-1.046996</td>\n",
       "    </tr>\n",
       "  </tbody>\n",
       "</table>\n",
       "</div>"
      ],
      "text/plain": [
       "            gender  stay_length  vent  hypertension  coronary_ath  atrial_fib  \\\n",
       "subject_id                                                                      \n",
       "4                0    -0.360949     0             0             0           0   \n",
       "6                0     1.359324     0             0             0           0   \n",
       "9                1     2.757045     1             1             0           0   \n",
       "11               0    -0.432627     0             0             0           0   \n",
       "13               0     1.323485     1             1             1           0   \n",
       "\n",
       "            hematocrit  platelets  hemoglobin  \n",
       "subject_id                                     \n",
       "4             0.018405   0.413658   -0.111641  \n",
       "6             0.890256  -0.393352    0.933756  \n",
       "9             1.006502   1.059265    1.043798  \n",
       "11            0.851507   0.279156    0.988777  \n",
       "13           -0.969693  -0.976192   -1.046996  "
      ]
     },
     "execution_count": 45,
     "metadata": {},
     "output_type": "execute_result"
    }
   ],
   "source": [
    "df.head()"
   ]
  },
  {
   "cell_type": "code",
   "execution_count": 46,
   "id": "2f6876eb",
   "metadata": {},
   "outputs": [],
   "source": [
    "def sim_data(df):\n",
    "    assert (df.columns == ['gender', 'stay_length', 'vent', 'hypertension', 'coronary_ath',\n",
    "       'atrial_fib', 'hematocrit', 'platelets', 'hemoglobin']).all()\n",
    "    "
   ]
  },
  {
   "cell_type": "code",
   "execution_count": 47,
   "id": "242c1f85",
   "metadata": {},
   "outputs": [
    {
     "data": {
      "text/plain": [
       "array([ 1,  1,  1,  1,  2, -1, -1, -2])"
      ]
     },
     "execution_count": 47,
     "metadata": {},
     "output_type": "execute_result"
    }
   ],
   "source": [
    "np.random.seed(28)\n",
    "beta = np.random.choice([1,2], size=8, p=[.75, .25])\n",
    "beta = beta * [1, 1, 1, 1, 1, -1, -1, -1]\n",
    "beta"
   ]
  },
  {
   "cell_type": "code",
   "execution_count": 48,
   "id": "540ccabc",
   "metadata": {},
   "outputs": [],
   "source": [
    "X = df.drop(columns=\"vent\").to_numpy()"
   ]
  },
  {
   "cell_type": "code",
   "execution_count": 49,
   "id": "797cc9a1",
   "metadata": {},
   "outputs": [
    {
     "data": {
      "text/plain": [
       "(30323, 8)"
      ]
     },
     "execution_count": 49,
     "metadata": {},
     "output_type": "execute_result"
    }
   ],
   "source": [
    "X.shape"
   ]
  },
  {
   "cell_type": "code",
   "execution_count": 50,
   "id": "06967b67",
   "metadata": {},
   "outputs": [],
   "source": [
    "Z = (X * beta).sum(1)"
   ]
  },
  {
   "cell_type": "code",
   "execution_count": 51,
   "id": "ba4c9a51",
   "metadata": {},
   "outputs": [],
   "source": [
    "eta = -3\n",
    "c = -1\n",
    "m = 1.3\n",
    "p = sigmoid(eta * df[\"vent\"] + m*(Z + c))\n",
    "p0 = sigmoid(m*(Z + c))\n",
    "p1 = sigmoid(eta + m*(Z + c))"
   ]
  },
  {
   "cell_type": "code",
   "execution_count": 52,
   "id": "0a8902e1",
   "metadata": {},
   "outputs": [
    {
     "data": {
      "text/plain": [
       "0.4956147097361356"
      ]
     },
     "execution_count": 52,
     "metadata": {},
     "output_type": "execute_result"
    }
   ],
   "source": [
    "p.mean()"
   ]
  },
  {
   "cell_type": "code",
   "execution_count": 53,
   "id": "489bab5a",
   "metadata": {},
   "outputs": [],
   "source": [
    "y = np.random.binomial(1, p)\n",
    "y0 = np.random.binomial(1, p0)\n",
    "y1 = np.random.binomial(1, p1)"
   ]
  },
  {
   "cell_type": "code",
   "execution_count": 54,
   "id": "cebac607",
   "metadata": {},
   "outputs": [
    {
     "name": "stdout",
     "output_type": "stream",
     "text": [
      "0.49748743718592964 0.49175052357358123\n",
      "0.3467005243544504 0.5754707647660192\n"
     ]
    }
   ],
   "source": [
    "print(y[df[\"vent\"]==1].mean(), y[df[\"vent\"]==0].mean())\n",
    "print(y1.mean(), y0.mean())"
   ]
  },
  {
   "cell_type": "code",
   "execution_count": 55,
   "id": "fa987387",
   "metadata": {},
   "outputs": [
    {
     "name": "stdout",
     "output_type": "stream",
     "text": [
      "0.010022080230304264\n",
      "-0.22877024041156876\n"
     ]
    }
   ],
   "source": [
    "print(p[df[\"vent\"]==1].mean() - p[df[\"vent\"]==0].mean())\n",
    "print((y1 - y0).mean())"
   ]
  },
  {
   "cell_type": "code",
   "execution_count": 56,
   "id": "6f42c946",
   "metadata": {},
   "outputs": [
    {
     "data": {
      "image/png": "[encoded data removed]",
      "text/plain": [
       "<Figure size 432x288 with 1 Axes>"
      ]
     },
     "metadata": {
      "needs_background": "light"
     },
     "output_type": "display_data"
    }
   ],
   "source": [
    "plt.hist(p)\n",
    "plt.show()"
   ]
  },
  {
   "cell_type": "markdown",
   "id": "f0453ffe",
   "metadata": {},
   "source": [
    "#### Write out Data"
   ]
  },
  {
   "cell_type": "code",
   "execution_count": 72,
   "id": "0eca530f",
   "metadata": {},
   "outputs": [],
   "source": [
    "df.to_csv(\"../data/semisynth_covariates.csv\", index=True)"
   ]
  },
  {
   "cell_type": "code",
   "execution_count": 59,
   "id": "3cb1ea4e",
   "metadata": {},
   "outputs": [],
   "source": [
    "import os"
   ]
  },
  {
   "cell_type": "code",
   "execution_count": 60,
   "id": "0b6a2830",
   "metadata": {},
   "outputs": [
    {
     "data": {
      "text/plain": [
       "'/home/pchatha/mimic/notebooks'"
      ]
     },
     "execution_count": 60,
     "metadata": {},
     "output_type": "execute_result"
    }
   ],
   "source": [
    "os.getcwd()"
   ]
  },
  {
   "cell_type": "code",
   "execution_count": 68,
   "id": "21089f1e",
   "metadata": {},
   "outputs": [],
   "source": [
    "df_label_probs = pd.DataFrame(index=df.index)\n",
    "df_label_probs[\"p\"] = p\n",
    "df_label_probs[\"p0\"] = p0\n",
    "df_label_probs[\"p1\"] = p1"
   ]
  },
  {
   "cell_type": "code",
   "execution_count": 69,
   "id": "65c8f30b",
   "metadata": {},
   "outputs": [
    {
     "data": {
      "text/html": [
       "<div>\n",
       "<style scoped>\n",
       "    .dataframe tbody tr th:only-of-type {\n",
       "        vertical-align: middle;\n",
       "    }\n",
       "\n",
       "    .dataframe tbody tr th {\n",
       "        vertical-align: top;\n",
       "    }\n",
       "\n",
       "    .dataframe thead th {\n",
       "        text-align: right;\n",
       "    }\n",
       "</style>\n",
       "<table border=\"1\" class=\"dataframe\">\n",
       "  <thead>\n",
       "    <tr style=\"text-align: right;\">\n",
       "      <th></th>\n",
       "      <th>p</th>\n",
       "      <th>p0</th>\n",
       "      <th>p1</th>\n",
       "    </tr>\n",
       "    <tr>\n",
       "      <th>subject_id</th>\n",
       "      <th></th>\n",
       "      <th></th>\n",
       "      <th></th>\n",
       "    </tr>\n",
       "  </thead>\n",
       "  <tbody>\n",
       "    <tr>\n",
       "      <th>4</th>\n",
       "      <td>0.115001</td>\n",
       "      <td>0.115001</td>\n",
       "      <td>0.006428</td>\n",
       "    </tr>\n",
       "    <tr>\n",
       "      <th>6</th>\n",
       "      <td>0.068714</td>\n",
       "      <td>0.068714</td>\n",
       "      <td>0.003660</td>\n",
       "    </tr>\n",
       "    <tr>\n",
       "      <th>9</th>\n",
       "      <td>0.028882</td>\n",
       "      <td>0.373972</td>\n",
       "      <td>0.028882</td>\n",
       "    </tr>\n",
       "    <tr>\n",
       "      <th>11</th>\n",
       "      <td>0.002724</td>\n",
       "      <td>0.002724</td>\n",
       "      <td>0.000136</td>\n",
       "    </tr>\n",
       "    <tr>\n",
       "      <th>13</th>\n",
       "      <td>0.994895</td>\n",
       "      <td>0.999745</td>\n",
       "      <td>0.994895</td>\n",
       "    </tr>\n",
       "  </tbody>\n",
       "</table>\n",
       "</div>"
      ],
      "text/plain": [
       "                   p        p0        p1\n",
       "subject_id                              \n",
       "4           0.115001  0.115001  0.006428\n",
       "6           0.068714  0.068714  0.003660\n",
       "9           0.028882  0.373972  0.028882\n",
       "11          0.002724  0.002724  0.000136\n",
       "13          0.994895  0.999745  0.994895"
      ]
     },
     "execution_count": 69,
     "metadata": {},
     "output_type": "execute_result"
    }
   ],
   "source": [
    "df_label_probs.head()"
   ]
  },
  {
   "cell_type": "code",
   "execution_count": 71,
   "id": "ab92e88e",
   "metadata": {},
   "outputs": [
    {
     "data": {
      "text/plain": [
       "-0.22511057888061312"
      ]
     },
     "execution_count": 71,
     "metadata": {},
     "output_type": "execute_result"
    }
   ],
   "source": [
    "(df_label_probs[\"p1\"] - df_label_probs[\"p0\"]).mean()"
   ]
  },
  {
   "cell_type": "code",
   "execution_count": 74,
   "id": "c6fb23d7",
   "metadata": {},
   "outputs": [],
   "source": [
    "df_label_probs.to_csv(\"../data/outcome_probs.csv\")"
   ]
  },
  {
   "cell_type": "code",
   "execution_count": 75,
   "id": "f89d8fc1",
   "metadata": {},
   "outputs": [],
   "source": [
    "\n"
   ]
  },
  {
   "cell_type": "code",
   "execution_count": null,
   "id": "fe9f6270",
   "metadata": {},
   "outputs": [],
   "source": []
  }
 ],
 "metadata": {
  "kernelspec": {
   "display_name": "Python 3 (ipykernel)",
   "language": "python",
   "name": "python3"
  },
  "language_info": {
   "codemirror_mode": {
    "name": "ipython",
    "version": 3
   },
   "file_extension": ".py",
   "mimetype": "text/x-python",
   "name": "python",
   "nbconvert_exporter": "python",
   "pygments_lexer": "ipython3",
   "version": "3.10.4"
  }
 },
 "nbformat": 4,
 "nbformat_minor": 5
}
