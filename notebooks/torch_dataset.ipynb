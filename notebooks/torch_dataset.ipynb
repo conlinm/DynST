{
 "cells": [
  {
   "cell_type": "code",
   "execution_count": 3,
   "id": "d93a24bf",
   "metadata": {},
   "outputs": [],
   "source": [
    "import numpy as np\n",
    "import pandas as pd\n",
    "import torch\n",
    "import h5py"
   ]
  },
  {
   "cell_type": "code",
   "execution_count": 4,
   "id": "348f7cc1",
   "metadata": {},
   "outputs": [],
   "source": [
    "f = h5py.File(\"../data/all_hourly_data.h5\", \"r\")"
   ]
  },
  {
   "cell_type": "code",
   "execution_count": 6,
   "id": "e2e6211e",
   "metadata": {},
   "outputs": [
    {
     "data": {
      "text/plain": [
       "<HDF5 group \"/codes\" (11 members)>"
      ]
     },
     "execution_count": 6,
     "metadata": {},
     "output_type": "execute_result"
    }
   ],
   "source": [
    "f[\"codes\"]"
   ]
  },
  {
   "cell_type": "code",
   "execution_count": 27,
   "id": "a1ea4fda",
   "metadata": {},
   "outputs": [],
   "source": [
    "work_dir = \"/home/pchatha/mimic\"\n",
    "codes = pd.read_hdf(work_dir + \"/data/mimic3_preprocessed.hdf5\", key=\"codes\")[\"icd9_codes\"]\n",
    "# lookup, codes = np.unique(codes, return_index=True)"
   ]
  },
  {
   "cell_type": "code",
   "execution_count": 23,
   "id": "0dd079cc",
   "metadata": {},
   "outputs": [],
   "source": [
    "treatment = pd.read_hdf(work_dir + \"/data/mimic3_preprocessed.hdf5\", key=\"treatment\")"
   ]
  },
  {
   "cell_type": "code",
   "execution_count": 45,
   "id": "275ba209",
   "metadata": {},
   "outputs": [],
   "source": [
    "vitals = pd.read_hdf(work_dir + \"/data/mimic3_preprocessed.hdf5\", key=\"vitals\")"
   ]
  },
  {
   "cell_type": "code",
   "execution_count": 56,
   "id": "e8643719",
   "metadata": {},
   "outputs": [
    {
     "data": {
      "text/plain": [
       "Int64Index([    4,     4,     4,     4,     4,     4,     4,     4,     4,\n",
       "                4,\n",
       "            ...\n",
       "            99999, 99999, 99999, 99999, 99999, 99999, 99999, 99999, 99999,\n",
       "            99999],\n",
       "           dtype='int64', name='subject_id', length=1548638)"
      ]
     },
     "execution_count": 56,
     "metadata": {},
     "output_type": "execute_result"
    }
   ],
   "source": [
    "vitals.index.get_level_values(0)"
   ]
  },
  {
   "cell_type": "code",
   "execution_count": 58,
   "id": "fc53e3fb",
   "metadata": {},
   "outputs": [
    {
     "data": {
      "text/plain": [
       "(1548638, 26)"
      ]
     },
     "execution_count": 58,
     "metadata": {},
     "output_type": "execute_result"
    }
   ],
   "source": [
    "vitals.to_numpy().shape"
   ]
  },
  {
   "cell_type": "code",
   "execution_count": null,
   "id": "ae7fc780",
   "metadata": {},
   "outputs": [],
   "source": []
  }
 ],
 "metadata": {
  "kernelspec": {
   "display_name": "Python 3 (ipykernel)",
   "language": "python",
   "name": "python3"
  },
  "language_info": {
   "codemirror_mode": {
    "name": "ipython",
    "version": 3
   },
   "file_extension": ".py",
   "mimetype": "text/x-python",
   "name": "python",
   "nbconvert_exporter": "python",
   "pygments_lexer": "ipython3",
   "version": "3.8.10"
  }
 },
 "nbformat": 4,
 "nbformat_minor": 5
}
