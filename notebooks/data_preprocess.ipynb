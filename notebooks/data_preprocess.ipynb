{
 "cells": [
  {
   "cell_type": "code",
   "execution_count": 7,
   "id": "ac3f34b5",
   "metadata": {},
   "outputs": [],
   "source": [
    "import pandas as pd\n",
    "import numpy as np"
   ]
  },
  {
   "cell_type": "code",
   "execution_count": 14,
   "id": "7a84865a",
   "metadata": {},
   "outputs": [],
   "source": [
    "import matplotlib.pyplot as plt"
   ]
  },
  {
   "cell_type": "code",
   "execution_count": 8,
   "id": "08636b46",
   "metadata": {},
   "outputs": [],
   "source": [
    "h5 = pd.HDFStore(\"/home/pchatha/mimic/data/all_hourly_data.h5\")"
   ]
  },
  {
   "cell_type": "markdown",
   "id": "ff3de0f8",
   "metadata": {},
   "source": [
    "#### Narrow Down Codes"
   ]
  },
  {
   "cell_type": "code",
   "execution_count": 10,
   "id": "c0787a5d",
   "metadata": {},
   "outputs": [],
   "source": [
    "stay_lengths = interventions.groupby(\"subject_id\").size()\n",
    "stay_lengths = stay_lengths[(stay_lengths >= 16) & (stay_lengths <= 128)]\n",
    "stay_lengths.name=\"stay_length\""
   ]
  },
  {
   "cell_type": "code",
   "execution_count": 62,
   "id": "97859555",
   "metadata": {},
   "outputs": [],
   "source": [
    "codes = h5[\"codes\"].reset_index()[[\"subject_id\", \"icd9_codes\"]].drop_duplicates([\"subject_id\"])\n",
    "codes = codes.set_index(\"subject_id\").join(stay_lengths, how=\"right\")\n",
    "codes = codes.explode(\"icd9_codes\")"
   ]
  },
  {
   "cell_type": "code",
   "execution_count": 63,
   "id": "8befab6c",
   "metadata": {},
   "outputs": [],
   "source": [
    "code_counts = codes[\"icd9_codes\"].value_counts()\n",
    "code_counts = code_counts[code_counts >= 100]\n",
    "code_counts.name = \"count\"\n",
    "code_counts = code_counts.to_frame()"
   ]
  },
  {
   "cell_type": "code",
   "execution_count": 64,
   "id": "e063bec8",
   "metadata": {},
   "outputs": [],
   "source": [
    "codes = codes.merge(code_counts, left_on=\"icd9_codes\", right_index=True, how=\"left\")\n",
    "codes[\"icd9_codes\"] = codes[\"icd9_codes\"].mask(codes[\"count\"].isna())\n",
    "codes[\"icd9_codes\"] = codes[\"icd9_codes\"].fillna(\"unk\")"
   ]
  },
  {
   "cell_type": "code",
   "execution_count": 66,
   "id": "0fcba902",
   "metadata": {},
   "outputs": [
    {
     "data": {
      "text/html": [
       "<div>\n",
       "<style scoped>\n",
       "    .dataframe tbody tr th:only-of-type {\n",
       "        vertical-align: middle;\n",
       "    }\n",
       "\n",
       "    .dataframe tbody tr th {\n",
       "        vertical-align: top;\n",
       "    }\n",
       "\n",
       "    .dataframe thead th {\n",
       "        text-align: right;\n",
       "    }\n",
       "</style>\n",
       "<table border=\"1\" class=\"dataframe\">\n",
       "  <thead>\n",
       "    <tr style=\"text-align: right;\">\n",
       "      <th></th>\n",
       "      <th>icd9_codes</th>\n",
       "      <th>stay_length</th>\n",
       "      <th>count</th>\n",
       "    </tr>\n",
       "    <tr>\n",
       "      <th>subject_id</th>\n",
       "      <th></th>\n",
       "      <th></th>\n",
       "      <th></th>\n",
       "    </tr>\n",
       "  </thead>\n",
       "  <tbody>\n",
       "    <tr>\n",
       "      <th>4</th>\n",
       "      <td>042</td>\n",
       "      <td>41</td>\n",
       "      <td>263.0</td>\n",
       "    </tr>\n",
       "    <tr>\n",
       "      <th>4</th>\n",
       "      <td>unk</td>\n",
       "      <td>41</td>\n",
       "      <td>NaN</td>\n",
       "    </tr>\n",
       "    <tr>\n",
       "      <th>4</th>\n",
       "      <td>7994</td>\n",
       "      <td>41</td>\n",
       "      <td>117.0</td>\n",
       "    </tr>\n",
       "    <tr>\n",
       "      <th>4</th>\n",
       "      <td>2763</td>\n",
       "      <td>41</td>\n",
       "      <td>364.0</td>\n",
       "    </tr>\n",
       "    <tr>\n",
       "      <th>4</th>\n",
       "      <td>7907</td>\n",
       "      <td>41</td>\n",
       "      <td>588.0</td>\n",
       "    </tr>\n",
       "  </tbody>\n",
       "</table>\n",
       "</div>"
      ],
      "text/plain": [
       "           icd9_codes  stay_length  count\n",
       "subject_id                               \n",
       "4                 042           41  263.0\n",
       "4                 unk           41    NaN\n",
       "4                7994           41  117.0\n",
       "4                2763           41  364.0\n",
       "4                7907           41  588.0"
      ]
     },
     "execution_count": 66,
     "metadata": {},
     "output_type": "execute_result"
    }
   ],
   "source": [
    "codes.head()"
   ]
  },
  {
   "cell_type": "code",
   "execution_count": 59,
   "id": "e720845b",
   "metadata": {},
   "outputs": [
    {
     "data": {
      "text/plain": [
       "subject_id\n",
       "4          042\n",
       "4          NaN\n",
       "4         7994\n",
       "4         2763\n",
       "4         7907\n",
       "         ...  \n",
       "99999      NaN\n",
       "99999      NaN\n",
       "99999     4019\n",
       "99999    25000\n",
       "99999     4139\n",
       "Name: icd9_codes, Length: 319676, dtype: object"
      ]
     },
     "execution_count": 59,
     "metadata": {},
     "output_type": "execute_result"
    }
   ],
   "source": [
    "codes[\"icd9_codes\"].mask(codes[\"count\"].isna())"
   ]
  },
  {
   "cell_type": "code",
   "execution_count": 54,
   "id": "39b289b3",
   "metadata": {},
   "outputs": [
    {
     "data": {
      "text/plain": [
       "515"
      ]
     },
     "execution_count": 54,
     "metadata": {},
     "output_type": "execute_result"
    }
   ],
   "source": [
    "codes[codes[\"count\"].notna()][\"icd9_codes\"].nunique()"
   ]
  },
  {
   "cell_type": "code",
   "execution_count": 53,
   "id": "2cf59947",
   "metadata": {},
   "outputs": [
    {
     "data": {
      "text/html": [
       "<div>\n",
       "<style scoped>\n",
       "    .dataframe tbody tr th:only-of-type {\n",
       "        vertical-align: middle;\n",
       "    }\n",
       "\n",
       "    .dataframe tbody tr th {\n",
       "        vertical-align: top;\n",
       "    }\n",
       "\n",
       "    .dataframe thead th {\n",
       "        text-align: right;\n",
       "    }\n",
       "</style>\n",
       "<table border=\"1\" class=\"dataframe\">\n",
       "  <thead>\n",
       "    <tr style=\"text-align: right;\">\n",
       "      <th></th>\n",
       "      <th>icd9_codes</th>\n",
       "      <th>stay_length</th>\n",
       "      <th>count</th>\n",
       "    </tr>\n",
       "    <tr>\n",
       "      <th>subject_id</th>\n",
       "      <th></th>\n",
       "      <th></th>\n",
       "      <th></th>\n",
       "    </tr>\n",
       "  </thead>\n",
       "  <tbody>\n",
       "    <tr>\n",
       "      <th>4</th>\n",
       "      <td>042</td>\n",
       "      <td>41</td>\n",
       "      <td>263.0</td>\n",
       "    </tr>\n",
       "    <tr>\n",
       "      <th>4</th>\n",
       "      <td>1363</td>\n",
       "      <td>41</td>\n",
       "      <td>NaN</td>\n",
       "    </tr>\n",
       "    <tr>\n",
       "      <th>4</th>\n",
       "      <td>7994</td>\n",
       "      <td>41</td>\n",
       "      <td>117.0</td>\n",
       "    </tr>\n",
       "    <tr>\n",
       "      <th>4</th>\n",
       "      <td>2763</td>\n",
       "      <td>41</td>\n",
       "      <td>364.0</td>\n",
       "    </tr>\n",
       "    <tr>\n",
       "      <th>4</th>\n",
       "      <td>7907</td>\n",
       "      <td>41</td>\n",
       "      <td>588.0</td>\n",
       "    </tr>\n",
       "  </tbody>\n",
       "</table>\n",
       "</div>"
      ],
      "text/plain": [
       "           icd9_codes  stay_length  count\n",
       "subject_id                               \n",
       "4                 042           41  263.0\n",
       "4                1363           41    NaN\n",
       "4                7994           41  117.0\n",
       "4                2763           41  364.0\n",
       "4                7907           41  588.0"
      ]
     },
     "execution_count": 53,
     "metadata": {},
     "output_type": "execute_result"
    }
   ],
   "source": [
    "codes.head()"
   ]
  }
 ],
 "metadata": {
  "kernelspec": {
   "display_name": "Python 3 (ipykernel)",
   "language": "python",
   "name": "python3"
  },
  "language_info": {
   "codemirror_mode": {
    "name": "ipython",
    "version": 3
   },
   "file_extension": ".py",
   "mimetype": "text/x-python",
   "name": "python",
   "nbconvert_exporter": "python",
   "pygments_lexer": "ipython3",
   "version": "3.10.4"
  }
 },
 "nbformat": 4,
 "nbformat_minor": 5
}
