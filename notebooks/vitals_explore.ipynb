{
 "cells": [
  {
   "cell_type": "code",
   "execution_count": 1,
   "id": "2f010072",
   "metadata": {},
   "outputs": [],
   "source": [
    "import pandas as pd\n",
    "import numpy as np\n",
    "import matplotlib.pyplot as plt"
   ]
  },
  {
   "cell_type": "code",
   "execution_count": 3,
   "id": "264a9dcf",
   "metadata": {},
   "outputs": [],
   "source": [
    "h5 = pd.HDFStore(\"/home/pchatha/mimic/data/all_hourly_data.h5\")"
   ]
  },
  {
   "cell_type": "code",
   "execution_count": 4,
   "id": "279dff21",
   "metadata": {},
   "outputs": [
    {
     "data": {
      "text/plain": [
       "['/codes',\n",
       " '/interventions',\n",
       " '/patients',\n",
       " '/vitals_labs',\n",
       " '/vitals_labs_mean',\n",
       " '/patients/meta/values_block_6/meta',\n",
       " '/patients/meta/values_block_5/meta',\n",
       " '/patients/meta/values_block_4/meta',\n",
       " '/patients/meta/values_block_0/meta']"
      ]
     },
     "execution_count": 4,
     "metadata": {},
     "output_type": "execute_result"
    }
   ],
   "source": [
    "h5.keys()"
   ]
  },
  {
   "cell_type": "code",
   "execution_count": 5,
   "id": "dcbd7c7c",
   "metadata": {},
   "outputs": [],
   "source": [
    "interventions = h5[\"interventions\"].reset_index()"
   ]
  },
  {
   "cell_type": "code",
   "execution_count": 6,
   "id": "abe932ae",
   "metadata": {},
   "outputs": [],
   "source": [
    "def sigmoid(x):\n",
    "    return 1 / (1 + np.exp(-x))"
   ]
  },
  {
   "cell_type": "markdown",
   "id": "f4927c46",
   "metadata": {},
   "source": [
    "#### Vitals!!"
   ]
  },
  {
   "cell_type": "code",
   "execution_count": 12,
   "id": "3efd3401",
   "metadata": {},
   "outputs": [],
   "source": [
    "interventions = h5[\"interventions\"].reset_index()\n",
    "vent = interventions.groupby(\"subject_id\")[\"vent\"].any().astype(int)"
   ]
  },
  {
   "cell_type": "markdown",
   "id": "54f0234c",
   "metadata": {},
   "source": [
    "### Get Lab Data"
   ]
  },
  {
   "cell_type": "code",
   "execution_count": 7,
   "id": "6f7d8b6b",
   "metadata": {},
   "outputs": [],
   "source": [
    "vitals = h5[\"vitals_labs_mean\"].droplevel(['hadm_id', 'icustay_id'])\n",
    "vitals.columns = vitals.columns.get_level_values(0)\n",
    "vital_list = [\n",
    "    'heart rate',\n",
    "    'red blood cell count',\n",
    "    'sodium',\n",
    "    'mean blood pressure',\n",
    "    'systemic vascular resistance',\n",
    "    'glucose',\n",
    "    'chloride urine',\n",
    "    'glascow coma scale total',\n",
    "    'hematocrit',\n",
    "    'positive end-expiratory pressure set',\n",
    "    'respiratory rate',\n",
    "    'prothrombin time pt',\n",
    "    'cholesterol',\n",
    "    'hemoglobin',\n",
    "    'creatinine',\n",
    "    'blood urea nitrogen',\n",
    "    'bicarbonate',\n",
    "    'calcium ionized',\n",
    "    'partial pressure of carbon dioxide',\n",
    "    'magnesium',\n",
    "    'anion gap',\n",
    "    'phosphorous',\n",
    "    'venous pvo2',\n",
    "    'platelets',\n",
    "    'calcium urine'\n",
    "]"
   ]
  },
  {
   "cell_type": "markdown",
   "id": "0e1a0d19",
   "metadata": {},
   "source": [
    "Confounding vitals: heart rate, hematocrit, platelets, hemoglobin"
   ]
  },
  {
   "cell_type": "code",
   "execution_count": 9,
   "id": "96ccac73",
   "metadata": {},
   "outputs": [],
   "source": [
    "# vitals.notna().sum(0).sort_values().tail(30)"
   ]
  },
  {
   "cell_type": "code",
   "execution_count": 22,
   "id": "bd473598",
   "metadata": {},
   "outputs": [],
   "source": [
    "# vitals_sub = vitals[vital_list]"
   ]
  },
  {
   "cell_type": "code",
   "execution_count": 10,
   "id": "67f2193d",
   "metadata": {},
   "outputs": [],
   "source": [
    "# vitals = vitals[vital_list]\n",
    "vitals = vitals.fillna(method=\"ffill\")\n",
    "vitals = vitals.fillna(method=\"bfill\")"
   ]
  },
  {
   "cell_type": "code",
   "execution_count": 11,
   "id": "f98102f3",
   "metadata": {},
   "outputs": [],
   "source": [
    "mean = np.mean(vitals, axis=0)\n",
    "std = np.std(vitals, axis=0)\n",
    "vitals = (vitals - mean) / std"
   ]
  },
  {
   "cell_type": "code",
   "execution_count": 29,
   "id": "4c36122f",
   "metadata": {},
   "outputs": [
    {
     "data": {
      "text/html": [
       "<div>\n",
       "<style scoped>\n",
       "    .dataframe tbody tr th:only-of-type {\n",
       "        vertical-align: middle;\n",
       "    }\n",
       "\n",
       "    .dataframe tbody tr th {\n",
       "        vertical-align: top;\n",
       "    }\n",
       "\n",
       "    .dataframe thead th {\n",
       "        text-align: right;\n",
       "    }\n",
       "</style>\n",
       "<table border=\"1\" class=\"dataframe\">\n",
       "  <thead>\n",
       "    <tr style=\"text-align: right;\">\n",
       "      <th></th>\n",
       "      <th>LEVEL2</th>\n",
       "      <th>alanine aminotransferase</th>\n",
       "      <th>albumin</th>\n",
       "      <th>albumin ascites</th>\n",
       "      <th>albumin pleural</th>\n",
       "      <th>albumin urine</th>\n",
       "      <th>alkaline phosphate</th>\n",
       "      <th>anion gap</th>\n",
       "      <th>asparate aminotransferase</th>\n",
       "      <th>basophils</th>\n",
       "      <th>bicarbonate</th>\n",
       "      <th>...</th>\n",
       "      <th>total protein</th>\n",
       "      <th>total protein urine</th>\n",
       "      <th>troponin-i</th>\n",
       "      <th>troponin-t</th>\n",
       "      <th>venous pvo2</th>\n",
       "      <th>weight</th>\n",
       "      <th>white blood cell count</th>\n",
       "      <th>white blood cell count urine</th>\n",
       "      <th>ph</th>\n",
       "      <th>ph urine</th>\n",
       "    </tr>\n",
       "    <tr>\n",
       "      <th>subject_id</th>\n",
       "      <th>hours_in</th>\n",
       "      <th></th>\n",
       "      <th></th>\n",
       "      <th></th>\n",
       "      <th></th>\n",
       "      <th></th>\n",
       "      <th></th>\n",
       "      <th></th>\n",
       "      <th></th>\n",
       "      <th></th>\n",
       "      <th></th>\n",
       "      <th></th>\n",
       "      <th></th>\n",
       "      <th></th>\n",
       "      <th></th>\n",
       "      <th></th>\n",
       "      <th></th>\n",
       "      <th></th>\n",
       "      <th></th>\n",
       "      <th></th>\n",
       "      <th></th>\n",
       "      <th></th>\n",
       "    </tr>\n",
       "  </thead>\n",
       "  <tbody>\n",
       "    <tr>\n",
       "      <th rowspan=\"5\" valign=\"top\">3</th>\n",
       "      <th>0</th>\n",
       "      <td>-0.193043</td>\n",
       "      <td>-1.923109</td>\n",
       "      <td>-1.276641</td>\n",
       "      <td>0.542858</td>\n",
       "      <td>-0.514431</td>\n",
       "      <td>-0.282113</td>\n",
       "      <td>2.058697</td>\n",
       "      <td>-0.110791</td>\n",
       "      <td>-0.240575</td>\n",
       "      <td>-1.85188</td>\n",
       "      <td>...</td>\n",
       "      <td>-1.034424</td>\n",
       "      <td>0.364108</td>\n",
       "      <td>1.439611</td>\n",
       "      <td>-0.372463</td>\n",
       "      <td>-1.136858</td>\n",
       "      <td>0.984624</td>\n",
       "      <td>0.358176</td>\n",
       "      <td>0.112852</td>\n",
       "      <td>0.068110</td>\n",
       "      <td>-0.855775</td>\n",
       "    </tr>\n",
       "    <tr>\n",
       "      <th>1</th>\n",
       "      <td>-0.193043</td>\n",
       "      <td>-1.923109</td>\n",
       "      <td>-1.276641</td>\n",
       "      <td>0.542858</td>\n",
       "      <td>-0.514431</td>\n",
       "      <td>-0.282113</td>\n",
       "      <td>2.058697</td>\n",
       "      <td>-0.110791</td>\n",
       "      <td>-0.240575</td>\n",
       "      <td>-1.85188</td>\n",
       "      <td>...</td>\n",
       "      <td>-1.034424</td>\n",
       "      <td>0.364108</td>\n",
       "      <td>1.439611</td>\n",
       "      <td>-0.372463</td>\n",
       "      <td>-1.136858</td>\n",
       "      <td>0.984624</td>\n",
       "      <td>0.358176</td>\n",
       "      <td>0.112852</td>\n",
       "      <td>0.068110</td>\n",
       "      <td>-0.855775</td>\n",
       "    </tr>\n",
       "    <tr>\n",
       "      <th>2</th>\n",
       "      <td>-0.193043</td>\n",
       "      <td>-1.923109</td>\n",
       "      <td>-1.276641</td>\n",
       "      <td>0.542858</td>\n",
       "      <td>-0.514431</td>\n",
       "      <td>-0.282113</td>\n",
       "      <td>2.058697</td>\n",
       "      <td>-0.110791</td>\n",
       "      <td>-0.240575</td>\n",
       "      <td>-1.85188</td>\n",
       "      <td>...</td>\n",
       "      <td>-1.034424</td>\n",
       "      <td>0.364108</td>\n",
       "      <td>1.439611</td>\n",
       "      <td>-0.372463</td>\n",
       "      <td>-1.136858</td>\n",
       "      <td>0.984624</td>\n",
       "      <td>0.358176</td>\n",
       "      <td>0.112852</td>\n",
       "      <td>-1.910089</td>\n",
       "      <td>-0.855775</td>\n",
       "    </tr>\n",
       "    <tr>\n",
       "      <th>3</th>\n",
       "      <td>-0.193043</td>\n",
       "      <td>-1.923109</td>\n",
       "      <td>-1.276641</td>\n",
       "      <td>0.542858</td>\n",
       "      <td>-0.514431</td>\n",
       "      <td>-0.282113</td>\n",
       "      <td>2.058697</td>\n",
       "      <td>-0.110791</td>\n",
       "      <td>-0.240575</td>\n",
       "      <td>-1.85188</td>\n",
       "      <td>...</td>\n",
       "      <td>-1.034424</td>\n",
       "      <td>0.364108</td>\n",
       "      <td>1.439611</td>\n",
       "      <td>-0.372463</td>\n",
       "      <td>-1.136858</td>\n",
       "      <td>0.984624</td>\n",
       "      <td>0.358176</td>\n",
       "      <td>0.112852</td>\n",
       "      <td>-1.910089</td>\n",
       "      <td>-0.855775</td>\n",
       "    </tr>\n",
       "    <tr>\n",
       "      <th>4</th>\n",
       "      <td>-0.193043</td>\n",
       "      <td>-1.923109</td>\n",
       "      <td>-1.276641</td>\n",
       "      <td>0.542858</td>\n",
       "      <td>-0.514431</td>\n",
       "      <td>-0.282113</td>\n",
       "      <td>2.058697</td>\n",
       "      <td>-0.110791</td>\n",
       "      <td>-0.240575</td>\n",
       "      <td>-1.85188</td>\n",
       "      <td>...</td>\n",
       "      <td>-1.034424</td>\n",
       "      <td>0.364108</td>\n",
       "      <td>1.439611</td>\n",
       "      <td>-0.372463</td>\n",
       "      <td>-1.136858</td>\n",
       "      <td>0.984624</td>\n",
       "      <td>0.358176</td>\n",
       "      <td>0.112852</td>\n",
       "      <td>-1.910089</td>\n",
       "      <td>-0.855775</td>\n",
       "    </tr>\n",
       "  </tbody>\n",
       "</table>\n",
       "<p>5 rows × 104 columns</p>\n",
       "</div>"
      ],
      "text/plain": [
       "LEVEL2               alanine aminotransferase   albumin  albumin ascites  \\\n",
       "subject_id hours_in                                                        \n",
       "3          0                        -0.193043 -1.923109        -1.276641   \n",
       "           1                        -0.193043 -1.923109        -1.276641   \n",
       "           2                        -0.193043 -1.923109        -1.276641   \n",
       "           3                        -0.193043 -1.923109        -1.276641   \n",
       "           4                        -0.193043 -1.923109        -1.276641   \n",
       "\n",
       "LEVEL2               albumin pleural  albumin urine  alkaline phosphate  \\\n",
       "subject_id hours_in                                                       \n",
       "3          0                0.542858      -0.514431           -0.282113   \n",
       "           1                0.542858      -0.514431           -0.282113   \n",
       "           2                0.542858      -0.514431           -0.282113   \n",
       "           3                0.542858      -0.514431           -0.282113   \n",
       "           4                0.542858      -0.514431           -0.282113   \n",
       "\n",
       "LEVEL2               anion gap  asparate aminotransferase  basophils  \\\n",
       "subject_id hours_in                                                    \n",
       "3          0          2.058697                  -0.110791  -0.240575   \n",
       "           1          2.058697                  -0.110791  -0.240575   \n",
       "           2          2.058697                  -0.110791  -0.240575   \n",
       "           3          2.058697                  -0.110791  -0.240575   \n",
       "           4          2.058697                  -0.110791  -0.240575   \n",
       "\n",
       "LEVEL2               bicarbonate  ...  total protein  total protein urine  \\\n",
       "subject_id hours_in               ...                                       \n",
       "3          0            -1.85188  ...      -1.034424             0.364108   \n",
       "           1            -1.85188  ...      -1.034424             0.364108   \n",
       "           2            -1.85188  ...      -1.034424             0.364108   \n",
       "           3            -1.85188  ...      -1.034424             0.364108   \n",
       "           4            -1.85188  ...      -1.034424             0.364108   \n",
       "\n",
       "LEVEL2               troponin-i  troponin-t  venous pvo2    weight  \\\n",
       "subject_id hours_in                                                  \n",
       "3          0           1.439611   -0.372463    -1.136858  0.984624   \n",
       "           1           1.439611   -0.372463    -1.136858  0.984624   \n",
       "           2           1.439611   -0.372463    -1.136858  0.984624   \n",
       "           3           1.439611   -0.372463    -1.136858  0.984624   \n",
       "           4           1.439611   -0.372463    -1.136858  0.984624   \n",
       "\n",
       "LEVEL2               white blood cell count  white blood cell count urine  \\\n",
       "subject_id hours_in                                                         \n",
       "3          0                       0.358176                      0.112852   \n",
       "           1                       0.358176                      0.112852   \n",
       "           2                       0.358176                      0.112852   \n",
       "           3                       0.358176                      0.112852   \n",
       "           4                       0.358176                      0.112852   \n",
       "\n",
       "LEVEL2                     ph  ph urine  \n",
       "subject_id hours_in                      \n",
       "3          0         0.068110 -0.855775  \n",
       "           1         0.068110 -0.855775  \n",
       "           2        -1.910089 -0.855775  \n",
       "           3        -1.910089 -0.855775  \n",
       "           4        -1.910089 -0.855775  \n",
       "\n",
       "[5 rows x 104 columns]"
      ]
     },
     "execution_count": 29,
     "metadata": {},
     "output_type": "execute_result"
    }
   ],
   "source": [
    "vitals.head()"
   ]
  },
  {
   "cell_type": "code",
   "execution_count": 14,
   "id": "5647490c",
   "metadata": {},
   "outputs": [],
   "source": [
    "vitals = vitals.join(vent, how=\"left\")"
   ]
  },
  {
   "cell_type": "code",
   "execution_count": 22,
   "id": "9c06db19",
   "metadata": {},
   "outputs": [],
   "source": [
    "last_avg = vitals.groupby(level=0).tail(4).groupby(level=0).mean()"
   ]
  },
  {
   "cell_type": "code",
   "execution_count": 26,
   "id": "fcac2086",
   "metadata": {},
   "outputs": [],
   "source": [
    "diff = last_avg[last_avg[\"vent\"]==1].mean() - last_avg[last_avg[\"vent\"]==0].mean()"
   ]
  },
  {
   "cell_type": "code",
   "execution_count": 32,
   "id": "7a1ee482",
   "metadata": {},
   "outputs": [
    {
     "data": {
      "text/plain": [
       "oxygen saturation          -0.404630\n",
       "hematocrit                 -0.360117\n",
       "red blood cell count       -0.324113\n",
       "hemoglobin                 -0.322449\n",
       "diastolic blood pressure   -0.280926\n",
       "mean blood pressure        -0.266058\n",
       "systolic blood pressure    -0.263033\n",
       "platelets                  -0.209581\n",
       "glascow coma scale total   -0.157848\n",
       "anion gap                  -0.123182\n",
       "dtype: float64"
      ]
     },
     "execution_count": 32,
     "metadata": {},
     "output_type": "execute_result"
    }
   ],
   "source": [
    "diff.sort_values().head(10)"
   ]
  },
  {
   "cell_type": "code",
   "execution_count": 33,
   "id": "cb67646b",
   "metadata": {},
   "outputs": [
    {
     "data": {
      "text/plain": [
       "phosphorous                                  0.080459\n",
       "phosphate                                    0.084406\n",
       "potassium                                    0.105248\n",
       "bicarbonate                                  0.113084\n",
       "mean corpuscular hemoglobin concentration    0.114247\n",
       "magnesium                                    0.140170\n",
       "temperature                                  0.141377\n",
       "white blood cell count                       0.147733\n",
       "weight                                       0.181907\n",
       "vent                                         1.000000\n",
       "dtype: float64"
      ]
     },
     "execution_count": 33,
     "metadata": {},
     "output_type": "execute_result"
    }
   ],
   "source": [
    "diff.sort_values().tail(10)"
   ]
  },
  {
   "cell_type": "code",
   "execution_count": 58,
   "id": "96c5c263",
   "metadata": {},
   "outputs": [
    {
     "data": {
      "text/plain": [
       "0.054534623234064494"
      ]
     },
     "execution_count": 58,
     "metadata": {},
     "output_type": "execute_result"
    }
   ],
   "source": [
    "diff.loc[\"heart rate\"]"
   ]
  },
  {
   "cell_type": "code",
   "execution_count": 46,
   "id": "45f7ee14",
   "metadata": {},
   "outputs": [],
   "source": [
    "counts = h5[\"vitals_labs_mean\"].droplevel(['hadm_id', 'icustay_id'])\n",
    "counts.columns = counts.columns.get_level_values(0)\n",
    "counts = counts.notna().sum()"
   ]
  },
  {
   "cell_type": "code",
   "execution_count": 51,
   "id": "99e7f1d9",
   "metadata": {},
   "outputs": [],
   "source": [
    "top20 = counts.sort_values().tail(20).index"
   ]
  },
  {
   "cell_type": "code",
   "execution_count": 44,
   "id": "29237292",
   "metadata": {},
   "outputs": [
    {
     "data": {
      "text/plain": [
       "MultiIndex([(                       'bicarbonate', 'mean'),\n",
       "            (               'blood urea nitrogen', 'mean'),\n",
       "            (                        'creatinine', 'mean'),\n",
       "            (                                'ph', 'mean'),\n",
       "            (                        'hemoglobin', 'mean'),\n",
       "            ('pulmonary artery pressure systolic', 'mean'),\n",
       "            (                          'chloride', 'mean'),\n",
       "            (                            'sodium', 'mean'),\n",
       "            (                         'potassium', 'mean'),\n",
       "            (                        'hematocrit', 'mean'),\n",
       "            (          'glascow coma scale total', 'mean'),\n",
       "            (           'central venous pressure', 'mean'),\n",
       "            (                           'glucose', 'mean'),\n",
       "            (                       'temperature', 'mean'),\n",
       "            (                 'oxygen saturation', 'mean'),\n",
       "            (               'mean blood pressure', 'mean'),\n",
       "            (          'diastolic blood pressure', 'mean'),\n",
       "            (           'systolic blood pressure', 'mean'),\n",
       "            (                  'respiratory rate', 'mean'),\n",
       "            (                        'heart rate', 'mean')],\n",
       "           names=['LEVEL2', 'Aggregation Function'])"
      ]
     },
     "execution_count": 44,
     "metadata": {},
     "output_type": "execute_result"
    }
   ],
   "source": [
    "counts.sort_values().tail(20)"
   ]
  },
  {
   "cell_type": "code",
   "execution_count": 54,
   "id": "2b622137",
   "metadata": {},
   "outputs": [
    {
     "data": {
      "text/plain": [
       "LEVEL2\n",
       "oxygen saturation                    -0.404630\n",
       "hematocrit                           -0.360117\n",
       "hemoglobin                           -0.322449\n",
       "diastolic blood pressure             -0.280926\n",
       "mean blood pressure                  -0.266058\n",
       "systolic blood pressure              -0.263033\n",
       "glascow coma scale total             -0.157848\n",
       "creatinine                           -0.058572\n",
       "pulmonary artery pressure systolic   -0.032669\n",
       "sodium                               -0.008314\n",
       "blood urea nitrogen                   0.002235\n",
       "chloride                              0.005704\n",
       "central venous pressure               0.006820\n",
       "respiratory rate                      0.031207\n",
       "glucose                               0.046961\n",
       "ph                                    0.052405\n",
       "heart rate                            0.054535\n",
       "potassium                             0.105248\n",
       "bicarbonate                           0.113084\n",
       "temperature                           0.141377\n",
       "dtype: float64"
      ]
     },
     "execution_count": 54,
     "metadata": {},
     "output_type": "execute_result"
    }
   ],
   "source": [
    "diff[top20].sort_values()"
   ]
  },
  {
   "cell_type": "code",
   "execution_count": 31,
   "id": "25924556",
   "metadata": {},
   "outputs": [],
   "source": [
    "vitals = vitals.join(stay_lengths, how=\"right\")"
   ]
  },
  {
   "cell_type": "markdown",
   "id": "5ccdc965",
   "metadata": {},
   "source": [
    "Confounding vitals: heart rate, hematocrit, platelets, hemoglobin"
   ]
  },
  {
   "cell_type": "code",
   "execution_count": 32,
   "id": "783c6d5c",
   "metadata": {},
   "outputs": [
    {
     "data": {
      "text/plain": [
       "<AxesSubplot:>"
      ]
     },
     "execution_count": 32,
     "metadata": {},
     "output_type": "execute_result"
    },
    {
     "data": {
      "image/png": "[encoded data removed]",
      "text/plain": [
       "<Figure size 432x288 with 1 Axes>"
      ]
     },
     "metadata": {
      "needs_background": "light"
     },
     "output_type": "display_data"
    }
   ],
   "source": [
    "(np.abs(vitals[\"heart rate\"])).clip(upper=4).hist()"
   ]
  },
  {
   "cell_type": "markdown",
   "id": "9bf9fa14",
   "metadata": {},
   "source": [
    "#### visualize"
   ]
  },
  {
   "cell_type": "code",
   "execution_count": 51,
   "id": "fe9f6270",
   "metadata": {},
   "outputs": [
    {
     "data": {
      "text/plain": [
       "subject_id  hours_in\n",
       "3           0           3.340470\n",
       "            1           3.956230\n",
       "            2           3.039750\n",
       "            3           2.552869\n",
       "            4           3.512310\n",
       "Name: heart rate, dtype: float64"
      ]
     },
     "execution_count": 51,
     "metadata": {},
     "output_type": "execute_result"
    }
   ],
   "source": [
    "vitals[\"heart rate\"].head()"
   ]
  },
  {
   "cell_type": "code",
   "execution_count": 56,
   "id": "49395372",
   "metadata": {},
   "outputs": [
    {
     "data": {
      "text/plain": [
       "Int64Index([    3,     4,     6,     9,    11,    12,    13,    17,    18,\n",
       "               19,\n",
       "            ...\n",
       "            99957, 99965, 99966, 99973, 99982, 99983, 99991, 99992, 99995,\n",
       "            99999],\n",
       "           dtype='int64', name='subject_id', length=34472)"
      ]
     },
     "execution_count": 56,
     "metadata": {},
     "output_type": "execute_result"
    }
   ],
   "source": []
  },
  {
   "cell_type": "code",
   "execution_count": 63,
   "id": "c396fb92",
   "metadata": {},
   "outputs": [
    {
     "data": {
      "image/png": "[encoded data removed]",
      "text/plain": [
       "<Figure size 432x288 with 1 Axes>"
      ]
     },
     "metadata": {
      "needs_background": "light"
     },
     "output_type": "display_data"
    }
   ],
   "source": [
    "for i in np.random.choice(vitals.index.levels[0], 10):\n",
    "    vitals[\"mean blood pressure\"].loc[i].plot()"
   ]
  },
  {
   "cell_type": "code",
   "execution_count": 60,
   "id": "f006dc47",
   "metadata": {},
   "outputs": [
    {
     "data": {
      "image/png": "[encoded data removed]",
      "text/plain": [
       "<Figure size 432x288 with 1 Axes>"
      ]
     },
     "metadata": {
      "needs_background": "light"
     },
     "output_type": "display_data"
    }
   ],
   "source": [
    "for i in np.random.choice(vitals.index.levels[0], 10):\n",
    "    vitals[\"hematocrit\"].loc[i].plot()"
   ]
  },
  {
   "cell_type": "code",
   "execution_count": 61,
   "id": "13c4adba",
   "metadata": {},
   "outputs": [
    {
     "data": {
      "image/png": "[encoded data removed]",
      "text/plain": [
       "<Figure size 432x288 with 1 Axes>"
      ]
     },
     "metadata": {
      "needs_background": "light"
     },
     "output_type": "display_data"
    }
   ],
   "source": [
    "for i in np.random.choice(vitals.index.levels[0], 10):\n",
    "    vitals[\"platelets\"].loc[i].plot()"
   ]
  },
  {
   "cell_type": "code",
   "execution_count": 62,
   "id": "38bae8c8",
   "metadata": {},
   "outputs": [
    {
     "data": {
      "image/png": "[encoded data removed]",
      "text/plain": [
       "<Figure size 432x288 with 1 Axes>"
      ]
     },
     "metadata": {
      "needs_background": "light"
     },
     "output_type": "display_data"
    }
   ],
   "source": [
    "for i in np.random.choice(vitals.index.levels[0], 10):\n",
    "    vitals[\"hemoglobin\"].loc[i].plot()"
   ]
  },
  {
   "cell_type": "code",
   "execution_count": null,
   "id": "77124069",
   "metadata": {},
   "outputs": [],
   "source": []
  },
  {
   "cell_type": "code",
   "execution_count": 53,
   "id": "042ba631",
   "metadata": {},
   "outputs": [
    {
     "data": {
      "text/plain": [
       "<AxesSubplot:xlabel='hours_in'>"
      ]
     },
     "execution_count": 53,
     "metadata": {},
     "output_type": "execute_result"
    },
    {
     "data": {
      "image/png": "[encoded data removed]",
      "text/plain": [
       "<Figure size 432x288 with 1 Axes>"
      ]
     },
     "metadata": {
      "needs_background": "light"
     },
     "output_type": "display_data"
    }
   ],
   "source": [
    "vitals[\"heart rate\"].loc[3].plot()"
   ]
  },
  {
   "cell_type": "code",
   "execution_count": null,
   "id": "d40bd68e",
   "metadata": {},
   "outputs": [],
   "source": []
  }
 ],
 "metadata": {
  "kernelspec": {
   "display_name": "Python 3 (ipykernel)",
   "language": "python",
   "name": "python3"
  },
  "language_info": {
   "codemirror_mode": {
    "name": "ipython",
    "version": 3
   },
   "file_extension": ".py",
   "mimetype": "text/x-python",
   "name": "python",
   "nbconvert_exporter": "python",
   "pygments_lexer": "ipython3",
   "version": "3.10.4"
  }
 },
 "nbformat": 4,
 "nbformat_minor": 5
}
