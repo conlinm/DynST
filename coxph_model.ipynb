{
 "cells": [
  {
   "cell_type": "code",
   "execution_count": 10,
   "id": "2f83364d",
   "metadata": {},
   "outputs": [],
   "source": [
    "import pandas as pd\n",
    "from lifelines import CoxPHFitter\n",
    "from sklearn.model_selection import train_test_split\n",
    "import numpy as np"
   ]
  },
  {
   "cell_type": "markdown",
   "id": "4e3ada04",
   "metadata": {},
   "source": [
    "### First Nonlinear Dataset"
   ]
  },
  {
   "cell_type": "code",
   "execution_count": 11,
   "id": "3c4aaa5f",
   "metadata": {},
   "outputs": [],
   "source": [
    "df = pd.read_csv(\"data/nonlinear_sim_916.csv\", index_col=[0,1])"
   ]
  },
  {
   "cell_type": "code",
   "execution_count": 12,
   "id": "e04a13b0",
   "metadata": {},
   "outputs": [],
   "source": [
    "df_sub = df.drop(\n",
    "    columns=[\"treated\", \"control\", \"hazard\", \"q\", \"survival_prob\", \n",
    "             \"survives\", \"censored\",\"corrected_survival\", \"critical\", \"first_failure\"]\n",
    ")\n",
    "df_flat = df_sub.groupby(level=0).mean()"
   ]
  },
  {
   "cell_type": "code",
   "execution_count": 13,
   "id": "5ed80144",
   "metadata": {},
   "outputs": [],
   "source": [
    "df_flat[\"total_hours\"] = df.groupby(level=0)[\"corrected_survival\"].sum()\n",
    "df_flat[\"uncensored\"] = (df.groupby(level=0)[\"corrected_survival\"].min() == 0).astype(int)"
   ]
  },
  {
   "cell_type": "code",
   "execution_count": null,
   "id": "d35cd063",
   "metadata": {},
   "outputs": [],
   "source": [
    "train, rest = train_test_split(df_flat, test_size=0.7, random_state=seed)\n",
    "val, test = train_test_split(rest, test_size=0.5, random_state=seed)\n",
    "for lam in [0, .01, .1]:\n",
    "    cph = CoxPHFitter(penalizer=lam)\n",
    "    cph.fit(train, duration_col=\"total_hours\", event_col=\"uncensored\")\n",
    "    ci_scores.append(cph.score(test, scoring_method=\"concordance_index\"))\n",
    "    y_hat = cph.predict_expectation(test)\n",
    "    a = np.abs((test[\"total_hours\"] - y_hat)[test[\"uncensored\"].astype(bool)]).sum()\n",
    "    b = np.maximum(np.zeros(test.shape[0]), test[\"total_hours\"] - y_hat).sum()\n",
    "    maes.append((a + b) / test.shape[0])"
   ]
  },
  {
   "cell_type": "code",
   "execution_count": 14,
   "id": "b1f7ef66",
   "metadata": {},
   "outputs": [],
   "source": [
    "ci_scores = []\n",
    "maes = []\n",
    "for seed in [71, 72, 73, 74, 75, 76, 77]:\n",
    "    train, test = train_test_split(df_flat, test_size=0.2, random_state=seed)\n",
    "    cph = CoxPHFitter()\n",
    "    cph.fit(train, duration_col=\"total_hours\", event_col=\"uncensored\")\n",
    "    ci_scores.append(cph.score(test, scoring_method=\"concordance_index\"))\n",
    "    y_hat = cph.predict_expectation(test)\n",
    "    a = np.abs((test[\"total_hours\"] - y_hat)[test[\"uncensored\"].astype(bool)]).sum()\n",
    "    b = np.maximum(np.zeros(test.shape[0]), test[\"total_hours\"] - y_hat).sum()\n",
    "    maes.append((a + b) / test.shape[0])"
   ]
  },
  {
   "cell_type": "code",
   "execution_count": 15,
   "id": "a0101a69",
   "metadata": {},
   "outputs": [
    {
     "data": {
      "text/plain": [
       "0.7265341222269136"
      ]
     },
     "execution_count": 15,
     "metadata": {},
     "output_type": "execute_result"
    }
   ],
   "source": [
    "np.mean(ci_scores)"
   ]
  },
  {
   "cell_type": "code",
   "execution_count": 16,
   "id": "89c87481",
   "metadata": {},
   "outputs": [
    {
     "data": {
      "text/plain": [
       "16.477938545676974"
      ]
     },
     "execution_count": 16,
     "metadata": {},
     "output_type": "execute_result"
    }
   ],
   "source": [
    "np.mean(maes)"
   ]
  },
  {
   "cell_type": "markdown",
   "id": "ffa66a03",
   "metadata": {},
   "source": [
    "### Second Nonlinear Dataset"
   ]
  },
  {
   "cell_type": "code",
   "execution_count": 4,
   "id": "e4d8b6b5",
   "metadata": {},
   "outputs": [],
   "source": [
    "df = pd.read_csv(\"../data/nonlinear_sim2.csv\", index_col=[0,1])"
   ]
  },
  {
   "cell_type": "code",
   "execution_count": 19,
   "id": "6dbe8b16",
   "metadata": {},
   "outputs": [],
   "source": [
    "df_sub = df.drop(\n",
    "    columns=[\"treated\", \"control\", \"hazard\", \"q\", \"survival_prob\", \n",
    "             \"survives\", \"censored\",\"corrected_survival\", \"critical\", \"first_failure\"]\n",
    ")\n",
    "df_flat = df_sub.groupby(level=0).mean()"
   ]
  },
  {
   "cell_type": "code",
   "execution_count": 20,
   "id": "98beea98",
   "metadata": {},
   "outputs": [],
   "source": [
    "df_flat[\"total_hours\"] = df.groupby(level=0)[\"corrected_survival\"].sum()\n",
    "df_flat[\"uncensored\"] = (df.groupby(level=0)[\"corrected_survival\"].min() == 0).astype(int)"
   ]
  },
  {
   "cell_type": "code",
   "execution_count": 21,
   "id": "23b1b231",
   "metadata": {},
   "outputs": [],
   "source": [
    "ci_scores = []\n",
    "maes = []\n",
    "for seed in [71, 72, 73, 74, 75, 76, 77]:\n",
    "    train, test = train_test_split(df_flat, test_size=0.2, random_state=seed)\n",
    "    cph = CoxPHFitter()\n",
    "    cph.fit(train, duration_col=\"total_hours\", event_col=\"uncensored\")\n",
    "    ci_scores.append(cph.score(test, scoring_method=\"concordance_index\"))\n",
    "    y_hat = cph.predict_expectation(test)\n",
    "    a = np.abs((test[\"total_hours\"] - y_hat)[test[\"uncensored\"].astype(bool)]).sum()\n",
    "    b = np.maximum(np.zeros(test.shape[0]), test[\"total_hours\"] - y_hat).sum()\n",
    "    maes.append((a + b) / test.shape[0])"
   ]
  },
  {
   "cell_type": "code",
   "execution_count": 22,
   "id": "b020027c",
   "metadata": {},
   "outputs": [
    {
     "data": {
      "text/plain": [
       "0.770620437376633"
      ]
     },
     "execution_count": 22,
     "metadata": {},
     "output_type": "execute_result"
    }
   ],
   "source": [
    "np.mean(ci_scores)"
   ]
  },
  {
   "cell_type": "code",
   "execution_count": 23,
   "id": "755cfa69",
   "metadata": {},
   "outputs": [
    {
     "data": {
      "text/plain": [
       "13.581765611710567"
      ]
     },
     "execution_count": 23,
     "metadata": {},
     "output_type": "execute_result"
    }
   ],
   "source": [
    "np.mean(maes)"
   ]
  }
 ],
 "metadata": {
  "kernelspec": {
   "display_name": "Python 3 (ipykernel)",
   "language": "python",
   "name": "python3"
  },
  "language_info": {
   "codemirror_mode": {
    "name": "ipython",
    "version": 3
   },
   "file_extension": ".py",
   "mimetype": "text/x-python",
   "name": "python",
   "nbconvert_exporter": "python",
   "pygments_lexer": "ipython3",
   "version": "3.8.10"
  }
 },
 "nbformat": 4,
 "nbformat_minor": 5
}
