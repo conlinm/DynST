{
 "cells": [
  {
   "cell_type": "code",
   "execution_count": 1,
   "id": "2f83364d",
   "metadata": {},
   "outputs": [],
   "source": [
    "import pandas as pd\n",
    "from lifelines import CoxPHFitter\n",
    "from sklearn.model_selection import train_test_split\n",
    "import numpy as np"
   ]
  },
  {
   "cell_type": "markdown",
   "id": "349e550c",
   "metadata": {},
   "source": [
    "#### About\n",
    "\n",
    "Baseline Performance of an Oracle Cox Proportional Hazards model"
   ]
  },
  {
   "cell_type": "code",
   "execution_count": 2,
   "id": "3c4aaa5f",
   "metadata": {},
   "outputs": [],
   "source": [
    "df = pd.read_csv(\"data/mimic3_df_30.csv\", index_col=[0,1])"
   ]
  },
  {
   "cell_type": "code",
   "execution_count": 3,
   "id": "e04a13b0",
   "metadata": {},
   "outputs": [],
   "source": [
    "df_sub = df.drop(\n",
    "    columns=[\"treated\", \"control\", \"hazard\", \"q\", \"survival_prob\", \n",
    "             \"survives\", \"censored\",\"corrected_survival\", \"critical\", \"first_failure\",\n",
    "            \"baseline_hazard\"]\n",
    ")\n",
    "df_flat = df_sub.groupby(level=0).mean()"
   ]
  },
  {
   "cell_type": "code",
   "execution_count": 4,
   "id": "5ed80144",
   "metadata": {},
   "outputs": [],
   "source": [
    "df_flat[\"total_hours\"] = df.groupby(level=0)[\"corrected_survival\"].sum()\n",
    "df_flat[\"uncensored\"] = (df.groupby(level=0)[\"corrected_survival\"].min() == 0).astype(int)"
   ]
  },
  {
   "cell_type": "code",
   "execution_count": 5,
   "id": "eebaf0ec",
   "metadata": {},
   "outputs": [],
   "source": [
    "def mae(df, y_hat):\n",
    "    a = np.abs((df[\"total_hours\"] - y_hat)[df[\"uncensored\"].astype(bool)]).sum()\n",
    "    b = np.maximum(np.zeros(df.shape[0]), df[\"total_hours\"] - y_hat).sum()\n",
    "    return (a + b) / df.shape[0]"
   ]
  },
  {
   "cell_type": "code",
   "execution_count": 6,
   "id": "59918419",
   "metadata": {},
   "outputs": [
    {
     "data": {
      "text/html": [
       "<div>\n",
       "<style scoped>\n",
       "    .dataframe tbody tr th:only-of-type {\n",
       "        vertical-align: middle;\n",
       "    }\n",
       "\n",
       "    .dataframe tbody tr th {\n",
       "        vertical-align: top;\n",
       "    }\n",
       "\n",
       "    .dataframe thead th {\n",
       "        text-align: right;\n",
       "    }\n",
       "</style>\n",
       "<table border=\"1\" class=\"dataframe\">\n",
       "  <thead>\n",
       "    <tr style=\"text-align: right;\">\n",
       "      <th></th>\n",
       "      <th>gender</th>\n",
       "      <th>stay_length</th>\n",
       "      <th>hypertension</th>\n",
       "      <th>coronary_ath</th>\n",
       "      <th>atrial_fib</th>\n",
       "      <th>hematocrit</th>\n",
       "      <th>hemoglobin</th>\n",
       "      <th>platelets</th>\n",
       "      <th>mean blood pressure</th>\n",
       "      <th>A</th>\n",
       "      <th>total_hours</th>\n",
       "      <th>uncensored</th>\n",
       "    </tr>\n",
       "    <tr>\n",
       "      <th>subject_id</th>\n",
       "      <th></th>\n",
       "      <th></th>\n",
       "      <th></th>\n",
       "      <th></th>\n",
       "      <th></th>\n",
       "      <th></th>\n",
       "      <th></th>\n",
       "      <th></th>\n",
       "      <th></th>\n",
       "      <th></th>\n",
       "      <th></th>\n",
       "      <th></th>\n",
       "    </tr>\n",
       "  </thead>\n",
       "  <tbody>\n",
       "    <tr>\n",
       "      <th>4</th>\n",
       "      <td>0.0</td>\n",
       "      <td>-0.360949</td>\n",
       "      <td>0.0</td>\n",
       "      <td>0.0</td>\n",
       "      <td>0.0</td>\n",
       "      <td>0.036834</td>\n",
       "      <td>-0.079433</td>\n",
       "      <td>0.041209</td>\n",
       "      <td>0.740383</td>\n",
       "      <td>0.0</td>\n",
       "      <td>41</td>\n",
       "      <td>0</td>\n",
       "    </tr>\n",
       "    <tr>\n",
       "      <th>6</th>\n",
       "      <td>0.0</td>\n",
       "      <td>1.359324</td>\n",
       "      <td>0.0</td>\n",
       "      <td>0.0</td>\n",
       "      <td>0.0</td>\n",
       "      <td>0.476099</td>\n",
       "      <td>0.348309</td>\n",
       "      <td>0.183846</td>\n",
       "      <td>0.698708</td>\n",
       "      <td>0.0</td>\n",
       "      <td>8</td>\n",
       "      <td>1</td>\n",
       "    </tr>\n",
       "    <tr>\n",
       "      <th>9</th>\n",
       "      <td>1.0</td>\n",
       "      <td>2.757045</td>\n",
       "      <td>1.0</td>\n",
       "      <td>0.0</td>\n",
       "      <td>0.0</td>\n",
       "      <td>1.195403</td>\n",
       "      <td>1.210150</td>\n",
       "      <td>0.519788</td>\n",
       "      <td>1.060392</td>\n",
       "      <td>0.0</td>\n",
       "      <td>11</td>\n",
       "      <td>1</td>\n",
       "    </tr>\n",
       "    <tr>\n",
       "      <th>11</th>\n",
       "      <td>0.0</td>\n",
       "      <td>-0.432627</td>\n",
       "      <td>0.0</td>\n",
       "      <td>0.0</td>\n",
       "      <td>0.0</td>\n",
       "      <td>1.060155</td>\n",
       "      <td>1.016993</td>\n",
       "      <td>0.348131</td>\n",
       "      <td>-0.467836</td>\n",
       "      <td>0.0</td>\n",
       "      <td>39</td>\n",
       "      <td>0</td>\n",
       "    </tr>\n",
       "    <tr>\n",
       "      <th>13</th>\n",
       "      <td>0.0</td>\n",
       "      <td>1.323485</td>\n",
       "      <td>1.0</td>\n",
       "      <td>1.0</td>\n",
       "      <td>0.0</td>\n",
       "      <td>-0.087935</td>\n",
       "      <td>-0.180417</td>\n",
       "      <td>-0.808778</td>\n",
       "      <td>0.477129</td>\n",
       "      <td>0.0</td>\n",
       "      <td>44</td>\n",
       "      <td>1</td>\n",
       "    </tr>\n",
       "  </tbody>\n",
       "</table>\n",
       "</div>"
      ],
      "text/plain": [
       "            gender  stay_length  hypertension  coronary_ath  atrial_fib  \\\n",
       "subject_id                                                                \n",
       "4              0.0    -0.360949           0.0           0.0         0.0   \n",
       "6              0.0     1.359324           0.0           0.0         0.0   \n",
       "9              1.0     2.757045           1.0           0.0         0.0   \n",
       "11             0.0    -0.432627           0.0           0.0         0.0   \n",
       "13             0.0     1.323485           1.0           1.0         0.0   \n",
       "\n",
       "            hematocrit  hemoglobin  platelets  mean blood pressure    A  \\\n",
       "subject_id                                                                \n",
       "4             0.036834   -0.079433   0.041209             0.740383  0.0   \n",
       "6             0.476099    0.348309   0.183846             0.698708  0.0   \n",
       "9             1.195403    1.210150   0.519788             1.060392  0.0   \n",
       "11            1.060155    1.016993   0.348131            -0.467836  0.0   \n",
       "13           -0.087935   -0.180417  -0.808778             0.477129  0.0   \n",
       "\n",
       "            total_hours  uncensored  \n",
       "subject_id                           \n",
       "4                    41           0  \n",
       "6                     8           1  \n",
       "9                    11           1  \n",
       "11                   39           0  \n",
       "13                   44           1  "
      ]
     },
     "execution_count": 6,
     "metadata": {},
     "output_type": "execute_result"
    }
   ],
   "source": [
    "df_flat.head()"
   ]
  },
  {
   "cell_type": "code",
   "execution_count": 7,
   "id": "b1f7ef66",
   "metadata": {},
   "outputs": [
    {
     "name": "stdout",
     "output_type": "stream",
     "text": [
      "71\n",
      "72\n",
      "73\n",
      "74\n",
      "75\n",
      "76\n",
      "77\n"
     ]
    }
   ],
   "source": [
    "maes = []\n",
    "cis = []\n",
    "for seed in [71, 72, 73, 74, 75, 76, 77]:\n",
    "    print(seed)\n",
    "    train, rest = train_test_split(df_flat, train_size=0.7, random_state=seed)\n",
    "    val, test = train_test_split(rest, test_size=0.5, random_state=seed)\n",
    "    val_scores = []\n",
    "    val_cis = []\n",
    "    test_scores = []\n",
    "    test_cis = []\n",
    "    for lam in [0, .1, .2,]:\n",
    "        for r in [.1, .2]:\n",
    "            cph = CoxPHFitter(penalizer=lam, l1_ratio=r)\n",
    "            cph.fit(train, duration_col=\"total_hours\", event_col=\"uncensored\")\n",
    "            y_hat_val = cph.predict_expectation(val)\n",
    "            val_scores.append(mae(val, y_hat_val))\n",
    "            y_hat_test = cph.predict_expectation(test)\n",
    "            test_scores.append(mae(test, y_hat_test))\n",
    "            val_cis.append(cph.score(val, \"concordance_index\"))\n",
    "            test_cis.append(cph.score(test, \"concordance_index\"))\n",
    "    best_ix = np.argmin(val_scores)\n",
    "    best2 = np.argmin(test_scores)\n",
    "    maes.append(test_scores[best_ix])\n",
    "    cis.append(test_cis[best2])"
   ]
  },
  {
   "cell_type": "code",
   "execution_count": 12,
   "id": "a2e2f7ca",
   "metadata": {},
   "outputs": [
    {
     "data": {
      "text/plain": [
       "[16.382231334035115,\n",
       " 16.382231334035115,\n",
       " 16.055424052817813,\n",
       " 16.050853797460622,\n",
       " 16.107690687223034,\n",
       " 16.248261454003153]"
      ]
     },
     "execution_count": 12,
     "metadata": {},
     "output_type": "execute_result"
    }
   ],
   "source": [
    "val_scores"
   ]
  },
  {
   "cell_type": "code",
   "execution_count": 8,
   "id": "c9d14578",
   "metadata": {},
   "outputs": [
    {
     "data": {
      "text/plain": [
       "[16.152028999146633,\n",
       " 16.21436190365927,\n",
       " 16.135267209966496,\n",
       " 15.44158683598311,\n",
       " 16.156144117906955,\n",
       " 16.045681186467082,\n",
       " 16.159166149032547]"
      ]
     },
     "execution_count": 8,
     "metadata": {},
     "output_type": "execute_result"
    }
   ],
   "source": [
    "maes"
   ]
  },
  {
   "cell_type": "code",
   "execution_count": 9,
   "id": "08c8fadc",
   "metadata": {},
   "outputs": [
    {
     "data": {
      "text/plain": [
       "[0.7255777850280652,\n",
       " 0.726912349257252,\n",
       " 0.7203486264726358,\n",
       " 0.7331455904125083,\n",
       " 0.7224752386630594,\n",
       " 0.7241564587502033,\n",
       " 0.7243051224904751]"
      ]
     },
     "execution_count": 9,
     "metadata": {},
     "output_type": "execute_result"
    }
   ],
   "source": [
    "cis"
   ]
  },
  {
   "cell_type": "code",
   "execution_count": 11,
   "id": "9ef252ad",
   "metadata": {},
   "outputs": [
    {
     "data": {
      "text/plain": [
       "(16.043462343166013, 0.25007573555650764)"
      ]
     },
     "execution_count": 11,
     "metadata": {},
     "output_type": "execute_result"
    }
   ],
   "source": [
    "np.mean(maes), np.std(maes)"
   ]
  },
  {
   "cell_type": "code",
   "execution_count": null,
   "id": "61f60e07",
   "metadata": {},
   "outputs": [],
   "source": []
  }
 ],
 "metadata": {
  "kernelspec": {
   "display_name": "Python 3 (ipykernel)",
   "language": "python",
   "name": "python3"
  },
  "language_info": {
   "codemirror_mode": {
    "name": "ipython",
    "version": 3
   },
   "file_extension": ".py",
   "mimetype": "text/x-python",
   "name": "python",
   "nbconvert_exporter": "python",
   "pygments_lexer": "ipython3",
   "version": "3.8.10"
  }
 },
 "nbformat": 4,
 "nbformat_minor": 5
}
