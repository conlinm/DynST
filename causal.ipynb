{
 "cells": [
  {
   "cell_type": "code",
   "execution_count": 1,
   "id": "ae6c602b",
   "metadata": {},
   "outputs": [],
   "source": [
    "from src.dataset import Mimic3Dataset, padded_collate\n",
    "from src.model import DST\n",
    "import pdb\n",
    "import numpy as np\n",
    "import torch\n",
    "import pytorch_lightning as pl\n",
    "import pandas as pd\n",
    "from sklearn.linear_model import LogisticRegressionCV\n",
    "from sklearn.model_selection import train_test_split"
   ]
  },
  {
   "cell_type": "markdown",
   "id": "02ad6665",
   "metadata": {},
   "source": [
    "#### True ATE\n",
    "\n",
    "0.767 hours"
   ]
  },
  {
   "cell_type": "markdown",
   "id": "8b4e3b4e",
   "metadata": {},
   "source": [
    "### Outcome Regression"
   ]
  },
  {
   "cell_type": "code",
   "execution_count": 3,
   "id": "6d1ed5d5",
   "metadata": {},
   "outputs": [],
   "source": [
    "dataset_treated = Mimic3Dataset(\".\", intervention=True)\n",
    "dataset_control = Mimic3Dataset(\".\", intervention=False)"
   ]
  },
  {
   "cell_type": "code",
   "execution_count": 4,
   "id": "61cf1ce6",
   "metadata": {},
   "outputs": [],
   "source": [
    "path = \"multirun/2022-09-08/22-00-41/7/lightning_logs/version_0/checkpoints/epoch=0-step=1517.ckpt\""
   ]
  },
  {
   "cell_type": "code",
   "execution_count": 5,
   "id": "43e972ce",
   "metadata": {},
   "outputs": [
    {
     "name": "stderr",
     "output_type": "stream",
     "text": [
      "/home/pchatha/.cache/pypoetry/virtualenvs/mimic-sc_0JIDI-py3.8/lib/python3.8/site-packages/torchmetrics/utilities/prints.py:36: UserWarning: Torchmetrics v0.9 introduced a new argument class property called `full_state_update` that has\n",
      "                not been set for this class (ConcordanceIndex). The property determines if `update` by\n",
      "                default needs access to the full metric state. If this is not the case, significant speedups can be\n",
      "                achieved and we recommend setting this to `False`.\n",
      "                We provide an checking function\n",
      "                `from torchmetrics.utilities import check_forward_no_full_state`\n",
      "                that can be used to check if the `full_state_update=True` (old and potential slower behaviour,\n",
      "                default for now) or if `full_state_update=False` can be used safely.\n",
      "                \n",
      "  warnings.warn(*args, **kwargs)\n"
     ]
    }
   ],
   "source": [
    "model = DST.load_from_checkpoint(path)"
   ]
  },
  {
   "cell_type": "code",
   "execution_count": 6,
   "id": "743c25b3",
   "metadata": {},
   "outputs": [],
   "source": [
    "collate_fn = lambda x: padded_collate(x, pad_index=-100)\n",
    "def get_predictions(dataset):\n",
    "    dl = torch.utils.data.DataLoader(dataset, collate_fn=collate_fn, batch_size=128)\n",
    "    predictor = pl.Trainer(gpus=[5])\n",
    "    predictions = predictor.predict(model, dataloaders=dl)\n",
    "    return torch.cat(predictions)"
   ]
  },
  {
   "cell_type": "code",
   "execution_count": 7,
   "id": "2df5ae6b",
   "metadata": {},
   "outputs": [
    {
     "name": "stderr",
     "output_type": "stream",
     "text": [
      "/home/pchatha/.cache/pypoetry/virtualenvs/mimic-sc_0JIDI-py3.8/lib/python3.8/site-packages/pytorch_lightning/loops/utilities.py:92: PossibleUserWarning: `max_epochs` was not set. Setting it to 1000 epochs. To train without an epoch limit, set `max_epochs=-1`.\n",
      "  rank_zero_warn(\n",
      "GPU available: True, used: True\n",
      "TPU available: False, using: 0 TPU cores\n",
      "IPU available: False, using: 0 IPUs\n",
      "HPU available: False, using: 0 HPUs\n",
      "LOCAL_RANK: 0 - CUDA_VISIBLE_DEVICES: [0,1,2,3,4,5,6,7]\n",
      "/home/pchatha/.cache/pypoetry/virtualenvs/mimic-sc_0JIDI-py3.8/lib/python3.8/site-packages/pytorch_lightning/trainer/connectors/data_connector.py:240: PossibleUserWarning: The dataloader, predict_dataloader 0, does not have many workers which may be a bottleneck. Consider increasing the value of the `num_workers` argument` (try 64 which is the number of cpus on this machine) in the `DataLoader` init to improve performance.\n",
      "  rank_zero_warn(\n"
     ]
    },
    {
     "data": {
      "application/vnd.jupyter.widget-view+json": {
       "model_id": "6ac060ead7284641893d88c05a37b724",
       "version_major": 2,
       "version_minor": 0
      },
      "text/plain": [
       "Predicting: 0it [00:00, ?it/s]"
      ]
     },
     "metadata": {},
     "output_type": "display_data"
    },
    {
     "name": "stderr",
     "output_type": "stream",
     "text": [
      "/home/pchatha/mimic/src/dataset.py:35: UserWarning: To copy construct from a tensor, it is recommended to use sourceTensor.clone().detach() or sourceTensor.clone().detach().requires_grad_(True), rather than torch.tensor(sourceTensor).\n",
      "  item[\"codes\"] = torch.tensor(\n"
     ]
    }
   ],
   "source": [
    "predict_treated = get_predictions(dataset_treated)"
   ]
  },
  {
   "cell_type": "code",
   "execution_count": 8,
   "id": "3a6de38b",
   "metadata": {},
   "outputs": [
    {
     "name": "stderr",
     "output_type": "stream",
     "text": [
      "GPU available: True, used: True\n",
      "TPU available: False, using: 0 TPU cores\n",
      "IPU available: False, using: 0 IPUs\n",
      "HPU available: False, using: 0 HPUs\n",
      "LOCAL_RANK: 0 - CUDA_VISIBLE_DEVICES: [0,1,2,3,4,5,6,7]\n"
     ]
    },
    {
     "data": {
      "application/vnd.jupyter.widget-view+json": {
       "model_id": "43725ba7689547218ec0047b32b2136b",
       "version_major": 2,
       "version_minor": 0
      },
      "text/plain": [
       "Predicting: 0it [00:00, ?it/s]"
      ]
     },
     "metadata": {},
     "output_type": "display_data"
    }
   ],
   "source": [
    "predict_control = get_predictions(dataset_control)"
   ]
  },
  {
   "cell_type": "markdown",
   "id": "83bc4f33",
   "metadata": {},
   "source": [
    "#### Outcome Regression Estimate"
   ]
  },
  {
   "cell_type": "code",
   "execution_count": 9,
   "id": "ac057151",
   "metadata": {},
   "outputs": [
    {
     "data": {
      "text/plain": [
       "tensor(0.3809)"
      ]
     },
     "execution_count": 9,
     "metadata": {},
     "output_type": "execute_result"
    }
   ],
   "source": [
    "tau = torch.full(predict_treated.shape, 16)\n",
    "ey_x1 = torch.minimum(tau, predict_treated)\n",
    "ey_x0 = torch.minimum(tau, predict_control)\n",
    "(ey_x1 - ey_x0).mean()"
   ]
  },
  {
   "cell_type": "markdown",
   "id": "33c6d27a",
   "metadata": {},
   "source": [
    "### Propensity Score Weighing"
   ]
  },
  {
   "cell_type": "code",
   "execution_count": 11,
   "id": "d76d62f0",
   "metadata": {},
   "outputs": [
    {
     "data": {
      "text/html": [
       "<div>\n",
       "<style scoped>\n",
       "    .dataframe tbody tr th:only-of-type {\n",
       "        vertical-align: middle;\n",
       "    }\n",
       "\n",
       "    .dataframe tbody tr th {\n",
       "        vertical-align: top;\n",
       "    }\n",
       "\n",
       "    .dataframe thead th {\n",
       "        text-align: right;\n",
       "    }\n",
       "</style>\n",
       "<table border=\"1\" class=\"dataframe\">\n",
       "  <thead>\n",
       "    <tr style=\"text-align: right;\">\n",
       "      <th></th>\n",
       "      <th></th>\n",
       "      <th>gender</th>\n",
       "      <th>stay_length</th>\n",
       "      <th>vent</th>\n",
       "      <th>hypertension</th>\n",
       "      <th>coronary_ath</th>\n",
       "      <th>atrial_fib</th>\n",
       "      <th>hematocrit</th>\n",
       "      <th>hemoglobin</th>\n",
       "      <th>platelets</th>\n",
       "      <th>mean blood pressure</th>\n",
       "      <th>treated</th>\n",
       "      <th>control</th>\n",
       "      <th>baseline_hazard</th>\n",
       "      <th>hazard</th>\n",
       "      <th>q</th>\n",
       "      <th>survival_prob</th>\n",
       "      <th>survives</th>\n",
       "      <th>first_failure</th>\n",
       "      <th>censored</th>\n",
       "      <th>corrected_survival</th>\n",
       "    </tr>\n",
       "    <tr>\n",
       "      <th>subject_id</th>\n",
       "      <th>hours_in</th>\n",
       "      <th></th>\n",
       "      <th></th>\n",
       "      <th></th>\n",
       "      <th></th>\n",
       "      <th></th>\n",
       "      <th></th>\n",
       "      <th></th>\n",
       "      <th></th>\n",
       "      <th></th>\n",
       "      <th></th>\n",
       "      <th></th>\n",
       "      <th></th>\n",
       "      <th></th>\n",
       "      <th></th>\n",
       "      <th></th>\n",
       "      <th></th>\n",
       "      <th></th>\n",
       "      <th></th>\n",
       "      <th></th>\n",
       "      <th></th>\n",
       "    </tr>\n",
       "  </thead>\n",
       "  <tbody>\n",
       "    <tr>\n",
       "      <th rowspan=\"5\" valign=\"top\">4</th>\n",
       "      <th>0</th>\n",
       "      <td>0</td>\n",
       "      <td>-0.360949</td>\n",
       "      <td>0</td>\n",
       "      <td>0</td>\n",
       "      <td>0</td>\n",
       "      <td>0</td>\n",
       "      <td>0.076528</td>\n",
       "      <td>-0.111641</td>\n",
       "      <td>-0.187116</td>\n",
       "      <td>2.523323</td>\n",
       "      <td>1</td>\n",
       "      <td>0</td>\n",
       "      <td>0.001000</td>\n",
       "      <td>0.000596</td>\n",
       "      <td>0.999404</td>\n",
       "      <td>0.999404</td>\n",
       "      <td>1</td>\n",
       "      <td>NaN</td>\n",
       "      <td>False</td>\n",
       "      <td>1</td>\n",
       "    </tr>\n",
       "    <tr>\n",
       "      <th>1</th>\n",
       "      <td>0</td>\n",
       "      <td>-0.360949</td>\n",
       "      <td>0</td>\n",
       "      <td>0</td>\n",
       "      <td>0</td>\n",
       "      <td>0</td>\n",
       "      <td>0.076528</td>\n",
       "      <td>-0.111641</td>\n",
       "      <td>-0.187116</td>\n",
       "      <td>0.082396</td>\n",
       "      <td>1</td>\n",
       "      <td>0</td>\n",
       "      <td>0.000951</td>\n",
       "      <td>0.000739</td>\n",
       "      <td>0.999261</td>\n",
       "      <td>0.998666</td>\n",
       "      <td>1</td>\n",
       "      <td>NaN</td>\n",
       "      <td>False</td>\n",
       "      <td>1</td>\n",
       "    </tr>\n",
       "    <tr>\n",
       "      <th>2</th>\n",
       "      <td>0</td>\n",
       "      <td>-0.360949</td>\n",
       "      <td>0</td>\n",
       "      <td>0</td>\n",
       "      <td>0</td>\n",
       "      <td>0</td>\n",
       "      <td>0.076528</td>\n",
       "      <td>-0.111641</td>\n",
       "      <td>-0.187116</td>\n",
       "      <td>0.082396</td>\n",
       "      <td>1</td>\n",
       "      <td>0</td>\n",
       "      <td>0.000905</td>\n",
       "      <td>0.000703</td>\n",
       "      <td>0.999297</td>\n",
       "      <td>0.997964</td>\n",
       "      <td>1</td>\n",
       "      <td>NaN</td>\n",
       "      <td>False</td>\n",
       "      <td>1</td>\n",
       "    </tr>\n",
       "    <tr>\n",
       "      <th>3</th>\n",
       "      <td>0</td>\n",
       "      <td>-0.360949</td>\n",
       "      <td>0</td>\n",
       "      <td>0</td>\n",
       "      <td>0</td>\n",
       "      <td>0</td>\n",
       "      <td>0.076528</td>\n",
       "      <td>-0.111641</td>\n",
       "      <td>-0.187116</td>\n",
       "      <td>-0.490692</td>\n",
       "      <td>1</td>\n",
       "      <td>0</td>\n",
       "      <td>0.000861</td>\n",
       "      <td>0.000712</td>\n",
       "      <td>0.999288</td>\n",
       "      <td>0.997253</td>\n",
       "      <td>1</td>\n",
       "      <td>NaN</td>\n",
       "      <td>False</td>\n",
       "      <td>1</td>\n",
       "    </tr>\n",
       "    <tr>\n",
       "      <th>4</th>\n",
       "      <td>0</td>\n",
       "      <td>-0.360949</td>\n",
       "      <td>0</td>\n",
       "      <td>0</td>\n",
       "      <td>0</td>\n",
       "      <td>0</td>\n",
       "      <td>0.076528</td>\n",
       "      <td>-0.111641</td>\n",
       "      <td>-0.187116</td>\n",
       "      <td>-0.320892</td>\n",
       "      <td>1</td>\n",
       "      <td>0</td>\n",
       "      <td>0.000819</td>\n",
       "      <td>0.000665</td>\n",
       "      <td>0.999335</td>\n",
       "      <td>0.996590</td>\n",
       "      <td>1</td>\n",
       "      <td>NaN</td>\n",
       "      <td>False</td>\n",
       "      <td>1</td>\n",
       "    </tr>\n",
       "  </tbody>\n",
       "</table>\n",
       "</div>"
      ],
      "text/plain": [
       "                     gender  stay_length  vent  hypertension  coronary_ath  \\\n",
       "subject_id hours_in                                                          \n",
       "4          0              0    -0.360949     0             0             0   \n",
       "           1              0    -0.360949     0             0             0   \n",
       "           2              0    -0.360949     0             0             0   \n",
       "           3              0    -0.360949     0             0             0   \n",
       "           4              0    -0.360949     0             0             0   \n",
       "\n",
       "                     atrial_fib  hematocrit  hemoglobin  platelets  \\\n",
       "subject_id hours_in                                                  \n",
       "4          0                  0    0.076528   -0.111641  -0.187116   \n",
       "           1                  0    0.076528   -0.111641  -0.187116   \n",
       "           2                  0    0.076528   -0.111641  -0.187116   \n",
       "           3                  0    0.076528   -0.111641  -0.187116   \n",
       "           4                  0    0.076528   -0.111641  -0.187116   \n",
       "\n",
       "                     mean blood pressure  treated  control  baseline_hazard  \\\n",
       "subject_id hours_in                                                           \n",
       "4          0                    2.523323        1        0         0.001000   \n",
       "           1                    0.082396        1        0         0.000951   \n",
       "           2                    0.082396        1        0         0.000905   \n",
       "           3                   -0.490692        1        0         0.000861   \n",
       "           4                   -0.320892        1        0         0.000819   \n",
       "\n",
       "                       hazard         q  survival_prob  survives  \\\n",
       "subject_id hours_in                                                \n",
       "4          0         0.000596  0.999404       0.999404         1   \n",
       "           1         0.000739  0.999261       0.998666         1   \n",
       "           2         0.000703  0.999297       0.997964         1   \n",
       "           3         0.000712  0.999288       0.997253         1   \n",
       "           4         0.000665  0.999335       0.996590         1   \n",
       "\n",
       "                    first_failure  censored  corrected_survival  \n",
       "subject_id hours_in                                              \n",
       "4          0                  NaN     False                   1  \n",
       "           1                  NaN     False                   1  \n",
       "           2                  NaN     False                   1  \n",
       "           3                  NaN     False                   1  \n",
       "           4                  NaN     False                   1  "
      ]
     },
     "execution_count": 11,
     "metadata": {},
     "output_type": "execute_result"
    }
   ],
   "source": [
    "df = pd.read_csv(\"data/mimic3_df_28.csv\", index_col=[0,1])\n",
    "\n",
    "df.head()"
   ]
  },
  {
   "cell_type": "code",
   "execution_count": 12,
   "id": "dbfe649d",
   "metadata": {},
   "outputs": [],
   "source": [
    "cols = [\"gender\", \"vent\", \"hypertension\", \"coronary_ath\", \"atrial_fib\", \"hematocrit\", \"hemoglobin\", \"platelets\", \"mean blood pressure\"]\n",
    "df_flat = df[cols].groupby(level=0).mean() "
   ]
  },
  {
   "cell_type": "code",
   "execution_count": 13,
   "id": "7dcbaaae",
   "metadata": {},
   "outputs": [
    {
     "data": {
      "text/plain": [
       "0.7070870296474623"
      ]
     },
     "execution_count": 13,
     "metadata": {},
     "output_type": "execute_result"
    }
   ],
   "source": [
    "lr = LogisticRegressionCV(random_state=20, max_iter=100)\n",
    "lr.fit(df_flat.drop(columns=\"vent\"), df_flat[\"vent\"])\n",
    "lr.score(df_flat.drop(columns=\"vent\"), df_flat[\"vent\"])"
   ]
  },
  {
   "cell_type": "code",
   "execution_count": 14,
   "id": "f35f6edc",
   "metadata": {},
   "outputs": [],
   "source": [
    "pi_x = lr.predict_proba(df_flat.drop(columns=\"vent\"))[:, 1]"
   ]
  },
  {
   "cell_type": "code",
   "execution_count": 15,
   "id": "4069e66d",
   "metadata": {},
   "outputs": [],
   "source": [
    "_tau = 16\n",
    "surv_restr = df.groupby(level=0)[\"corrected_survival\"].head(_tau)\n",
    "y = surv_restr.groupby(level=0).sum()\n",
    "t = df.groupby(level=0)[\"vent\"].any().astype(int)"
   ]
  },
  {
   "cell_type": "code",
   "execution_count": 16,
   "id": "d625fa0f",
   "metadata": {},
   "outputs": [],
   "source": [
    "w1 = (t / pi_x).sum()\n",
    "w2 = ((1-t) / (1 - pi_x)).sum()"
   ]
  },
  {
   "cell_type": "code",
   "execution_count": 17,
   "id": "7efc7cc9",
   "metadata": {},
   "outputs": [],
   "source": [
    "p1 = (y * t) / pi_x"
   ]
  },
  {
   "cell_type": "code",
   "execution_count": 18,
   "id": "24b1284f",
   "metadata": {},
   "outputs": [
    {
     "data": {
      "text/plain": [
       "0.28514830316372475"
      ]
     },
     "execution_count": 18,
     "metadata": {},
     "output_type": "execute_result"
    }
   ],
   "source": [
    "p2 = ((1 - t) * y) / (1 - pi_x)\n",
    "\n",
    "(p1 - p2).mean()\n",
    "\n",
    "(p1.sum() / w1 ) - (p2.sum() / w2)"
   ]
  },
  {
   "cell_type": "code",
   "execution_count": 19,
   "id": "2623ae88",
   "metadata": {},
   "outputs": [
    {
     "data": {
      "text/plain": [
       "0.8174239532317583"
      ]
     },
     "execution_count": 19,
     "metadata": {},
     "output_type": "execute_result"
    }
   ],
   "source": [
    "(p1 - p2).mean()"
   ]
  },
  {
   "cell_type": "markdown",
   "id": "80d75584",
   "metadata": {},
   "source": [
    "### AIPW"
   ]
  },
  {
   "cell_type": "code",
   "execution_count": 21,
   "id": "0480c280",
   "metadata": {},
   "outputs": [],
   "source": [
    "b1 = ((t * y) / pi_x) - (((1 - t) * y) / (1 - pi_x))\n",
    "b2 = (t - pi_x) / (pi_x * (1 - pi_x)) * ((1 - pi_x) * ey_x1.numpy() + pi_x * ey_x0.numpy())"
   ]
  },
  {
   "cell_type": "code",
   "execution_count": 22,
   "id": "31487fd6",
   "metadata": {},
   "outputs": [
    {
     "data": {
      "text/plain": [
       "0.48162234052044967"
      ]
     },
     "execution_count": 22,
     "metadata": {},
     "output_type": "execute_result"
    }
   ],
   "source": [
    "b1.mean() - b2.mean()"
   ]
  }
 ],
 "metadata": {
  "kernelspec": {
   "display_name": "Python 3 (ipykernel)",
   "language": "python",
   "name": "python3"
  },
  "language_info": {
   "codemirror_mode": {
    "name": "ipython",
    "version": 3
   },
   "file_extension": ".py",
   "mimetype": "text/x-python",
   "name": "python",
   "nbconvert_exporter": "python",
   "pygments_lexer": "ipython3",
   "version": "3.8.10"
  }
 },
 "nbformat": 4,
 "nbformat_minor": 5
}
