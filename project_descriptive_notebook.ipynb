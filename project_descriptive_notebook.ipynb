{
 "cells": [
  {
   "attachments": {},
   "cell_type": "markdown",
   "metadata": {},
   "source": [
    "#### Below is a plot of the baseline hazard function which includes the decreasing risk the longer they survive (the Lindy effect)"
   ]
  },
  {
   "cell_type": "code",
   "execution_count": null,
   "metadata": {},
   "outputs": [],
   "source": [
    "\n",
    "import numpy as np\n",
    "import matplotlib.pyplot as plt\n",
    "\n",
    "# Define the function\n",
    "def baseline_hazard(t):\n",
    "    return 0.001 * np.exp(-0.25 * t)\n",
    "\n",
    "# Define the time array\n",
    "t = np.linspace(0, 10, 100)\n",
    "\n",
    "# Calculate the baseline hazard values\n",
    "baseline_hazard_values = baseline_hazard(t)\n",
    "\n",
    "# Create the plot\n",
    "plt.plot(t, baseline_hazard_values)\n",
    "plt.xlabel('Time')\n",
    "plt.ylabel('Baseline Hazard')\n",
    "plt.title('Baseline Hazard Function')\n",
    "plt.show()\n"
   ]
  }
 ],
 "metadata": {
  "language_info": {
   "name": "python"
  },
  "orig_nbformat": 4
 },
 "nbformat": 4,
 "nbformat_minor": 2
}
